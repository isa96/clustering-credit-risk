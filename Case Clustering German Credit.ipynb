{
 "cells": [
  {
   "cell_type": "markdown",
   "metadata": {},
   "source": [
    "## Load Library"
   ]
  },
  {
   "cell_type": "code",
   "execution_count": 434,
   "metadata": {},
   "outputs": [],
   "source": [
    "import pandas as pd\n",
    "import numpy as np\n",
    "import matplotlib.pyplot as plt\n",
    "import seaborn as sns\n",
    "from sklearn.preprocessing import LabelEncoder\n",
    "from sklearn.cluster import DBSCAN\n",
    "from sklearn.cluster import AgglomerativeClustering\n",
    "from sklearn.cluster import KMeans\n",
    "from sklearn.metrics import silhouette_score\n",
    "import scipy.cluster.hierarchy as sch\n",
    "from sklearn.preprocessing import MinMaxScaler\n",
    "import warnings\n",
    "warnings.filterwarnings('ignore')"
   ]
  },
  {
   "cell_type": "markdown",
   "metadata": {},
   "source": [
    "## Load Dataset"
   ]
  },
  {
   "cell_type": "markdown",
   "metadata": {},
   "source": [
    "In this dataset, each entry represents a person who takes a credit by a bank"
   ]
  },
  {
   "cell_type": "code",
   "execution_count": 435,
   "metadata": {},
   "outputs": [],
   "source": [
    "data = pd.read_csv('german_credit_data.csv')"
   ]
  },
  {
   "cell_type": "code",
   "execution_count": 436,
   "metadata": {
    "scrolled": true
   },
   "outputs": [
    {
     "data": {
      "text/html": [
       "<div>\n",
       "<style scoped>\n",
       "    .dataframe tbody tr th:only-of-type {\n",
       "        vertical-align: middle;\n",
       "    }\n",
       "\n",
       "    .dataframe tbody tr th {\n",
       "        vertical-align: top;\n",
       "    }\n",
       "\n",
       "    .dataframe thead th {\n",
       "        text-align: right;\n",
       "    }\n",
       "</style>\n",
       "<table border=\"1\" class=\"dataframe\">\n",
       "  <thead>\n",
       "    <tr style=\"text-align: right;\">\n",
       "      <th></th>\n",
       "      <th>Unnamed: 0</th>\n",
       "      <th>Age</th>\n",
       "      <th>Sex</th>\n",
       "      <th>Job</th>\n",
       "      <th>Housing</th>\n",
       "      <th>Saving accounts</th>\n",
       "      <th>Checking account</th>\n",
       "      <th>Credit amount</th>\n",
       "      <th>Duration</th>\n",
       "      <th>Purpose</th>\n",
       "    </tr>\n",
       "  </thead>\n",
       "  <tbody>\n",
       "    <tr>\n",
       "      <th>0</th>\n",
       "      <td>0</td>\n",
       "      <td>67</td>\n",
       "      <td>male</td>\n",
       "      <td>2</td>\n",
       "      <td>own</td>\n",
       "      <td>NaN</td>\n",
       "      <td>little</td>\n",
       "      <td>1169</td>\n",
       "      <td>6</td>\n",
       "      <td>radio/TV</td>\n",
       "    </tr>\n",
       "    <tr>\n",
       "      <th>1</th>\n",
       "      <td>1</td>\n",
       "      <td>22</td>\n",
       "      <td>female</td>\n",
       "      <td>2</td>\n",
       "      <td>own</td>\n",
       "      <td>little</td>\n",
       "      <td>moderate</td>\n",
       "      <td>5951</td>\n",
       "      <td>48</td>\n",
       "      <td>radio/TV</td>\n",
       "    </tr>\n",
       "    <tr>\n",
       "      <th>2</th>\n",
       "      <td>2</td>\n",
       "      <td>49</td>\n",
       "      <td>male</td>\n",
       "      <td>1</td>\n",
       "      <td>own</td>\n",
       "      <td>little</td>\n",
       "      <td>NaN</td>\n",
       "      <td>2096</td>\n",
       "      <td>12</td>\n",
       "      <td>education</td>\n",
       "    </tr>\n",
       "    <tr>\n",
       "      <th>3</th>\n",
       "      <td>3</td>\n",
       "      <td>45</td>\n",
       "      <td>male</td>\n",
       "      <td>2</td>\n",
       "      <td>free</td>\n",
       "      <td>little</td>\n",
       "      <td>little</td>\n",
       "      <td>7882</td>\n",
       "      <td>42</td>\n",
       "      <td>furniture/equipment</td>\n",
       "    </tr>\n",
       "    <tr>\n",
       "      <th>4</th>\n",
       "      <td>4</td>\n",
       "      <td>53</td>\n",
       "      <td>male</td>\n",
       "      <td>2</td>\n",
       "      <td>free</td>\n",
       "      <td>little</td>\n",
       "      <td>little</td>\n",
       "      <td>4870</td>\n",
       "      <td>24</td>\n",
       "      <td>car</td>\n",
       "    </tr>\n",
       "  </tbody>\n",
       "</table>\n",
       "</div>"
      ],
      "text/plain": [
       "   Unnamed: 0  Age     Sex  Job Housing Saving accounts Checking account  \\\n",
       "0           0   67    male    2     own             NaN           little   \n",
       "1           1   22  female    2     own          little         moderate   \n",
       "2           2   49    male    1     own          little              NaN   \n",
       "3           3   45    male    2    free          little           little   \n",
       "4           4   53    male    2    free          little           little   \n",
       "\n",
       "   Credit amount  Duration              Purpose  \n",
       "0           1169         6             radio/TV  \n",
       "1           5951        48             radio/TV  \n",
       "2           2096        12            education  \n",
       "3           7882        42  furniture/equipment  \n",
       "4           4870        24                  car  "
      ]
     },
     "execution_count": 436,
     "metadata": {},
     "output_type": "execute_result"
    }
   ],
   "source": [
    "data.head()"
   ]
  },
  {
   "cell_type": "code",
   "execution_count": 437,
   "metadata": {},
   "outputs": [],
   "source": [
    "#Drop kolom Unnamed: 0 karena itu index\n",
    "data.drop(columns='Unnamed: 0', inplace=True)"
   ]
  },
  {
   "cell_type": "markdown",
   "metadata": {},
   "source": [
    "## Cari tahu lebih dalam tentang data kita"
   ]
  },
  {
   "cell_type": "markdown",
   "metadata": {},
   "source": [
    "1. Age (numeric)\n",
    "2. Sex (text: male, female)\n",
    "3. Job (numeric: 0 - unskilled and non-resident, 1 - unskilled and resident, 2 - skilled, 3 - highly skilled)\n",
    "4. Housing (text: own, rent, or free)\n",
    "5. Saving accounts (text - little, moderate, quite rich, rich)\n",
    "6. Checking account (numeric, in DM - Deutsch Mark)\n",
    "7. Credit amount (numeric, in DM)\n",
    "8. Duration (numeric, in month)\n",
    "9. Purpose (text: car, furniture/equipment, radio/TV, domestic appliances, repairs, education, business, vacation/others)"
   ]
  },
  {
   "cell_type": "code",
   "execution_count": 438,
   "metadata": {},
   "outputs": [
    {
     "data": {
      "text/plain": [
       "(1000, 9)"
      ]
     },
     "execution_count": 438,
     "metadata": {},
     "output_type": "execute_result"
    }
   ],
   "source": [
    "data.shape"
   ]
  },
  {
   "cell_type": "code",
   "execution_count": 439,
   "metadata": {},
   "outputs": [
    {
     "name": "stdout",
     "output_type": "stream",
     "text": [
      "<class 'pandas.core.frame.DataFrame'>\n",
      "RangeIndex: 1000 entries, 0 to 999\n",
      "Data columns (total 9 columns):\n",
      "Age                 1000 non-null int64\n",
      "Sex                 1000 non-null object\n",
      "Job                 1000 non-null int64\n",
      "Housing             1000 non-null object\n",
      "Saving accounts     817 non-null object\n",
      "Checking account    606 non-null object\n",
      "Credit amount       1000 non-null int64\n",
      "Duration            1000 non-null int64\n",
      "Purpose             1000 non-null object\n",
      "dtypes: int64(4), object(5)\n",
      "memory usage: 70.4+ KB\n"
     ]
    }
   ],
   "source": [
    "data.info()"
   ]
  },
  {
   "cell_type": "code",
   "execution_count": 440,
   "metadata": {},
   "outputs": [
    {
     "data": {
      "text/plain": [
       "Age                  int64\n",
       "Sex                 object\n",
       "Job                  int64\n",
       "Housing             object\n",
       "Saving accounts     object\n",
       "Checking account    object\n",
       "Credit amount        int64\n",
       "Duration             int64\n",
       "Purpose             object\n",
       "dtype: object"
      ]
     },
     "execution_count": 440,
     "metadata": {},
     "output_type": "execute_result"
    }
   ],
   "source": [
    "data.dtypes"
   ]
  },
  {
   "cell_type": "code",
   "execution_count": 441,
   "metadata": {},
   "outputs": [
    {
     "data": {
      "text/html": [
       "<div>\n",
       "<style scoped>\n",
       "    .dataframe tbody tr th:only-of-type {\n",
       "        vertical-align: middle;\n",
       "    }\n",
       "\n",
       "    .dataframe tbody tr th {\n",
       "        vertical-align: top;\n",
       "    }\n",
       "\n",
       "    .dataframe thead th {\n",
       "        text-align: right;\n",
       "    }\n",
       "</style>\n",
       "<table border=\"1\" class=\"dataframe\">\n",
       "  <thead>\n",
       "    <tr style=\"text-align: right;\">\n",
       "      <th></th>\n",
       "      <th>Age</th>\n",
       "      <th>Job</th>\n",
       "      <th>Credit amount</th>\n",
       "      <th>Duration</th>\n",
       "    </tr>\n",
       "  </thead>\n",
       "  <tbody>\n",
       "    <tr>\n",
       "      <th>count</th>\n",
       "      <td>1000.000000</td>\n",
       "      <td>1000.000000</td>\n",
       "      <td>1000.000000</td>\n",
       "      <td>1000.000000</td>\n",
       "    </tr>\n",
       "    <tr>\n",
       "      <th>mean</th>\n",
       "      <td>35.546000</td>\n",
       "      <td>1.904000</td>\n",
       "      <td>3271.258000</td>\n",
       "      <td>20.903000</td>\n",
       "    </tr>\n",
       "    <tr>\n",
       "      <th>std</th>\n",
       "      <td>11.375469</td>\n",
       "      <td>0.653614</td>\n",
       "      <td>2822.736876</td>\n",
       "      <td>12.058814</td>\n",
       "    </tr>\n",
       "    <tr>\n",
       "      <th>min</th>\n",
       "      <td>19.000000</td>\n",
       "      <td>0.000000</td>\n",
       "      <td>250.000000</td>\n",
       "      <td>4.000000</td>\n",
       "    </tr>\n",
       "    <tr>\n",
       "      <th>25%</th>\n",
       "      <td>27.000000</td>\n",
       "      <td>2.000000</td>\n",
       "      <td>1365.500000</td>\n",
       "      <td>12.000000</td>\n",
       "    </tr>\n",
       "    <tr>\n",
       "      <th>50%</th>\n",
       "      <td>33.000000</td>\n",
       "      <td>2.000000</td>\n",
       "      <td>2319.500000</td>\n",
       "      <td>18.000000</td>\n",
       "    </tr>\n",
       "    <tr>\n",
       "      <th>75%</th>\n",
       "      <td>42.000000</td>\n",
       "      <td>2.000000</td>\n",
       "      <td>3972.250000</td>\n",
       "      <td>24.000000</td>\n",
       "    </tr>\n",
       "    <tr>\n",
       "      <th>max</th>\n",
       "      <td>75.000000</td>\n",
       "      <td>3.000000</td>\n",
       "      <td>18424.000000</td>\n",
       "      <td>72.000000</td>\n",
       "    </tr>\n",
       "  </tbody>\n",
       "</table>\n",
       "</div>"
      ],
      "text/plain": [
       "               Age          Job  Credit amount     Duration\n",
       "count  1000.000000  1000.000000    1000.000000  1000.000000\n",
       "mean     35.546000     1.904000    3271.258000    20.903000\n",
       "std      11.375469     0.653614    2822.736876    12.058814\n",
       "min      19.000000     0.000000     250.000000     4.000000\n",
       "25%      27.000000     2.000000    1365.500000    12.000000\n",
       "50%      33.000000     2.000000    2319.500000    18.000000\n",
       "75%      42.000000     2.000000    3972.250000    24.000000\n",
       "max      75.000000     3.000000   18424.000000    72.000000"
      ]
     },
     "execution_count": 441,
     "metadata": {},
     "output_type": "execute_result"
    }
   ],
   "source": [
    "data.describe()"
   ]
  },
  {
   "cell_type": "markdown",
   "metadata": {},
   "source": [
    "## Handling Missing Values"
   ]
  },
  {
   "cell_type": "code",
   "execution_count": 442,
   "metadata": {},
   "outputs": [
    {
     "data": {
      "text/plain": [
       "Age                   0\n",
       "Sex                   0\n",
       "Job                   0\n",
       "Housing               0\n",
       "Saving accounts     183\n",
       "Checking account    394\n",
       "Credit amount         0\n",
       "Duration              0\n",
       "Purpose               0\n",
       "dtype: int64"
      ]
     },
     "execution_count": 442,
     "metadata": {},
     "output_type": "execute_result"
    }
   ],
   "source": [
    "#Ada 2 kolom yang beberapa datanya missing\n",
    "count_missing = data.isnull().sum()\n",
    "count_missing"
   ]
  },
  {
   "cell_type": "code",
   "execution_count": 443,
   "metadata": {
    "scrolled": true
   },
   "outputs": [
    {
     "data": {
      "text/plain": [
       "Age                  0.0\n",
       "Sex                  0.0\n",
       "Job                  0.0\n",
       "Housing              0.0\n",
       "Saving accounts     18.3\n",
       "Checking account    39.4\n",
       "Credit amount        0.0\n",
       "Duration             0.0\n",
       "Purpose              0.0\n",
       "dtype: float64"
      ]
     },
     "execution_count": 443,
     "metadata": {},
     "output_type": "execute_result"
    }
   ],
   "source": [
    "#Persentase kolom yang datanya kosong\n",
    "percentage = round(count_missing/len(data)*100,2)\n",
    "percentage"
   ]
  },
  {
   "cell_type": "markdown",
   "metadata": {},
   "source": [
    "### Fill the misiing values\n",
    "1. Saving accounts fill with data mode karena kategorikal\n",
    "2. Checking acccount fill with data mode karena kategorikal"
   ]
  },
  {
   "cell_type": "code",
   "execution_count": 444,
   "metadata": {},
   "outputs": [],
   "source": [
    "features = ['Saving accounts', 'Checking account']"
   ]
  },
  {
   "cell_type": "code",
   "execution_count": 445,
   "metadata": {},
   "outputs": [],
   "source": [
    "for feature in features:\n",
    "    if feature in data.columns.values:\n",
    "        data[feature] = data[feature].fillna(data[feature].value_counts().index[0])"
   ]
  },
  {
   "cell_type": "code",
   "execution_count": 446,
   "metadata": {},
   "outputs": [
    {
     "data": {
      "text/html": [
       "<div>\n",
       "<style scoped>\n",
       "    .dataframe tbody tr th:only-of-type {\n",
       "        vertical-align: middle;\n",
       "    }\n",
       "\n",
       "    .dataframe tbody tr th {\n",
       "        vertical-align: top;\n",
       "    }\n",
       "\n",
       "    .dataframe thead th {\n",
       "        text-align: right;\n",
       "    }\n",
       "</style>\n",
       "<table border=\"1\" class=\"dataframe\">\n",
       "  <thead>\n",
       "    <tr style=\"text-align: right;\">\n",
       "      <th></th>\n",
       "      <th>Age</th>\n",
       "      <th>Sex</th>\n",
       "      <th>Job</th>\n",
       "      <th>Housing</th>\n",
       "      <th>Saving accounts</th>\n",
       "      <th>Checking account</th>\n",
       "      <th>Credit amount</th>\n",
       "      <th>Duration</th>\n",
       "      <th>Purpose</th>\n",
       "    </tr>\n",
       "  </thead>\n",
       "  <tbody>\n",
       "    <tr>\n",
       "      <th>0</th>\n",
       "      <td>67</td>\n",
       "      <td>male</td>\n",
       "      <td>2</td>\n",
       "      <td>own</td>\n",
       "      <td>little</td>\n",
       "      <td>little</td>\n",
       "      <td>1169</td>\n",
       "      <td>6</td>\n",
       "      <td>radio/TV</td>\n",
       "    </tr>\n",
       "    <tr>\n",
       "      <th>1</th>\n",
       "      <td>22</td>\n",
       "      <td>female</td>\n",
       "      <td>2</td>\n",
       "      <td>own</td>\n",
       "      <td>little</td>\n",
       "      <td>moderate</td>\n",
       "      <td>5951</td>\n",
       "      <td>48</td>\n",
       "      <td>radio/TV</td>\n",
       "    </tr>\n",
       "    <tr>\n",
       "      <th>2</th>\n",
       "      <td>49</td>\n",
       "      <td>male</td>\n",
       "      <td>1</td>\n",
       "      <td>own</td>\n",
       "      <td>little</td>\n",
       "      <td>little</td>\n",
       "      <td>2096</td>\n",
       "      <td>12</td>\n",
       "      <td>education</td>\n",
       "    </tr>\n",
       "    <tr>\n",
       "      <th>3</th>\n",
       "      <td>45</td>\n",
       "      <td>male</td>\n",
       "      <td>2</td>\n",
       "      <td>free</td>\n",
       "      <td>little</td>\n",
       "      <td>little</td>\n",
       "      <td>7882</td>\n",
       "      <td>42</td>\n",
       "      <td>furniture/equipment</td>\n",
       "    </tr>\n",
       "    <tr>\n",
       "      <th>4</th>\n",
       "      <td>53</td>\n",
       "      <td>male</td>\n",
       "      <td>2</td>\n",
       "      <td>free</td>\n",
       "      <td>little</td>\n",
       "      <td>little</td>\n",
       "      <td>4870</td>\n",
       "      <td>24</td>\n",
       "      <td>car</td>\n",
       "    </tr>\n",
       "  </tbody>\n",
       "</table>\n",
       "</div>"
      ],
      "text/plain": [
       "   Age     Sex  Job Housing Saving accounts Checking account  Credit amount  \\\n",
       "0   67    male    2     own          little           little           1169   \n",
       "1   22  female    2     own          little         moderate           5951   \n",
       "2   49    male    1     own          little           little           2096   \n",
       "3   45    male    2    free          little           little           7882   \n",
       "4   53    male    2    free          little           little           4870   \n",
       "\n",
       "   Duration              Purpose  \n",
       "0         6             radio/TV  \n",
       "1        48             radio/TV  \n",
       "2        12            education  \n",
       "3        42  furniture/equipment  \n",
       "4        24                  car  "
      ]
     },
     "execution_count": 446,
     "metadata": {},
     "output_type": "execute_result"
    }
   ],
   "source": [
    "data.head()"
   ]
  },
  {
   "cell_type": "code",
   "execution_count": 447,
   "metadata": {},
   "outputs": [
    {
     "data": {
      "text/plain": [
       "Age                 0\n",
       "Sex                 0\n",
       "Job                 0\n",
       "Housing             0\n",
       "Saving accounts     0\n",
       "Checking account    0\n",
       "Credit amount       0\n",
       "Duration            0\n",
       "Purpose             0\n",
       "dtype: int64"
      ]
     },
     "execution_count": 447,
     "metadata": {},
     "output_type": "execute_result"
    }
   ],
   "source": [
    "data.isnull().sum()"
   ]
  },
  {
   "cell_type": "markdown",
   "metadata": {},
   "source": [
    "## Exploratory Data Analysis (Univariate)"
   ]
  },
  {
   "cell_type": "code",
   "execution_count": 448,
   "metadata": {
    "scrolled": true
   },
   "outputs": [
    {
     "data": {
      "text/html": [
       "<div>\n",
       "<style scoped>\n",
       "    .dataframe tbody tr th:only-of-type {\n",
       "        vertical-align: middle;\n",
       "    }\n",
       "\n",
       "    .dataframe tbody tr th {\n",
       "        vertical-align: top;\n",
       "    }\n",
       "\n",
       "    .dataframe thead th {\n",
       "        text-align: right;\n",
       "    }\n",
       "</style>\n",
       "<table border=\"1\" class=\"dataframe\">\n",
       "  <thead>\n",
       "    <tr style=\"text-align: right;\">\n",
       "      <th></th>\n",
       "      <th>Age</th>\n",
       "      <th>Sex</th>\n",
       "      <th>Job</th>\n",
       "      <th>Housing</th>\n",
       "      <th>Saving accounts</th>\n",
       "      <th>Checking account</th>\n",
       "      <th>Credit amount</th>\n",
       "      <th>Duration</th>\n",
       "      <th>Purpose</th>\n",
       "    </tr>\n",
       "  </thead>\n",
       "  <tbody>\n",
       "    <tr>\n",
       "      <th>0</th>\n",
       "      <td>67</td>\n",
       "      <td>male</td>\n",
       "      <td>2</td>\n",
       "      <td>own</td>\n",
       "      <td>little</td>\n",
       "      <td>little</td>\n",
       "      <td>1169</td>\n",
       "      <td>6</td>\n",
       "      <td>radio/TV</td>\n",
       "    </tr>\n",
       "    <tr>\n",
       "      <th>1</th>\n",
       "      <td>22</td>\n",
       "      <td>female</td>\n",
       "      <td>2</td>\n",
       "      <td>own</td>\n",
       "      <td>little</td>\n",
       "      <td>moderate</td>\n",
       "      <td>5951</td>\n",
       "      <td>48</td>\n",
       "      <td>radio/TV</td>\n",
       "    </tr>\n",
       "    <tr>\n",
       "      <th>2</th>\n",
       "      <td>49</td>\n",
       "      <td>male</td>\n",
       "      <td>1</td>\n",
       "      <td>own</td>\n",
       "      <td>little</td>\n",
       "      <td>little</td>\n",
       "      <td>2096</td>\n",
       "      <td>12</td>\n",
       "      <td>education</td>\n",
       "    </tr>\n",
       "    <tr>\n",
       "      <th>3</th>\n",
       "      <td>45</td>\n",
       "      <td>male</td>\n",
       "      <td>2</td>\n",
       "      <td>free</td>\n",
       "      <td>little</td>\n",
       "      <td>little</td>\n",
       "      <td>7882</td>\n",
       "      <td>42</td>\n",
       "      <td>furniture/equipment</td>\n",
       "    </tr>\n",
       "    <tr>\n",
       "      <th>4</th>\n",
       "      <td>53</td>\n",
       "      <td>male</td>\n",
       "      <td>2</td>\n",
       "      <td>free</td>\n",
       "      <td>little</td>\n",
       "      <td>little</td>\n",
       "      <td>4870</td>\n",
       "      <td>24</td>\n",
       "      <td>car</td>\n",
       "    </tr>\n",
       "  </tbody>\n",
       "</table>\n",
       "</div>"
      ],
      "text/plain": [
       "   Age     Sex  Job Housing Saving accounts Checking account  Credit amount  \\\n",
       "0   67    male    2     own          little           little           1169   \n",
       "1   22  female    2     own          little         moderate           5951   \n",
       "2   49    male    1     own          little           little           2096   \n",
       "3   45    male    2    free          little           little           7882   \n",
       "4   53    male    2    free          little           little           4870   \n",
       "\n",
       "   Duration              Purpose  \n",
       "0         6             radio/TV  \n",
       "1        48             radio/TV  \n",
       "2        12            education  \n",
       "3        42  furniture/equipment  \n",
       "4        24                  car  "
      ]
     },
     "execution_count": 448,
     "metadata": {},
     "output_type": "execute_result"
    }
   ],
   "source": [
    "data.head()"
   ]
  },
  {
   "cell_type": "code",
   "execution_count": 449,
   "metadata": {},
   "outputs": [
    {
     "data": {
      "text/html": [
       "<div>\n",
       "<style scoped>\n",
       "    .dataframe tbody tr th:only-of-type {\n",
       "        vertical-align: middle;\n",
       "    }\n",
       "\n",
       "    .dataframe tbody tr th {\n",
       "        vertical-align: top;\n",
       "    }\n",
       "\n",
       "    .dataframe thead th {\n",
       "        text-align: right;\n",
       "    }\n",
       "</style>\n",
       "<table border=\"1\" class=\"dataframe\">\n",
       "  <thead>\n",
       "    <tr style=\"text-align: right;\">\n",
       "      <th></th>\n",
       "      <th>Age</th>\n",
       "      <th>Job</th>\n",
       "      <th>Credit amount</th>\n",
       "      <th>Duration</th>\n",
       "    </tr>\n",
       "  </thead>\n",
       "  <tbody>\n",
       "    <tr>\n",
       "      <th>count</th>\n",
       "      <td>1000.000000</td>\n",
       "      <td>1000.000000</td>\n",
       "      <td>1000.000000</td>\n",
       "      <td>1000.000000</td>\n",
       "    </tr>\n",
       "    <tr>\n",
       "      <th>mean</th>\n",
       "      <td>35.546000</td>\n",
       "      <td>1.904000</td>\n",
       "      <td>3271.258000</td>\n",
       "      <td>20.903000</td>\n",
       "    </tr>\n",
       "    <tr>\n",
       "      <th>std</th>\n",
       "      <td>11.375469</td>\n",
       "      <td>0.653614</td>\n",
       "      <td>2822.736876</td>\n",
       "      <td>12.058814</td>\n",
       "    </tr>\n",
       "    <tr>\n",
       "      <th>min</th>\n",
       "      <td>19.000000</td>\n",
       "      <td>0.000000</td>\n",
       "      <td>250.000000</td>\n",
       "      <td>4.000000</td>\n",
       "    </tr>\n",
       "    <tr>\n",
       "      <th>25%</th>\n",
       "      <td>27.000000</td>\n",
       "      <td>2.000000</td>\n",
       "      <td>1365.500000</td>\n",
       "      <td>12.000000</td>\n",
       "    </tr>\n",
       "    <tr>\n",
       "      <th>50%</th>\n",
       "      <td>33.000000</td>\n",
       "      <td>2.000000</td>\n",
       "      <td>2319.500000</td>\n",
       "      <td>18.000000</td>\n",
       "    </tr>\n",
       "    <tr>\n",
       "      <th>75%</th>\n",
       "      <td>42.000000</td>\n",
       "      <td>2.000000</td>\n",
       "      <td>3972.250000</td>\n",
       "      <td>24.000000</td>\n",
       "    </tr>\n",
       "    <tr>\n",
       "      <th>max</th>\n",
       "      <td>75.000000</td>\n",
       "      <td>3.000000</td>\n",
       "      <td>18424.000000</td>\n",
       "      <td>72.000000</td>\n",
       "    </tr>\n",
       "  </tbody>\n",
       "</table>\n",
       "</div>"
      ],
      "text/plain": [
       "               Age          Job  Credit amount     Duration\n",
       "count  1000.000000  1000.000000    1000.000000  1000.000000\n",
       "mean     35.546000     1.904000    3271.258000    20.903000\n",
       "std      11.375469     0.653614    2822.736876    12.058814\n",
       "min      19.000000     0.000000     250.000000     4.000000\n",
       "25%      27.000000     2.000000    1365.500000    12.000000\n",
       "50%      33.000000     2.000000    2319.500000    18.000000\n",
       "75%      42.000000     2.000000    3972.250000    24.000000\n",
       "max      75.000000     3.000000   18424.000000    72.000000"
      ]
     },
     "execution_count": 449,
     "metadata": {},
     "output_type": "execute_result"
    }
   ],
   "source": [
    "data.describe()"
   ]
  },
  {
   "cell_type": "markdown",
   "metadata": {},
   "source": [
    "### Cari tahu yuk distribusi dari umur yang mengambil credit di bank"
   ]
  },
  {
   "cell_type": "code",
   "execution_count": 450,
   "metadata": {},
   "outputs": [
    {
     "data": {
      "text/plain": [
       "<matplotlib.axes._subplots.AxesSubplot at 0x22d7a51e780>"
      ]
     },
     "execution_count": 450,
     "metadata": {},
     "output_type": "execute_result"
    },
    {
     "data": {
      "image/png": "[encoded data removed]",
      "text/plain": [
       "<Figure size 720x576 with 2 Axes>"
      ]
     },
     "metadata": {
      "needs_background": "light"
     },
     "output_type": "display_data"
    }
   ],
   "source": [
    "f = plt.figure(figsize=(10,8))\n",
    "\n",
    "f.add_subplot(2,1,1)\n",
    "sns.distplot(data['Age'])\n",
    "\n",
    "f.add_subplot(2,1,2)\n",
    "sns.boxplot(data['Age'], color='green')"
   ]
  },
  {
   "cell_type": "markdown",
   "metadata": {},
   "source": [
    "1. dari 2 plot diatas dapat diambil insights bahwa sebagian besar yang mengambil kredit di bank adalah orang yang berumur diantara 27 - 42 tahun. mungkin ini adalah orang yang baru menikah dan membutuhkan pinjaman dari bank.\n",
    "<br>\n",
    "2. umur dibawah 20 tahun sangat sedikit yang mengambil credit karena memang mungkin mereka masih muda dan financial mereka masih disokong oleh orang tua mereka.\n",
    "<br>\n",
    "3. sedangkan untuk umur diatas 50 tahun juga relatif sedikit yang mengambil kredit, mungkin karena di umur ini orang sudah mapan."
   ]
  },
  {
   "cell_type": "markdown",
   "metadata": {},
   "source": [
    "### Apakah perbedaan gender berpengaruh ?"
   ]
  },
  {
   "cell_type": "code",
   "execution_count": 451,
   "metadata": {},
   "outputs": [
    {
     "data": {
      "text/plain": [
       "<matplotlib.axes._subplots.AxesSubplot at 0x22d7a20cba8>"
      ]
     },
     "execution_count": 451,
     "metadata": {},
     "output_type": "execute_result"
    },
    {
     "data": {
      "image/png": "[encoded data removed]",
      "text/plain": [
       "<Figure size 576x288 with 1 Axes>"
      ]
     },
     "metadata": {
      "needs_background": "light"
     },
     "output_type": "display_data"
    }
   ],
   "source": [
    "plt.figure(figsize=(8,4))\n",
    "sns.countplot(data['Sex'])"
   ]
  },
  {
   "cell_type": "markdown",
   "metadata": {},
   "source": [
    "ternyata laki laki lebih banyak mengambil kredit daripada perempuan."
   ]
  },
  {
   "cell_type": "markdown",
   "metadata": {},
   "source": [
    "### Bagaimana hubunganya dengan housing dan job ?"
   ]
  },
  {
   "cell_type": "code",
   "execution_count": 452,
   "metadata": {},
   "outputs": [
    {
     "data": {
      "text/plain": [
       "<matplotlib.axes._subplots.AxesSubplot at 0x22d05fab358>"
      ]
     },
     "execution_count": 452,
     "metadata": {},
     "output_type": "execute_result"
    },
    {
     "data": {
      "image/png": "[encoded data removed]",
      "text/plain": [
       "<Figure size 720x576 with 2 Axes>"
      ]
     },
     "metadata": {
      "needs_background": "light"
     },
     "output_type": "display_data"
    }
   ],
   "source": [
    "f = plt.figure(figsize=(10,8))\n",
    "\n",
    "f.add_subplot(2,1,1)\n",
    "sns.countplot(data['Job'])\n",
    "\n",
    "f.add_subplot(2,1,2)\n",
    "sns.countplot(data['Housing'])"
   ]
  },
  {
   "cell_type": "markdown",
   "metadata": {},
   "source": [
    "dilihat dari grafik diatas:\n",
    "1. ternyata paling banyak yang meminjam credit adalah yang jobnya tipe skilled dan yang sudah memiliki rumah\n",
    "<br>\n",
    "2. apakah memang bank hanya memberikan credit terhadap penduduk yang jobnya skilled dan memiliki rumah ? karena bank percaya mereka akan bisa mengembalikan uang pinjaman. atau hanya penduduk yang seperti di atas yang berani meminjam uang ?"
   ]
  },
  {
   "cell_type": "markdown",
   "metadata": {},
   "source": [
    "### Lalu bagaimana dengan distribusi dari jumlah pinjaman ?"
   ]
  },
  {
   "cell_type": "code",
   "execution_count": 453,
   "metadata": {},
   "outputs": [
    {
     "data": {
      "text/plain": [
       "<matplotlib.axes._subplots.AxesSubplot at 0x22d0759f240>"
      ]
     },
     "execution_count": 453,
     "metadata": {},
     "output_type": "execute_result"
    },
    {
     "data": {
      "image/png": "[encoded data removed]",
      "text/plain": [
       "<Figure size 720x576 with 2 Axes>"
      ]
     },
     "metadata": {
      "needs_background": "light"
     },
     "output_type": "display_data"
    }
   ],
   "source": [
    "g = plt.figure(figsize=(10,8))\n",
    "\n",
    "g.add_subplot(2,1,1)\n",
    "sns.boxplot(data['Credit amount'])\n",
    "\n",
    "g.add_subplot(2,1,2)\n",
    "sns.violinplot(data['Credit amount'], color='green')"
   ]
  },
  {
   "cell_type": "markdown",
   "metadata": {},
   "source": [
    "1. dari boxplot bisa dilihat bahwa ternyata banyak sekali data outlier.\n",
    "2. dari keduaplot bisa diketahui bahwa sebagian besar orang meminjam uang dari bank dengan nilai diantara 2000 - 3800 us dollars\n",
    "3. distribusi data lebih ke Right Skewed"
   ]
  },
  {
   "cell_type": "markdown",
   "metadata": {},
   "source": [
    "### Duration, saya mencernanya ini itu berapa lama orang akan melunasi creditnya"
   ]
  },
  {
   "cell_type": "code",
   "execution_count": 454,
   "metadata": {},
   "outputs": [],
   "source": [
    "top_duration = data.groupby('Duration').Age.count().reset_index()\n",
    "top_duration.rename(columns={'Age':'count'}, inplace=True)\n",
    "top_duration = top_duration.nlargest(50, 'count')"
   ]
  },
  {
   "cell_type": "code",
   "execution_count": 455,
   "metadata": {},
   "outputs": [
    {
     "data": {
      "text/plain": [
       "<matplotlib.axes._subplots.AxesSubplot at 0x22d7f1cc9e8>"
      ]
     },
     "execution_count": 455,
     "metadata": {},
     "output_type": "execute_result"
    },
    {
     "data": {
      "image/png": "[encoded data removed]",
      "text/plain": [
       "<Figure size 720x360 with 1 Axes>"
      ]
     },
     "metadata": {
      "needs_background": "light"
     },
     "output_type": "display_data"
    }
   ],
   "source": [
    "plt.figure(figsize=(10,5))\n",
    "sns.barplot(data=top_duration, y=top_duration['count'], x=top_duration['Duration'])"
   ]
  },
  {
   "cell_type": "markdown",
   "metadata": {},
   "source": [
    "sebagian besar orang memilih untuk melunasi kredit dengan jangka waktu 24 bulan dan 12 bulan."
   ]
  },
  {
   "cell_type": "markdown",
   "metadata": {},
   "source": [
    "### Untuk apa saja mereka meminjam kredit ?"
   ]
  },
  {
   "cell_type": "code",
   "execution_count": 525,
   "metadata": {},
   "outputs": [
    {
     "data": {
      "image/png": "[encoded data removed]",
      "text/plain": [
       "<Figure size 720x360 with 1 Axes>"
      ]
     },
     "metadata": {
      "needs_background": "light"
     },
     "output_type": "display_data"
    }
   ],
   "source": [
    "plt.figure(figsize=(10,5))\n",
    "plot = sns.countplot(data['Purpose'])\n",
    "plt.setp(plot.get_xticklabels(), rotation=45)\n",
    "plt.show()"
   ]
  },
  {
   "cell_type": "markdown",
   "metadata": {},
   "source": [
    "Ternyata rata-rata orang meminjam kredit untuk memenuhi kebutuhan tersier seperi membeli mobil / radio dan tv"
   ]
  },
  {
   "cell_type": "markdown",
   "metadata": {},
   "source": [
    "### coba kita cari tahu tentang saving accounts dan checking accounts"
   ]
  },
  {
   "cell_type": "code",
   "execution_count": 457,
   "metadata": {},
   "outputs": [
    {
     "data": {
      "text/plain": [
       "array(['little', 'quite rich', 'rich', 'moderate'], dtype=object)"
      ]
     },
     "execution_count": 457,
     "metadata": {},
     "output_type": "execute_result"
    }
   ],
   "source": [
    "data['Saving accounts'].unique()"
   ]
  },
  {
   "cell_type": "code",
   "execution_count": 458,
   "metadata": {},
   "outputs": [
    {
     "data": {
      "text/plain": [
       "array(['little', 'moderate', 'rich'], dtype=object)"
      ]
     },
     "execution_count": 458,
     "metadata": {},
     "output_type": "execute_result"
    }
   ],
   "source": [
    "data['Checking account'].unique()"
   ]
  },
  {
   "cell_type": "code",
   "execution_count": 459,
   "metadata": {},
   "outputs": [
    {
     "data": {
      "text/plain": [
       "<matplotlib.axes._subplots.AxesSubplot at 0x22d78b43cc0>"
      ]
     },
     "execution_count": 459,
     "metadata": {},
     "output_type": "execute_result"
    },
    {
     "data": {
      "image/png": "[encoded data removed]",
      "text/plain": [
       "<Figure size 1440x432 with 2 Axes>"
      ]
     },
     "metadata": {
      "needs_background": "light"
     },
     "output_type": "display_data"
    }
   ],
   "source": [
    "h = plt.figure(figsize=(20,6))\n",
    "\n",
    "h.add_subplot(1,2,1)\n",
    "sns.countplot(data['Saving accounts'])\n",
    "\n",
    "h.add_subplot(1,2,2)\n",
    "sns.countplot(data['Checking account'], color='green')"
   ]
  },
  {
   "cell_type": "markdown",
   "metadata": {},
   "source": [
    "ternyata memang sebagian besar orang yang meminjam di bank adalah yang mempunya saving and checking account yang sedikit"
   ]
  },
  {
   "cell_type": "markdown",
   "metadata": {},
   "source": [
    "## Exploratory Data Analysis (Bivariate)"
   ]
  },
  {
   "cell_type": "code",
   "execution_count": 460,
   "metadata": {
    "scrolled": true
   },
   "outputs": [
    {
     "data": {
      "text/plain": [
       "Age                  int64\n",
       "Sex                 object\n",
       "Job                  int64\n",
       "Housing             object\n",
       "Saving accounts     object\n",
       "Checking account    object\n",
       "Credit amount        int64\n",
       "Duration             int64\n",
       "Purpose             object\n",
       "dtype: object"
      ]
     },
     "execution_count": 460,
     "metadata": {},
     "output_type": "execute_result"
    }
   ],
   "source": [
    "data.dtypes"
   ]
  },
  {
   "cell_type": "markdown",
   "metadata": {},
   "source": [
    "### Mengubah data kategorikal ke numerikal dengan label encoder"
   ]
  },
  {
   "cell_type": "code",
   "execution_count": 461,
   "metadata": {},
   "outputs": [],
   "source": [
    "kategorikal = ['Sex', 'Housing', 'Saving accounts', 'Checking account', 'Purpose']"
   ]
  },
  {
   "cell_type": "code",
   "execution_count": 462,
   "metadata": {},
   "outputs": [],
   "source": [
    "data2 = data.copy()"
   ]
  },
  {
   "cell_type": "code",
   "execution_count": 463,
   "metadata": {},
   "outputs": [],
   "source": [
    "for feature in kategorikal:\n",
    "    if feature in data2.columns.values:\n",
    "        data2[feature] = LabelEncoder().fit_transform(data2[feature])"
   ]
  },
  {
   "cell_type": "code",
   "execution_count": 464,
   "metadata": {},
   "outputs": [
    {
     "data": {
      "text/html": [
       "<div>\n",
       "<style scoped>\n",
       "    .dataframe tbody tr th:only-of-type {\n",
       "        vertical-align: middle;\n",
       "    }\n",
       "\n",
       "    .dataframe tbody tr th {\n",
       "        vertical-align: top;\n",
       "    }\n",
       "\n",
       "    .dataframe thead th {\n",
       "        text-align: right;\n",
       "    }\n",
       "</style>\n",
       "<table border=\"1\" class=\"dataframe\">\n",
       "  <thead>\n",
       "    <tr style=\"text-align: right;\">\n",
       "      <th></th>\n",
       "      <th>Age</th>\n",
       "      <th>Sex</th>\n",
       "      <th>Job</th>\n",
       "      <th>Housing</th>\n",
       "      <th>Saving accounts</th>\n",
       "      <th>Checking account</th>\n",
       "      <th>Credit amount</th>\n",
       "      <th>Duration</th>\n",
       "      <th>Purpose</th>\n",
       "    </tr>\n",
       "  </thead>\n",
       "  <tbody>\n",
       "    <tr>\n",
       "      <th>0</th>\n",
       "      <td>67</td>\n",
       "      <td>1</td>\n",
       "      <td>2</td>\n",
       "      <td>1</td>\n",
       "      <td>0</td>\n",
       "      <td>0</td>\n",
       "      <td>1169</td>\n",
       "      <td>6</td>\n",
       "      <td>5</td>\n",
       "    </tr>\n",
       "    <tr>\n",
       "      <th>1</th>\n",
       "      <td>22</td>\n",
       "      <td>0</td>\n",
       "      <td>2</td>\n",
       "      <td>1</td>\n",
       "      <td>0</td>\n",
       "      <td>1</td>\n",
       "      <td>5951</td>\n",
       "      <td>48</td>\n",
       "      <td>5</td>\n",
       "    </tr>\n",
       "    <tr>\n",
       "      <th>2</th>\n",
       "      <td>49</td>\n",
       "      <td>1</td>\n",
       "      <td>1</td>\n",
       "      <td>1</td>\n",
       "      <td>0</td>\n",
       "      <td>0</td>\n",
       "      <td>2096</td>\n",
       "      <td>12</td>\n",
       "      <td>3</td>\n",
       "    </tr>\n",
       "    <tr>\n",
       "      <th>3</th>\n",
       "      <td>45</td>\n",
       "      <td>1</td>\n",
       "      <td>2</td>\n",
       "      <td>0</td>\n",
       "      <td>0</td>\n",
       "      <td>0</td>\n",
       "      <td>7882</td>\n",
       "      <td>42</td>\n",
       "      <td>4</td>\n",
       "    </tr>\n",
       "    <tr>\n",
       "      <th>4</th>\n",
       "      <td>53</td>\n",
       "      <td>1</td>\n",
       "      <td>2</td>\n",
       "      <td>0</td>\n",
       "      <td>0</td>\n",
       "      <td>0</td>\n",
       "      <td>4870</td>\n",
       "      <td>24</td>\n",
       "      <td>1</td>\n",
       "    </tr>\n",
       "  </tbody>\n",
       "</table>\n",
       "</div>"
      ],
      "text/plain": [
       "   Age  Sex  Job  Housing  Saving accounts  Checking account  Credit amount  \\\n",
       "0   67    1    2        1                0                 0           1169   \n",
       "1   22    0    2        1                0                 1           5951   \n",
       "2   49    1    1        1                0                 0           2096   \n",
       "3   45    1    2        0                0                 0           7882   \n",
       "4   53    1    2        0                0                 0           4870   \n",
       "\n",
       "   Duration  Purpose  \n",
       "0         6        5  \n",
       "1        48        5  \n",
       "2        12        3  \n",
       "3        42        4  \n",
       "4        24        1  "
      ]
     },
     "execution_count": 464,
     "metadata": {},
     "output_type": "execute_result"
    }
   ],
   "source": [
    "data2.head()"
   ]
  },
  {
   "cell_type": "markdown",
   "metadata": {},
   "source": [
    "### Korelasi plot"
   ]
  },
  {
   "cell_type": "code",
   "execution_count": 465,
   "metadata": {},
   "outputs": [
    {
     "data": {
      "text/html": [
       "<style  type=\"text/css\" >\n",
       "    #T_d396be5e_d2ca_11e9_8416_309c23131503row0_col0 {\n",
       "            background-color:  #023858;\n",
       "            color:  #f1f1f1;\n",
       "        }    #T_d396be5e_d2ca_11e9_8416_309c23131503row0_col1 {\n",
       "            background-color:  #fff7fb;\n",
       "            color:  #000000;\n",
       "        }    #T_d396be5e_d2ca_11e9_8416_309c23131503row0_col2 {\n",
       "            background-color:  #fbf4f9;\n",
       "            color:  #000000;\n",
       "        }    #T_d396be5e_d2ca_11e9_8416_309c23131503row0_col3 {\n",
       "            background-color:  #fef6fa;\n",
       "            color:  #000000;\n",
       "        }    #T_d396be5e_d2ca_11e9_8416_309c23131503row0_col4 {\n",
       "            background-color:  #fff7fb;\n",
       "            color:  #000000;\n",
       "        }    #T_d396be5e_d2ca_11e9_8416_309c23131503row1_col0 {\n",
       "            background-color:  #fff7fb;\n",
       "            color:  #000000;\n",
       "        }    #T_d396be5e_d2ca_11e9_8416_309c23131503row1_col1 {\n",
       "            background-color:  #023858;\n",
       "            color:  #f1f1f1;\n",
       "        }    #T_d396be5e_d2ca_11e9_8416_309c23131503row1_col2 {\n",
       "            background-color:  #f4edf6;\n",
       "            color:  #000000;\n",
       "        }    #T_d396be5e_d2ca_11e9_8416_309c23131503row1_col3 {\n",
       "            background-color:  #fff7fb;\n",
       "            color:  #000000;\n",
       "        }    #T_d396be5e_d2ca_11e9_8416_309c23131503row1_col4 {\n",
       "            background-color:  #f6eff7;\n",
       "            color:  #000000;\n",
       "        }    #T_d396be5e_d2ca_11e9_8416_309c23131503row2_col0 {\n",
       "            background-color:  #e0deed;\n",
       "            color:  #000000;\n",
       "        }    #T_d396be5e_d2ca_11e9_8416_309c23131503row2_col1 {\n",
       "            background-color:  #d8d7e9;\n",
       "            color:  #000000;\n",
       "        }    #T_d396be5e_d2ca_11e9_8416_309c23131503row2_col2 {\n",
       "            background-color:  #023858;\n",
       "            color:  #f1f1f1;\n",
       "        }    #T_d396be5e_d2ca_11e9_8416_309c23131503row2_col3 {\n",
       "            background-color:  #f4eef6;\n",
       "            color:  #000000;\n",
       "        }    #T_d396be5e_d2ca_11e9_8416_309c23131503row2_col4 {\n",
       "            background-color:  #fcf4fa;\n",
       "            color:  #000000;\n",
       "        }    #T_d396be5e_d2ca_11e9_8416_309c23131503row3_col0 {\n",
       "            background-color:  #e2dfee;\n",
       "            color:  #000000;\n",
       "        }    #T_d396be5e_d2ca_11e9_8416_309c23131503row3_col1 {\n",
       "            background-color:  #e4e1ef;\n",
       "            color:  #000000;\n",
       "        }    #T_d396be5e_d2ca_11e9_8416_309c23131503row3_col2 {\n",
       "            background-color:  #f3edf5;\n",
       "            color:  #000000;\n",
       "        }    #T_d396be5e_d2ca_11e9_8416_309c23131503row3_col3 {\n",
       "            background-color:  #023858;\n",
       "            color:  #f1f1f1;\n",
       "        }    #T_d396be5e_d2ca_11e9_8416_309c23131503row3_col4 {\n",
       "            background-color:  #f6eff7;\n",
       "            color:  #000000;\n",
       "        }    #T_d396be5e_d2ca_11e9_8416_309c23131503row4_col0 {\n",
       "            background-color:  #e9e5f1;\n",
       "            color:  #000000;\n",
       "        }    #T_d396be5e_d2ca_11e9_8416_309c23131503row4_col1 {\n",
       "            background-color:  #dedcec;\n",
       "            color:  #000000;\n",
       "        }    #T_d396be5e_d2ca_11e9_8416_309c23131503row4_col2 {\n",
       "            background-color:  #fff7fb;\n",
       "            color:  #000000;\n",
       "        }    #T_d396be5e_d2ca_11e9_8416_309c23131503row4_col3 {\n",
       "            background-color:  #faf3f9;\n",
       "            color:  #000000;\n",
       "        }    #T_d396be5e_d2ca_11e9_8416_309c23131503row4_col4 {\n",
       "            background-color:  #023858;\n",
       "            color:  #f1f1f1;\n",
       "        }</style><table id=\"T_d396be5e_d2ca_11e9_8416_309c23131503\" ><thead>    <tr>        <th class=\"blank level0\" ></th>        <th class=\"col_heading level0 col0\" >Sex</th>        <th class=\"col_heading level0 col1\" >Housing</th>        <th class=\"col_heading level0 col2\" >Saving accounts</th>        <th class=\"col_heading level0 col3\" >Checking account</th>        <th class=\"col_heading level0 col4\" >Purpose</th>    </tr></thead><tbody>\n",
       "                <tr>\n",
       "                        <th id=\"T_d396be5e_d2ca_11e9_8416_309c23131503level0_row0\" class=\"row_heading level0 row0\" >Sex</th>\n",
       "                        <td id=\"T_d396be5e_d2ca_11e9_8416_309c23131503row0_col0\" class=\"data row0 col0\" >1</td>\n",
       "                        <td id=\"T_d396be5e_d2ca_11e9_8416_309c23131503row0_col1\" class=\"data row0 col1\" >-0.22</td>\n",
       "                        <td id=\"T_d396be5e_d2ca_11e9_8416_309c23131503row0_col2\" class=\"data row0 col2\" >-0.006</td>\n",
       "                        <td id=\"T_d396be5e_d2ca_11e9_8416_309c23131503row0_col3\" class=\"data row0 col3\" >-0.014</td>\n",
       "                        <td id=\"T_d396be5e_d2ca_11e9_8416_309c23131503row0_col4\" class=\"data row0 col4\" >-0.055</td>\n",
       "            </tr>\n",
       "            <tr>\n",
       "                        <th id=\"T_d396be5e_d2ca_11e9_8416_309c23131503level0_row1\" class=\"row_heading level0 row1\" >Housing</th>\n",
       "                        <td id=\"T_d396be5e_d2ca_11e9_8416_309c23131503row1_col0\" class=\"data row1 col0\" >-0.22</td>\n",
       "                        <td id=\"T_d396be5e_d2ca_11e9_8416_309c23131503row1_col1\" class=\"data row1 col1\" >1</td>\n",
       "                        <td id=\"T_d396be5e_d2ca_11e9_8416_309c23131503row1_col2\" class=\"data row1 col2\" >0.045</td>\n",
       "                        <td id=\"T_d396be5e_d2ca_11e9_8416_309c23131503row1_col3\" class=\"data row1 col3\" >-0.023</td>\n",
       "                        <td id=\"T_d396be5e_d2ca_11e9_8416_309c23131503row1_col4\" class=\"data row1 col4\" >0.0087</td>\n",
       "            </tr>\n",
       "            <tr>\n",
       "                        <th id=\"T_d396be5e_d2ca_11e9_8416_309c23131503level0_row2\" class=\"row_heading level0 row2\" >Saving accounts</th>\n",
       "                        <td id=\"T_d396be5e_d2ca_11e9_8416_309c23131503row2_col0\" class=\"data row2 col0\" >-0.006</td>\n",
       "                        <td id=\"T_d396be5e_d2ca_11e9_8416_309c23131503row2_col1\" class=\"data row2 col1\" >0.045</td>\n",
       "                        <td id=\"T_d396be5e_d2ca_11e9_8416_309c23131503row2_col2\" class=\"data row2 col2\" >1</td>\n",
       "                        <td id=\"T_d396be5e_d2ca_11e9_8416_309c23131503row2_col3\" class=\"data row2 col3\" >0.049</td>\n",
       "                        <td id=\"T_d396be5e_d2ca_11e9_8416_309c23131503row2_col4\" class=\"data row2 col4\" >-0.032</td>\n",
       "            </tr>\n",
       "            <tr>\n",
       "                        <th id=\"T_d396be5e_d2ca_11e9_8416_309c23131503level0_row3\" class=\"row_heading level0 row3\" >Checking account</th>\n",
       "                        <td id=\"T_d396be5e_d2ca_11e9_8416_309c23131503row3_col0\" class=\"data row3 col0\" >-0.014</td>\n",
       "                        <td id=\"T_d396be5e_d2ca_11e9_8416_309c23131503row3_col1\" class=\"data row3 col1\" >-0.023</td>\n",
       "                        <td id=\"T_d396be5e_d2ca_11e9_8416_309c23131503row3_col2\" class=\"data row3 col2\" >0.049</td>\n",
       "                        <td id=\"T_d396be5e_d2ca_11e9_8416_309c23131503row3_col3\" class=\"data row3 col3\" >1</td>\n",
       "                        <td id=\"T_d396be5e_d2ca_11e9_8416_309c23131503row3_col4\" class=\"data row3 col4\" >0.0098</td>\n",
       "            </tr>\n",
       "            <tr>\n",
       "                        <th id=\"T_d396be5e_d2ca_11e9_8416_309c23131503level0_row4\" class=\"row_heading level0 row4\" >Purpose</th>\n",
       "                        <td id=\"T_d396be5e_d2ca_11e9_8416_309c23131503row4_col0\" class=\"data row4 col0\" >-0.055</td>\n",
       "                        <td id=\"T_d396be5e_d2ca_11e9_8416_309c23131503row4_col1\" class=\"data row4 col1\" >0.0087</td>\n",
       "                        <td id=\"T_d396be5e_d2ca_11e9_8416_309c23131503row4_col2\" class=\"data row4 col2\" >-0.032</td>\n",
       "                        <td id=\"T_d396be5e_d2ca_11e9_8416_309c23131503row4_col3\" class=\"data row4 col3\" >0.0098</td>\n",
       "                        <td id=\"T_d396be5e_d2ca_11e9_8416_309c23131503row4_col4\" class=\"data row4 col4\" >1</td>\n",
       "            </tr>\n",
       "    </tbody></table>"
      ],
      "text/plain": [
       "<pandas.io.formats.style.Styler at 0x22d7858bcf8>"
      ]
     },
     "execution_count": 465,
     "metadata": {},
     "output_type": "execute_result"
    }
   ],
   "source": [
    "data2[kategorikal].corr(method='spearman').style.background_gradient().set_precision(2) #untuk data kategorik"
   ]
  },
  {
   "cell_type": "code",
   "execution_count": 466,
   "metadata": {},
   "outputs": [
    {
     "data": {
      "text/html": [
       "<style  type=\"text/css\" >\n",
       "    #T_d39ab206_d2ca_11e9_949b_309c23131503row0_col0 {\n",
       "            background-color:  #023858;\n",
       "            color:  #f1f1f1;\n",
       "        }    #T_d39ab206_d2ca_11e9_949b_309c23131503row0_col1 {\n",
       "            background-color:  #fff7fb;\n",
       "            color:  #000000;\n",
       "        }    #T_d39ab206_d2ca_11e9_949b_309c23131503row0_col2 {\n",
       "            background-color:  #fff7fb;\n",
       "            color:  #000000;\n",
       "        }    #T_d39ab206_d2ca_11e9_949b_309c23131503row0_col3 {\n",
       "            background-color:  #fff7fb;\n",
       "            color:  #000000;\n",
       "        }    #T_d39ab206_d2ca_11e9_949b_309c23131503row1_col0 {\n",
       "            background-color:  #f8f1f8;\n",
       "            color:  #000000;\n",
       "        }    #T_d39ab206_d2ca_11e9_949b_309c23131503row1_col1 {\n",
       "            background-color:  #023858;\n",
       "            color:  #f1f1f1;\n",
       "        }    #T_d39ab206_d2ca_11e9_949b_309c23131503row1_col2 {\n",
       "            background-color:  #cdd0e5;\n",
       "            color:  #000000;\n",
       "        }    #T_d39ab206_d2ca_11e9_949b_309c23131503row1_col3 {\n",
       "            background-color:  #d2d3e7;\n",
       "            color:  #000000;\n",
       "        }    #T_d39ab206_d2ca_11e9_949b_309c23131503row2_col0 {\n",
       "            background-color:  #f5eef6;\n",
       "            color:  #000000;\n",
       "        }    #T_d39ab206_d2ca_11e9_949b_309c23131503row2_col1 {\n",
       "            background-color:  #c8cde4;\n",
       "            color:  #000000;\n",
       "        }    #T_d39ab206_d2ca_11e9_949b_309c23131503row2_col2 {\n",
       "            background-color:  #023858;\n",
       "            color:  #f1f1f1;\n",
       "        }    #T_d39ab206_d2ca_11e9_949b_309c23131503row2_col3 {\n",
       "            background-color:  #308cbe;\n",
       "            color:  #000000;\n",
       "        }    #T_d39ab206_d2ca_11e9_949b_309c23131503row3_col0 {\n",
       "            background-color:  #fff7fb;\n",
       "            color:  #000000;\n",
       "        }    #T_d39ab206_d2ca_11e9_949b_309c23131503row3_col1 {\n",
       "            background-color:  #dcdaeb;\n",
       "            color:  #000000;\n",
       "        }    #T_d39ab206_d2ca_11e9_949b_309c23131503row3_col2 {\n",
       "            background-color:  #3d93c2;\n",
       "            color:  #000000;\n",
       "        }    #T_d39ab206_d2ca_11e9_949b_309c23131503row3_col3 {\n",
       "            background-color:  #023858;\n",
       "            color:  #f1f1f1;\n",
       "        }</style><table id=\"T_d39ab206_d2ca_11e9_949b_309c23131503\" ><thead>    <tr>        <th class=\"blank level0\" ></th>        <th class=\"col_heading level0 col0\" >Age</th>        <th class=\"col_heading level0 col1\" >Job</th>        <th class=\"col_heading level0 col2\" >Credit amount</th>        <th class=\"col_heading level0 col3\" >Duration</th>    </tr></thead><tbody>\n",
       "                <tr>\n",
       "                        <th id=\"T_d39ab206_d2ca_11e9_949b_309c23131503level0_row0\" class=\"row_heading level0 row0\" >Age</th>\n",
       "                        <td id=\"T_d39ab206_d2ca_11e9_949b_309c23131503row0_col0\" class=\"data row0 col0\" >1</td>\n",
       "                        <td id=\"T_d39ab206_d2ca_11e9_949b_309c23131503row0_col1\" class=\"data row0 col1\" >0.016</td>\n",
       "                        <td id=\"T_d39ab206_d2ca_11e9_949b_309c23131503row0_col2\" class=\"data row0 col2\" >0.033</td>\n",
       "                        <td id=\"T_d39ab206_d2ca_11e9_949b_309c23131503row0_col3\" class=\"data row0 col3\" >-0.036</td>\n",
       "            </tr>\n",
       "            <tr>\n",
       "                        <th id=\"T_d39ab206_d2ca_11e9_949b_309c23131503level0_row1\" class=\"row_heading level0 row1\" >Job</th>\n",
       "                        <td id=\"T_d39ab206_d2ca_11e9_949b_309c23131503row1_col0\" class=\"data row1 col0\" >0.016</td>\n",
       "                        <td id=\"T_d39ab206_d2ca_11e9_949b_309c23131503row1_col1\" class=\"data row1 col1\" >1</td>\n",
       "                        <td id=\"T_d39ab206_d2ca_11e9_949b_309c23131503row1_col2\" class=\"data row1 col2\" >0.29</td>\n",
       "                        <td id=\"T_d39ab206_d2ca_11e9_949b_309c23131503row1_col3\" class=\"data row1 col3\" >0.21</td>\n",
       "            </tr>\n",
       "            <tr>\n",
       "                        <th id=\"T_d39ab206_d2ca_11e9_949b_309c23131503level0_row2\" class=\"row_heading level0 row2\" >Credit amount</th>\n",
       "                        <td id=\"T_d39ab206_d2ca_11e9_949b_309c23131503row2_col0\" class=\"data row2 col0\" >0.033</td>\n",
       "                        <td id=\"T_d39ab206_d2ca_11e9_949b_309c23131503row2_col1\" class=\"data row2 col1\" >0.29</td>\n",
       "                        <td id=\"T_d39ab206_d2ca_11e9_949b_309c23131503row2_col2\" class=\"data row2 col2\" >1</td>\n",
       "                        <td id=\"T_d39ab206_d2ca_11e9_949b_309c23131503row2_col3\" class=\"data row2 col3\" >0.62</td>\n",
       "            </tr>\n",
       "            <tr>\n",
       "                        <th id=\"T_d39ab206_d2ca_11e9_949b_309c23131503level0_row3\" class=\"row_heading level0 row3\" >Duration</th>\n",
       "                        <td id=\"T_d39ab206_d2ca_11e9_949b_309c23131503row3_col0\" class=\"data row3 col0\" >-0.036</td>\n",
       "                        <td id=\"T_d39ab206_d2ca_11e9_949b_309c23131503row3_col1\" class=\"data row3 col1\" >0.21</td>\n",
       "                        <td id=\"T_d39ab206_d2ca_11e9_949b_309c23131503row3_col2\" class=\"data row3 col2\" >0.62</td>\n",
       "                        <td id=\"T_d39ab206_d2ca_11e9_949b_309c23131503row3_col3\" class=\"data row3 col3\" >1</td>\n",
       "            </tr>\n",
       "    </tbody></table>"
      ],
      "text/plain": [
       "<pandas.io.formats.style.Styler at 0x22d01273cf8>"
      ]
     },
     "execution_count": 466,
     "metadata": {},
     "output_type": "execute_result"
    }
   ],
   "source": [
    "data.corr(method='pearson').style.background_gradient().set_precision(2) #untuk data numerikal"
   ]
  },
  {
   "cell_type": "code",
   "execution_count": 467,
   "metadata": {},
   "outputs": [
    {
     "data": {
      "text/html": [
       "<style  type=\"text/css\" >\n",
       "    #T_d3a5592c_d2ca_11e9_86e6_309c23131503row0_col0 {\n",
       "            background-color:  #023858;\n",
       "            color:  #f1f1f1;\n",
       "        }    #T_d3a5592c_d2ca_11e9_86e6_309c23131503row0_col1 {\n",
       "            background-color:  #bbc7e0;\n",
       "            color:  #000000;\n",
       "        }    #T_d3a5592c_d2ca_11e9_86e6_309c23131503row0_col2 {\n",
       "            background-color:  #eee9f3;\n",
       "            color:  #000000;\n",
       "        }    #T_d3a5592c_d2ca_11e9_86e6_309c23131503row0_col3 {\n",
       "            background-color:  #fff7fb;\n",
       "            color:  #000000;\n",
       "        }    #T_d3a5592c_d2ca_11e9_86e6_309c23131503row0_col4 {\n",
       "            background-color:  #f2ecf5;\n",
       "            color:  #000000;\n",
       "        }    #T_d3a5592c_d2ca_11e9_86e6_309c23131503row0_col5 {\n",
       "            background-color:  #fdf5fa;\n",
       "            color:  #000000;\n",
       "        }    #T_d3a5592c_d2ca_11e9_86e6_309c23131503row0_col6 {\n",
       "            background-color:  #e5e1ef;\n",
       "            color:  #000000;\n",
       "        }    #T_d3a5592c_d2ca_11e9_86e6_309c23131503row0_col7 {\n",
       "            background-color:  #f0eaf4;\n",
       "            color:  #000000;\n",
       "        }    #T_d3a5592c_d2ca_11e9_86e6_309c23131503row0_col8 {\n",
       "            background-color:  #f5eef6;\n",
       "            color:  #000000;\n",
       "        }    #T_d3a5592c_d2ca_11e9_86e6_309c23131503row1_col0 {\n",
       "            background-color:  #acc0dd;\n",
       "            color:  #000000;\n",
       "        }    #T_d3a5592c_d2ca_11e9_86e6_309c23131503row1_col1 {\n",
       "            background-color:  #023858;\n",
       "            color:  #f1f1f1;\n",
       "        }    #T_d3a5592c_d2ca_11e9_86e6_309c23131503row1_col2 {\n",
       "            background-color:  #e4e1ef;\n",
       "            color:  #000000;\n",
       "        }    #T_d3a5592c_d2ca_11e9_86e6_309c23131503row1_col3 {\n",
       "            background-color:  #f5eff6;\n",
       "            color:  #000000;\n",
       "        }    #T_d3a5592c_d2ca_11e9_86e6_309c23131503row1_col4 {\n",
       "            background-color:  #f6eff7;\n",
       "            color:  #000000;\n",
       "        }    #T_d3a5592c_d2ca_11e9_86e6_309c23131503row1_col5 {\n",
       "            background-color:  #fbf3f9;\n",
       "            color:  #000000;\n",
       "        }    #T_d3a5592c_d2ca_11e9_86e6_309c23131503row1_col6 {\n",
       "            background-color:  #d9d8ea;\n",
       "            color:  #000000;\n",
       "        }    #T_d3a5592c_d2ca_11e9_86e6_309c23131503row1_col7 {\n",
       "            background-color:  #dad9ea;\n",
       "            color:  #000000;\n",
       "        }    #T_d3a5592c_d2ca_11e9_86e6_309c23131503row1_col8 {\n",
       "            background-color:  #f4edf6;\n",
       "            color:  #000000;\n",
       "        }    #T_d3a5592c_d2ca_11e9_86e6_309c23131503row2_col0 {\n",
       "            background-color:  #d2d2e7;\n",
       "            color:  #000000;\n",
       "        }    #T_d3a5592c_d2ca_11e9_86e6_309c23131503row2_col1 {\n",
       "            background-color:  #d3d4e7;\n",
       "            color:  #000000;\n",
       "        }    #T_d3a5592c_d2ca_11e9_86e6_309c23131503row2_col2 {\n",
       "            background-color:  #023858;\n",
       "            color:  #f1f1f1;\n",
       "        }    #T_d3a5592c_d2ca_11e9_86e6_309c23131503row2_col3 {\n",
       "            background-color:  #e7e3f0;\n",
       "            color:  #000000;\n",
       "        }    #T_d3a5592c_d2ca_11e9_86e6_309c23131503row2_col4 {\n",
       "            background-color:  #f9f2f8;\n",
       "            color:  #000000;\n",
       "        }    #T_d3a5592c_d2ca_11e9_86e6_309c23131503row2_col5 {\n",
       "            background-color:  #fff7fb;\n",
       "            color:  #000000;\n",
       "        }    #T_d3a5592c_d2ca_11e9_86e6_309c23131503row2_col6 {\n",
       "            background-color:  #a4bcda;\n",
       "            color:  #000000;\n",
       "        }    #T_d3a5592c_d2ca_11e9_86e6_309c23131503row2_col7 {\n",
       "            background-color:  #b9c6e0;\n",
       "            color:  #000000;\n",
       "        }    #T_d3a5592c_d2ca_11e9_86e6_309c23131503row2_col8 {\n",
       "            background-color:  #eee9f3;\n",
       "            color:  #000000;\n",
       "        }    #T_d3a5592c_d2ca_11e9_86e6_309c23131503row3_col0 {\n",
       "            background-color:  #fff7fb;\n",
       "            color:  #000000;\n",
       "        }    #T_d3a5592c_d2ca_11e9_86e6_309c23131503row3_col1 {\n",
       "            background-color:  #fff7fb;\n",
       "            color:  #000000;\n",
       "        }    #T_d3a5592c_d2ca_11e9_86e6_309c23131503row3_col2 {\n",
       "            background-color:  #fff7fb;\n",
       "            color:  #000000;\n",
       "        }    #T_d3a5592c_d2ca_11e9_86e6_309c23131503row3_col3 {\n",
       "            background-color:  #023858;\n",
       "            color:  #f1f1f1;\n",
       "        }    #T_d3a5592c_d2ca_11e9_86e6_309c23131503row3_col4 {\n",
       "            background-color:  #eee9f3;\n",
       "            color:  #000000;\n",
       "        }    #T_d3a5592c_d2ca_11e9_86e6_309c23131503row3_col5 {\n",
       "            background-color:  #fdf5fa;\n",
       "            color:  #000000;\n",
       "        }    #T_d3a5592c_d2ca_11e9_86e6_309c23131503row3_col6 {\n",
       "            background-color:  #fdf5fa;\n",
       "            color:  #000000;\n",
       "        }    #T_d3a5592c_d2ca_11e9_86e6_309c23131503row3_col7 {\n",
       "            background-color:  #fff7fb;\n",
       "            color:  #000000;\n",
       "        }    #T_d3a5592c_d2ca_11e9_86e6_309c23131503row3_col8 {\n",
       "            background-color:  #e7e3f0;\n",
       "            color:  #000000;\n",
       "        }    #T_d3a5592c_d2ca_11e9_86e6_309c23131503row4_col0 {\n",
       "            background-color:  #d2d2e7;\n",
       "            color:  #000000;\n",
       "        }    #T_d3a5592c_d2ca_11e9_86e6_309c23131503row4_col1 {\n",
       "            background-color:  #e2dfee;\n",
       "            color:  #000000;\n",
       "        }    #T_d3a5592c_d2ca_11e9_86e6_309c23131503row4_col2 {\n",
       "            background-color:  #f5eff6;\n",
       "            color:  #000000;\n",
       "        }    #T_d3a5592c_d2ca_11e9_86e6_309c23131503row4_col3 {\n",
       "            background-color:  #cccfe5;\n",
       "            color:  #000000;\n",
       "        }    #T_d3a5592c_d2ca_11e9_86e6_309c23131503row4_col4 {\n",
       "            background-color:  #023858;\n",
       "            color:  #f1f1f1;\n",
       "        }    #T_d3a5592c_d2ca_11e9_86e6_309c23131503row4_col5 {\n",
       "            background-color:  #f7f0f7;\n",
       "            color:  #000000;\n",
       "        }    #T_d3a5592c_d2ca_11e9_86e6_309c23131503row4_col6 {\n",
       "            background-color:  #f5eff6;\n",
       "            color:  #000000;\n",
       "        }    #T_d3a5592c_d2ca_11e9_86e6_309c23131503row4_col7 {\n",
       "            background-color:  #f0eaf4;\n",
       "            color:  #000000;\n",
       "        }    #T_d3a5592c_d2ca_11e9_86e6_309c23131503row4_col8 {\n",
       "            background-color:  #eee9f3;\n",
       "            color:  #000000;\n",
       "        }    #T_d3a5592c_d2ca_11e9_86e6_309c23131503row5_col0 {\n",
       "            background-color:  #d9d8ea;\n",
       "            color:  #000000;\n",
       "        }    #T_d3a5592c_d2ca_11e9_86e6_309c23131503row5_col1 {\n",
       "            background-color:  #e2dfee;\n",
       "            color:  #000000;\n",
       "        }    #T_d3a5592c_d2ca_11e9_86e6_309c23131503row5_col2 {\n",
       "            background-color:  #f7f0f7;\n",
       "            color:  #000000;\n",
       "        }    #T_d3a5592c_d2ca_11e9_86e6_309c23131503row5_col3 {\n",
       "            background-color:  #d9d8ea;\n",
       "            color:  #000000;\n",
       "        }    #T_d3a5592c_d2ca_11e9_86e6_309c23131503row5_col4 {\n",
       "            background-color:  #f2ecf5;\n",
       "            color:  #000000;\n",
       "        }    #T_d3a5592c_d2ca_11e9_86e6_309c23131503row5_col5 {\n",
       "            background-color:  #023858;\n",
       "            color:  #f1f1f1;\n",
       "        }    #T_d3a5592c_d2ca_11e9_86e6_309c23131503row5_col6 {\n",
       "            background-color:  #e9e5f1;\n",
       "            color:  #000000;\n",
       "        }    #T_d3a5592c_d2ca_11e9_86e6_309c23131503row5_col7 {\n",
       "            background-color:  #e9e5f1;\n",
       "            color:  #000000;\n",
       "        }    #T_d3a5592c_d2ca_11e9_86e6_309c23131503row5_col8 {\n",
       "            background-color:  #e7e3f0;\n",
       "            color:  #000000;\n",
       "        }    #T_d3a5592c_d2ca_11e9_86e6_309c23131503row6_col0 {\n",
       "            background-color:  #ced0e6;\n",
       "            color:  #000000;\n",
       "        }    #T_d3a5592c_d2ca_11e9_86e6_309c23131503row6_col1 {\n",
       "            background-color:  #ced0e6;\n",
       "            color:  #000000;\n",
       "        }    #T_d3a5592c_d2ca_11e9_86e6_309c23131503row6_col2 {\n",
       "            background-color:  #adc1dd;\n",
       "            color:  #000000;\n",
       "        }    #T_d3a5592c_d2ca_11e9_86e6_309c23131503row6_col3 {\n",
       "            background-color:  #ece7f2;\n",
       "            color:  #000000;\n",
       "        }    #T_d3a5592c_d2ca_11e9_86e6_309c23131503row6_col4 {\n",
       "            background-color:  #fff7fb;\n",
       "            color:  #000000;\n",
       "        }    #T_d3a5592c_d2ca_11e9_86e6_309c23131503row6_col5 {\n",
       "            background-color:  #f8f1f8;\n",
       "            color:  #000000;\n",
       "        }    #T_d3a5592c_d2ca_11e9_86e6_309c23131503row6_col6 {\n",
       "            background-color:  #023858;\n",
       "            color:  #f1f1f1;\n",
       "        }    #T_d3a5592c_d2ca_11e9_86e6_309c23131503row6_col7 {\n",
       "            background-color:  #2182b9;\n",
       "            color:  #000000;\n",
       "        }    #T_d3a5592c_d2ca_11e9_86e6_309c23131503row6_col8 {\n",
       "            background-color:  #fff7fb;\n",
       "            color:  #000000;\n",
       "        }    #T_d3a5592c_d2ca_11e9_86e6_309c23131503row7_col0 {\n",
       "            background-color:  #dad9ea;\n",
       "            color:  #000000;\n",
       "        }    #T_d3a5592c_d2ca_11e9_86e6_309c23131503row7_col1 {\n",
       "            background-color:  #d1d2e6;\n",
       "            color:  #000000;\n",
       "        }    #T_d3a5592c_d2ca_11e9_86e6_309c23131503row7_col2 {\n",
       "            background-color:  #c4cbe3;\n",
       "            color:  #000000;\n",
       "        }    #T_d3a5592c_d2ca_11e9_86e6_309c23131503row7_col3 {\n",
       "            background-color:  #eee9f3;\n",
       "            color:  #000000;\n",
       "        }    #T_d3a5592c_d2ca_11e9_86e6_309c23131503row7_col4 {\n",
       "            background-color:  #faf3f9;\n",
       "            color:  #000000;\n",
       "        }    #T_d3a5592c_d2ca_11e9_86e6_309c23131503row7_col5 {\n",
       "            background-color:  #f8f1f8;\n",
       "            color:  #000000;\n",
       "        }    #T_d3a5592c_d2ca_11e9_86e6_309c23131503row7_col6 {\n",
       "            background-color:  #2383ba;\n",
       "            color:  #000000;\n",
       "        }    #T_d3a5592c_d2ca_11e9_86e6_309c23131503row7_col7 {\n",
       "            background-color:  #023858;\n",
       "            color:  #f1f1f1;\n",
       "        }    #T_d3a5592c_d2ca_11e9_86e6_309c23131503row7_col8 {\n",
       "            background-color:  #f6eff7;\n",
       "            color:  #000000;\n",
       "        }    #T_d3a5592c_d2ca_11e9_86e6_309c23131503row8_col0 {\n",
       "            background-color:  #e1dfed;\n",
       "            color:  #000000;\n",
       "        }    #T_d3a5592c_d2ca_11e9_86e6_309c23131503row8_col1 {\n",
       "            background-color:  #ece7f2;\n",
       "            color:  #000000;\n",
       "        }    #T_d3a5592c_d2ca_11e9_86e6_309c23131503row8_col2 {\n",
       "            background-color:  #f4eef6;\n",
       "            color:  #000000;\n",
       "        }    #T_d3a5592c_d2ca_11e9_86e6_309c23131503row8_col3 {\n",
       "            background-color:  #d1d2e6;\n",
       "            color:  #000000;\n",
       "        }    #T_d3a5592c_d2ca_11e9_86e6_309c23131503row8_col4 {\n",
       "            background-color:  #f8f1f8;\n",
       "            color:  #000000;\n",
       "        }    #T_d3a5592c_d2ca_11e9_86e6_309c23131503row8_col5 {\n",
       "            background-color:  #f6eff7;\n",
       "            color:  #000000;\n",
       "        }    #T_d3a5592c_d2ca_11e9_86e6_309c23131503row8_col6 {\n",
       "            background-color:  #fff7fb;\n",
       "            color:  #000000;\n",
       "        }    #T_d3a5592c_d2ca_11e9_86e6_309c23131503row8_col7 {\n",
       "            background-color:  #f5eff6;\n",
       "            color:  #000000;\n",
       "        }    #T_d3a5592c_d2ca_11e9_86e6_309c23131503row8_col8 {\n",
       "            background-color:  #023858;\n",
       "            color:  #f1f1f1;\n",
       "        }</style><table id=\"T_d3a5592c_d2ca_11e9_86e6_309c23131503\" ><thead>    <tr>        <th class=\"blank level0\" ></th>        <th class=\"col_heading level0 col0\" >Age</th>        <th class=\"col_heading level0 col1\" >Sex</th>        <th class=\"col_heading level0 col2\" >Job</th>        <th class=\"col_heading level0 col3\" >Housing</th>        <th class=\"col_heading level0 col4\" >Saving accounts</th>        <th class=\"col_heading level0 col5\" >Checking account</th>        <th class=\"col_heading level0 col6\" >Credit amount</th>        <th class=\"col_heading level0 col7\" >Duration</th>        <th class=\"col_heading level0 col8\" >Purpose</th>    </tr></thead><tbody>\n",
       "                <tr>\n",
       "                        <th id=\"T_d3a5592c_d2ca_11e9_86e6_309c23131503level0_row0\" class=\"row_heading level0 row0\" >Age</th>\n",
       "                        <td id=\"T_d3a5592c_d2ca_11e9_86e6_309c23131503row0_col0\" class=\"data row0 col0\" >1</td>\n",
       "                        <td id=\"T_d3a5592c_d2ca_11e9_86e6_309c23131503row0_col1\" class=\"data row0 col1\" >0.16</td>\n",
       "                        <td id=\"T_d3a5592c_d2ca_11e9_86e6_309c23131503row0_col2\" class=\"data row0 col2\" >0.016</td>\n",
       "                        <td id=\"T_d3a5592c_d2ca_11e9_86e6_309c23131503row0_col3\" class=\"data row0 col3\" >-0.3</td>\n",
       "                        <td id=\"T_d3a5592c_d2ca_11e9_86e6_309c23131503row0_col4\" class=\"data row0 col4\" >0.016</td>\n",
       "                        <td id=\"T_d3a5592c_d2ca_11e9_86e6_309c23131503row0_col5\" class=\"data row0 col5\" >-0.027</td>\n",
       "                        <td id=\"T_d3a5592c_d2ca_11e9_86e6_309c23131503row0_col6\" class=\"data row0 col6\" >0.033</td>\n",
       "                        <td id=\"T_d3a5592c_d2ca_11e9_86e6_309c23131503row0_col7\" class=\"data row0 col7\" >-0.036</td>\n",
       "                        <td id=\"T_d3a5592c_d2ca_11e9_86e6_309c23131503row0_col8\" class=\"data row0 col8\" >-0.074</td>\n",
       "            </tr>\n",
       "            <tr>\n",
       "                        <th id=\"T_d3a5592c_d2ca_11e9_86e6_309c23131503level0_row1\" class=\"row_heading level0 row1\" >Sex</th>\n",
       "                        <td id=\"T_d3a5592c_d2ca_11e9_86e6_309c23131503row1_col0\" class=\"data row1 col0\" >0.16</td>\n",
       "                        <td id=\"T_d3a5592c_d2ca_11e9_86e6_309c23131503row1_col1\" class=\"data row1 col1\" >1</td>\n",
       "                        <td id=\"T_d3a5592c_d2ca_11e9_86e6_309c23131503row1_col2\" class=\"data row1 col2\" >0.07</td>\n",
       "                        <td id=\"T_d3a5592c_d2ca_11e9_86e6_309c23131503row1_col3\" class=\"data row1 col3\" >-0.22</td>\n",
       "                        <td id=\"T_d3a5592c_d2ca_11e9_86e6_309c23131503row1_col4\" class=\"data row1 col4\" >-0.014</td>\n",
       "                        <td id=\"T_d3a5592c_d2ca_11e9_86e6_309c23131503row1_col5\" class=\"data row1 col5\" >-0.013</td>\n",
       "                        <td id=\"T_d3a5592c_d2ca_11e9_86e6_309c23131503row1_col6\" class=\"data row1 col6\" >0.093</td>\n",
       "                        <td id=\"T_d3a5592c_d2ca_11e9_86e6_309c23131503row1_col7\" class=\"data row1 col7\" >0.081</td>\n",
       "                        <td id=\"T_d3a5592c_d2ca_11e9_86e6_309c23131503row1_col8\" class=\"data row1 col8\" >-0.063</td>\n",
       "            </tr>\n",
       "            <tr>\n",
       "                        <th id=\"T_d3a5592c_d2ca_11e9_86e6_309c23131503level0_row2\" class=\"row_heading level0 row2\" >Job</th>\n",
       "                        <td id=\"T_d3a5592c_d2ca_11e9_86e6_309c23131503row2_col0\" class=\"data row2 col0\" >0.016</td>\n",
       "                        <td id=\"T_d3a5592c_d2ca_11e9_86e6_309c23131503row2_col1\" class=\"data row2 col1\" >0.07</td>\n",
       "                        <td id=\"T_d3a5592c_d2ca_11e9_86e6_309c23131503row2_col2\" class=\"data row2 col2\" >1</td>\n",
       "                        <td id=\"T_d3a5592c_d2ca_11e9_86e6_309c23131503row2_col3\" class=\"data row2 col3\" >-0.11</td>\n",
       "                        <td id=\"T_d3a5592c_d2ca_11e9_86e6_309c23131503row2_col4\" class=\"data row2 col4\" >-0.035</td>\n",
       "                        <td id=\"T_d3a5592c_d2ca_11e9_86e6_309c23131503row2_col5\" class=\"data row2 col5\" >-0.043</td>\n",
       "                        <td id=\"T_d3a5592c_d2ca_11e9_86e6_309c23131503row2_col6\" class=\"data row2 col6\" >0.29</td>\n",
       "                        <td id=\"T_d3a5592c_d2ca_11e9_86e6_309c23131503row2_col7\" class=\"data row2 col7\" >0.21</td>\n",
       "                        <td id=\"T_d3a5592c_d2ca_11e9_86e6_309c23131503row2_col8\" class=\"data row2 col8\" >-0.025</td>\n",
       "            </tr>\n",
       "            <tr>\n",
       "                        <th id=\"T_d3a5592c_d2ca_11e9_86e6_309c23131503level0_row3\" class=\"row_heading level0 row3\" >Housing</th>\n",
       "                        <td id=\"T_d3a5592c_d2ca_11e9_86e6_309c23131503row3_col0\" class=\"data row3 col0\" >-0.3</td>\n",
       "                        <td id=\"T_d3a5592c_d2ca_11e9_86e6_309c23131503row3_col1\" class=\"data row3 col1\" >-0.22</td>\n",
       "                        <td id=\"T_d3a5592c_d2ca_11e9_86e6_309c23131503row3_col2\" class=\"data row3 col2\" >-0.11</td>\n",
       "                        <td id=\"T_d3a5592c_d2ca_11e9_86e6_309c23131503row3_col3\" class=\"data row3 col3\" >1</td>\n",
       "                        <td id=\"T_d3a5592c_d2ca_11e9_86e6_309c23131503row3_col4\" class=\"data row3 col4\" >0.043</td>\n",
       "                        <td id=\"T_d3a5592c_d2ca_11e9_86e6_309c23131503row3_col5\" class=\"data row3 col5\" >-0.028</td>\n",
       "                        <td id=\"T_d3a5592c_d2ca_11e9_86e6_309c23131503row3_col6\" class=\"data row3 col6\" >-0.14</td>\n",
       "                        <td id=\"T_d3a5592c_d2ca_11e9_86e6_309c23131503row3_col7\" class=\"data row3 col7\" >-0.16</td>\n",
       "                        <td id=\"T_d3a5592c_d2ca_11e9_86e6_309c23131503row3_col8\" class=\"data row3 col8\" >0.021</td>\n",
       "            </tr>\n",
       "            <tr>\n",
       "                        <th id=\"T_d3a5592c_d2ca_11e9_86e6_309c23131503level0_row4\" class=\"row_heading level0 row4\" >Saving accounts</th>\n",
       "                        <td id=\"T_d3a5592c_d2ca_11e9_86e6_309c23131503row4_col0\" class=\"data row4 col0\" >0.016</td>\n",
       "                        <td id=\"T_d3a5592c_d2ca_11e9_86e6_309c23131503row4_col1\" class=\"data row4 col1\" >-0.014</td>\n",
       "                        <td id=\"T_d3a5592c_d2ca_11e9_86e6_309c23131503row4_col2\" class=\"data row4 col2\" >-0.035</td>\n",
       "                        <td id=\"T_d3a5592c_d2ca_11e9_86e6_309c23131503row4_col3\" class=\"data row4 col3\" >0.043</td>\n",
       "                        <td id=\"T_d3a5592c_d2ca_11e9_86e6_309c23131503row4_col4\" class=\"data row4 col4\" >1</td>\n",
       "                        <td id=\"T_d3a5592c_d2ca_11e9_86e6_309c23131503row4_col5\" class=\"data row4 col5\" >0.016</td>\n",
       "                        <td id=\"T_d3a5592c_d2ca_11e9_86e6_309c23131503row4_col6\" class=\"data row4 col6\" >-0.078</td>\n",
       "                        <td id=\"T_d3a5592c_d2ca_11e9_86e6_309c23131503row4_col7\" class=\"data row4 col7\" >-0.043</td>\n",
       "                        <td id=\"T_d3a5592c_d2ca_11e9_86e6_309c23131503row4_col8\" class=\"data row4 col8\" >-0.025</td>\n",
       "            </tr>\n",
       "            <tr>\n",
       "                        <th id=\"T_d3a5592c_d2ca_11e9_86e6_309c23131503level0_row5\" class=\"row_heading level0 row5\" >Checking account</th>\n",
       "                        <td id=\"T_d3a5592c_d2ca_11e9_86e6_309c23131503row5_col0\" class=\"data row5 col0\" >-0.027</td>\n",
       "                        <td id=\"T_d3a5592c_d2ca_11e9_86e6_309c23131503row5_col1\" class=\"data row5 col1\" >-0.013</td>\n",
       "                        <td id=\"T_d3a5592c_d2ca_11e9_86e6_309c23131503row5_col2\" class=\"data row5 col2\" >-0.043</td>\n",
       "                        <td id=\"T_d3a5592c_d2ca_11e9_86e6_309c23131503row5_col3\" class=\"data row5 col3\" >-0.028</td>\n",
       "                        <td id=\"T_d3a5592c_d2ca_11e9_86e6_309c23131503row5_col4\" class=\"data row5 col4\" >0.016</td>\n",
       "                        <td id=\"T_d3a5592c_d2ca_11e9_86e6_309c23131503row5_col5\" class=\"data row5 col5\" >1</td>\n",
       "                        <td id=\"T_d3a5592c_d2ca_11e9_86e6_309c23131503row5_col6\" class=\"data row5 col6\" >0.007</td>\n",
       "                        <td id=\"T_d3a5592c_d2ca_11e9_86e6_309c23131503row5_col7\" class=\"data row5 col7\" >0.0042</td>\n",
       "                        <td id=\"T_d3a5592c_d2ca_11e9_86e6_309c23131503row5_col8\" class=\"data row5 col8\" >0.019</td>\n",
       "            </tr>\n",
       "            <tr>\n",
       "                        <th id=\"T_d3a5592c_d2ca_11e9_86e6_309c23131503level0_row6\" class=\"row_heading level0 row6\" >Credit amount</th>\n",
       "                        <td id=\"T_d3a5592c_d2ca_11e9_86e6_309c23131503row6_col0\" class=\"data row6 col0\" >0.033</td>\n",
       "                        <td id=\"T_d3a5592c_d2ca_11e9_86e6_309c23131503row6_col1\" class=\"data row6 col1\" >0.093</td>\n",
       "                        <td id=\"T_d3a5592c_d2ca_11e9_86e6_309c23131503row6_col2\" class=\"data row6 col2\" >0.29</td>\n",
       "                        <td id=\"T_d3a5592c_d2ca_11e9_86e6_309c23131503row6_col3\" class=\"data row6 col3\" >-0.14</td>\n",
       "                        <td id=\"T_d3a5592c_d2ca_11e9_86e6_309c23131503row6_col4\" class=\"data row6 col4\" >-0.078</td>\n",
       "                        <td id=\"T_d3a5592c_d2ca_11e9_86e6_309c23131503row6_col5\" class=\"data row6 col5\" >0.007</td>\n",
       "                        <td id=\"T_d3a5592c_d2ca_11e9_86e6_309c23131503row6_col6\" class=\"data row6 col6\" >1</td>\n",
       "                        <td id=\"T_d3a5592c_d2ca_11e9_86e6_309c23131503row6_col7\" class=\"data row6 col7\" >0.62</td>\n",
       "                        <td id=\"T_d3a5592c_d2ca_11e9_86e6_309c23131503row6_col8\" class=\"data row6 col8\" >-0.15</td>\n",
       "            </tr>\n",
       "            <tr>\n",
       "                        <th id=\"T_d3a5592c_d2ca_11e9_86e6_309c23131503level0_row7\" class=\"row_heading level0 row7\" >Duration</th>\n",
       "                        <td id=\"T_d3a5592c_d2ca_11e9_86e6_309c23131503row7_col0\" class=\"data row7 col0\" >-0.036</td>\n",
       "                        <td id=\"T_d3a5592c_d2ca_11e9_86e6_309c23131503row7_col1\" class=\"data row7 col1\" >0.081</td>\n",
       "                        <td id=\"T_d3a5592c_d2ca_11e9_86e6_309c23131503row7_col2\" class=\"data row7 col2\" >0.21</td>\n",
       "                        <td id=\"T_d3a5592c_d2ca_11e9_86e6_309c23131503row7_col3\" class=\"data row7 col3\" >-0.16</td>\n",
       "                        <td id=\"T_d3a5592c_d2ca_11e9_86e6_309c23131503row7_col4\" class=\"data row7 col4\" >-0.043</td>\n",
       "                        <td id=\"T_d3a5592c_d2ca_11e9_86e6_309c23131503row7_col5\" class=\"data row7 col5\" >0.0042</td>\n",
       "                        <td id=\"T_d3a5592c_d2ca_11e9_86e6_309c23131503row7_col6\" class=\"data row7 col6\" >0.62</td>\n",
       "                        <td id=\"T_d3a5592c_d2ca_11e9_86e6_309c23131503row7_col7\" class=\"data row7 col7\" >1</td>\n",
       "                        <td id=\"T_d3a5592c_d2ca_11e9_86e6_309c23131503row7_col8\" class=\"data row7 col8\" >-0.083</td>\n",
       "            </tr>\n",
       "            <tr>\n",
       "                        <th id=\"T_d3a5592c_d2ca_11e9_86e6_309c23131503level0_row8\" class=\"row_heading level0 row8\" >Purpose</th>\n",
       "                        <td id=\"T_d3a5592c_d2ca_11e9_86e6_309c23131503row8_col0\" class=\"data row8 col0\" >-0.074</td>\n",
       "                        <td id=\"T_d3a5592c_d2ca_11e9_86e6_309c23131503row8_col1\" class=\"data row8 col1\" >-0.063</td>\n",
       "                        <td id=\"T_d3a5592c_d2ca_11e9_86e6_309c23131503row8_col2\" class=\"data row8 col2\" >-0.025</td>\n",
       "                        <td id=\"T_d3a5592c_d2ca_11e9_86e6_309c23131503row8_col3\" class=\"data row8 col3\" >0.021</td>\n",
       "                        <td id=\"T_d3a5592c_d2ca_11e9_86e6_309c23131503row8_col4\" class=\"data row8 col4\" >-0.025</td>\n",
       "                        <td id=\"T_d3a5592c_d2ca_11e9_86e6_309c23131503row8_col5\" class=\"data row8 col5\" >0.019</td>\n",
       "                        <td id=\"T_d3a5592c_d2ca_11e9_86e6_309c23131503row8_col6\" class=\"data row8 col6\" >-0.15</td>\n",
       "                        <td id=\"T_d3a5592c_d2ca_11e9_86e6_309c23131503row8_col7\" class=\"data row8 col7\" >-0.083</td>\n",
       "                        <td id=\"T_d3a5592c_d2ca_11e9_86e6_309c23131503row8_col8\" class=\"data row8 col8\" >1</td>\n",
       "            </tr>\n",
       "    </tbody></table>"
      ],
      "text/plain": [
       "<pandas.io.formats.style.Styler at 0x22d7858b908>"
      ]
     },
     "execution_count": 467,
     "metadata": {},
     "output_type": "execute_result"
    }
   ],
   "source": [
    "data2.corr(method='pearson').style.background_gradient().set_precision(2) #untuk semua data"
   ]
  },
  {
   "cell_type": "code",
   "execution_count": 468,
   "metadata": {},
   "outputs": [
    {
     "data": {
      "text/plain": [
       "<matplotlib.axes._subplots.AxesSubplot at 0x22d7f4d8128>"
      ]
     },
     "execution_count": 468,
     "metadata": {},
     "output_type": "execute_result"
    },
    {
     "data": {
      "image/png": "[encoded data removed]",
      "text/plain": [
       "<Figure size 720x576 with 2 Axes>"
      ]
     },
     "metadata": {
      "needs_background": "light"
     },
     "output_type": "display_data"
    }
   ],
   "source": [
    "plt.figure(figsize=(10,8))\n",
    "sns.heatmap(data2.corr(method='pearson'))"
   ]
  },
  {
   "cell_type": "markdown",
   "metadata": {},
   "source": [
    "### Hubungan antara Job dengan Credit Amount, Job dengan Duration"
   ]
  },
  {
   "cell_type": "code",
   "execution_count": 469,
   "metadata": {},
   "outputs": [
    {
     "data": {
      "text/plain": [
       "<matplotlib.axes._subplots.AxesSubplot at 0x22d781e7a90>"
      ]
     },
     "execution_count": 469,
     "metadata": {},
     "output_type": "execute_result"
    },
    {
     "data": {
      "image/png": "[encoded data removed]",
      "text/plain": [
       "<Figure size 1440x432 with 2 Axes>"
      ]
     },
     "metadata": {
      "needs_background": "light"
     },
     "output_type": "display_data"
    }
   ],
   "source": [
    "i = plt.figure(figsize=(20,6))\n",
    "\n",
    "i.add_subplot(1,2,1)\n",
    "sns.barplot(data['Job'], data['Duration'])\n",
    "\n",
    "i.add_subplot(1,2,2)\n",
    "sns.barplot(data['Job'], data['Credit amount'], color='yellow')"
   ]
  },
  {
   "cell_type": "markdown",
   "metadata": {},
   "source": [
    "1. ternyata ada korelasi positif tetapi tidak terlalu kuat antara job dengan durasi pinjam dan job dengan jumlah kredit yang dipinjam.\n",
    "2. jadi dengan bertambahnya nilai job atau semakin skillfull orang maka dia berani untuk meminjam kredit lebih besar"
   ]
  },
  {
   "cell_type": "markdown",
   "metadata": {},
   "source": [
    "### Hubungan antara Duration dengan Credit Amount, Purpose dengan Credit amount, Housing dengan credit amount"
   ]
  },
  {
   "cell_type": "code",
   "execution_count": 470,
   "metadata": {},
   "outputs": [
    {
     "data": {
      "image/png": "[encoded data removed]",
      "text/plain": [
       "<Figure size 1440x432 with 3 Axes>"
      ]
     },
     "metadata": {
      "needs_background": "light"
     },
     "output_type": "display_data"
    }
   ],
   "source": [
    "j = plt.figure(figsize=(20,6))\n",
    "\n",
    "j.add_subplot(2,2,1)\n",
    "sns.regplot(data['Duration'], data['Credit amount'])\n",
    "\n",
    "j.add_subplot(2,2,2)\n",
    "plot = sns.barplot(data['Purpose'], data['Credit amount'])\n",
    "plt.setp(plot.get_xticklabels(), rotation=45)\n",
    "\n",
    "j.add_subplot(2,2,3)\n",
    "sns.barplot(data['Housing'], data['Credit amount'])\n",
    "\n",
    "plt.show()\n",
    "f.tight_layout()"
   ]
  },
  {
   "cell_type": "markdown",
   "metadata": {},
   "source": [
    "1. untuk korelasi antara duration dengan credit amount adalah positif yang kuat. dimana dengan bertambahnya durasi pengembalian kredit maka orang akan lebih berani untuk meminjam kredit yang lebih besar\n",
    "2. ternyata walaupun banyak orang yang meminjam kredit untuk vacation, namun rata-rata jumlah kredit untuk vacation adalah yang terbesar. jadi ada kemungkinan bahwa per orang berani meminjam lebih besar kredit untuk vacation\n",
    "3. untuk yang memiliki rumah, semakin dia memiliki rumah maka semakin kecil pula rata-rata uang yang mereka pinjam"
   ]
  },
  {
   "cell_type": "markdown",
   "metadata": {},
   "source": [
    "### Hubungan antara usia dengan gender, gender dengan credit amount, gender dengan duration"
   ]
  },
  {
   "cell_type": "code",
   "execution_count": 471,
   "metadata": {},
   "outputs": [
    {
     "data": {
      "text/plain": [
       "<matplotlib.axes._subplots.AxesSubplot at 0x22d034db9e8>"
      ]
     },
     "execution_count": 471,
     "metadata": {},
     "output_type": "execute_result"
    },
    {
     "data": {
      "image/png": "[encoded data removed]",
      "text/plain": [
       "<Figure size 1440x432 with 3 Axes>"
      ]
     },
     "metadata": {
      "needs_background": "light"
     },
     "output_type": "display_data"
    }
   ],
   "source": [
    "k = plt.figure(figsize=(20,6))\n",
    "\n",
    "k.add_subplot(1,3,1)\n",
    "sns.barplot(data['Sex'], data['Age'])\n",
    "\n",
    "k.add_subplot(1,3,2)\n",
    "sns.barplot(data['Sex'], data['Credit amount'], color='green')\n",
    "\n",
    "k.add_subplot(1,3,3)\n",
    "sns.barplot(data['Sex'], data['Duration'], color='orange')"
   ]
  },
  {
   "cell_type": "markdown",
   "metadata": {},
   "source": [
    "dari 3 grafik diatas dapat ditarik insight:\n",
    "1. sebagian besar laki-laki yang meminjam kredit lebih tua daripada dengan wanita.\n",
    "2. laki laki lebih berani untuk meminjam kredit lebih banyak daripada perempuan\n",
    "3. durasi peminjaman rata-rata oleh laki-laki lebih lama daripada wanita\n",
    "<br>\n",
    "sepertinya laki-laki lebih berani dari wanita yak"
   ]
  },
  {
   "cell_type": "code",
   "execution_count": 472,
   "metadata": {},
   "outputs": [
    {
     "data": {
      "text/plain": [
       "<matplotlib.axes._subplots.AxesSubplot at 0x22d03192978>"
      ]
     },
     "execution_count": 472,
     "metadata": {},
     "output_type": "execute_result"
    },
    {
     "data": {
      "image/png": "[encoded data removed]",
      "text/plain": [
       "<Figure size 1152x576 with 1 Axes>"
      ]
     },
     "metadata": {
      "needs_background": "light"
     },
     "output_type": "display_data"
    }
   ],
   "source": [
    "plt.figure(figsize=(16,8))\n",
    "sns.barplot(data['Age'], data['Credit amount'])"
   ]
  },
  {
   "cell_type": "markdown",
   "metadata": {},
   "source": [
    "dapat dilihat bahwa memang sebagian besar kelompok umur meminjam uangnya dibawah 4000 us dollars"
   ]
  },
  {
   "cell_type": "markdown",
   "metadata": {},
   "source": [
    "## Clustering"
   ]
  },
  {
   "cell_type": "markdown",
   "metadata": {},
   "source": [
    "## Clustering"
   ]
  },
  {
   "cell_type": "markdown",
   "metadata": {},
   "source": [
    "## Clustering"
   ]
  },
  {
   "cell_type": "markdown",
   "metadata": {},
   "source": [
    "## Clustering"
   ]
  },
  {
   "cell_type": "code",
   "execution_count": 473,
   "metadata": {
    "scrolled": true
   },
   "outputs": [
    {
     "data": {
      "text/html": [
       "<style  type=\"text/css\" >\n",
       "    #T_d5741188_d2ca_11e9_92ea_309c23131503row0_col0 {\n",
       "            background-color:  #023858;\n",
       "            color:  #f1f1f1;\n",
       "        }    #T_d5741188_d2ca_11e9_92ea_309c23131503row0_col1 {\n",
       "            background-color:  #bbc7e0;\n",
       "            color:  #000000;\n",
       "        }    #T_d5741188_d2ca_11e9_92ea_309c23131503row0_col2 {\n",
       "            background-color:  #eee9f3;\n",
       "            color:  #000000;\n",
       "        }    #T_d5741188_d2ca_11e9_92ea_309c23131503row0_col3 {\n",
       "            background-color:  #fff7fb;\n",
       "            color:  #000000;\n",
       "        }    #T_d5741188_d2ca_11e9_92ea_309c23131503row0_col4 {\n",
       "            background-color:  #f2ecf5;\n",
       "            color:  #000000;\n",
       "        }    #T_d5741188_d2ca_11e9_92ea_309c23131503row0_col5 {\n",
       "            background-color:  #fdf5fa;\n",
       "            color:  #000000;\n",
       "        }    #T_d5741188_d2ca_11e9_92ea_309c23131503row0_col6 {\n",
       "            background-color:  #e5e1ef;\n",
       "            color:  #000000;\n",
       "        }    #T_d5741188_d2ca_11e9_92ea_309c23131503row0_col7 {\n",
       "            background-color:  #f0eaf4;\n",
       "            color:  #000000;\n",
       "        }    #T_d5741188_d2ca_11e9_92ea_309c23131503row0_col8 {\n",
       "            background-color:  #f5eef6;\n",
       "            color:  #000000;\n",
       "        }    #T_d5741188_d2ca_11e9_92ea_309c23131503row1_col0 {\n",
       "            background-color:  #acc0dd;\n",
       "            color:  #000000;\n",
       "        }    #T_d5741188_d2ca_11e9_92ea_309c23131503row1_col1 {\n",
       "            background-color:  #023858;\n",
       "            color:  #f1f1f1;\n",
       "        }    #T_d5741188_d2ca_11e9_92ea_309c23131503row1_col2 {\n",
       "            background-color:  #e4e1ef;\n",
       "            color:  #000000;\n",
       "        }    #T_d5741188_d2ca_11e9_92ea_309c23131503row1_col3 {\n",
       "            background-color:  #f5eff6;\n",
       "            color:  #000000;\n",
       "        }    #T_d5741188_d2ca_11e9_92ea_309c23131503row1_col4 {\n",
       "            background-color:  #f6eff7;\n",
       "            color:  #000000;\n",
       "        }    #T_d5741188_d2ca_11e9_92ea_309c23131503row1_col5 {\n",
       "            background-color:  #fbf3f9;\n",
       "            color:  #000000;\n",
       "        }    #T_d5741188_d2ca_11e9_92ea_309c23131503row1_col6 {\n",
       "            background-color:  #d9d8ea;\n",
       "            color:  #000000;\n",
       "        }    #T_d5741188_d2ca_11e9_92ea_309c23131503row1_col7 {\n",
       "            background-color:  #dad9ea;\n",
       "            color:  #000000;\n",
       "        }    #T_d5741188_d2ca_11e9_92ea_309c23131503row1_col8 {\n",
       "            background-color:  #f4edf6;\n",
       "            color:  #000000;\n",
       "        }    #T_d5741188_d2ca_11e9_92ea_309c23131503row2_col0 {\n",
       "            background-color:  #d2d2e7;\n",
       "            color:  #000000;\n",
       "        }    #T_d5741188_d2ca_11e9_92ea_309c23131503row2_col1 {\n",
       "            background-color:  #d3d4e7;\n",
       "            color:  #000000;\n",
       "        }    #T_d5741188_d2ca_11e9_92ea_309c23131503row2_col2 {\n",
       "            background-color:  #023858;\n",
       "            color:  #f1f1f1;\n",
       "        }    #T_d5741188_d2ca_11e9_92ea_309c23131503row2_col3 {\n",
       "            background-color:  #e7e3f0;\n",
       "            color:  #000000;\n",
       "        }    #T_d5741188_d2ca_11e9_92ea_309c23131503row2_col4 {\n",
       "            background-color:  #f9f2f8;\n",
       "            color:  #000000;\n",
       "        }    #T_d5741188_d2ca_11e9_92ea_309c23131503row2_col5 {\n",
       "            background-color:  #fff7fb;\n",
       "            color:  #000000;\n",
       "        }    #T_d5741188_d2ca_11e9_92ea_309c23131503row2_col6 {\n",
       "            background-color:  #a4bcda;\n",
       "            color:  #000000;\n",
       "        }    #T_d5741188_d2ca_11e9_92ea_309c23131503row2_col7 {\n",
       "            background-color:  #b9c6e0;\n",
       "            color:  #000000;\n",
       "        }    #T_d5741188_d2ca_11e9_92ea_309c23131503row2_col8 {\n",
       "            background-color:  #eee9f3;\n",
       "            color:  #000000;\n",
       "        }    #T_d5741188_d2ca_11e9_92ea_309c23131503row3_col0 {\n",
       "            background-color:  #fff7fb;\n",
       "            color:  #000000;\n",
       "        }    #T_d5741188_d2ca_11e9_92ea_309c23131503row3_col1 {\n",
       "            background-color:  #fff7fb;\n",
       "            color:  #000000;\n",
       "        }    #T_d5741188_d2ca_11e9_92ea_309c23131503row3_col2 {\n",
       "            background-color:  #fff7fb;\n",
       "            color:  #000000;\n",
       "        }    #T_d5741188_d2ca_11e9_92ea_309c23131503row3_col3 {\n",
       "            background-color:  #023858;\n",
       "            color:  #f1f1f1;\n",
       "        }    #T_d5741188_d2ca_11e9_92ea_309c23131503row3_col4 {\n",
       "            background-color:  #eee9f3;\n",
       "            color:  #000000;\n",
       "        }    #T_d5741188_d2ca_11e9_92ea_309c23131503row3_col5 {\n",
       "            background-color:  #fdf5fa;\n",
       "            color:  #000000;\n",
       "        }    #T_d5741188_d2ca_11e9_92ea_309c23131503row3_col6 {\n",
       "            background-color:  #fdf5fa;\n",
       "            color:  #000000;\n",
       "        }    #T_d5741188_d2ca_11e9_92ea_309c23131503row3_col7 {\n",
       "            background-color:  #fff7fb;\n",
       "            color:  #000000;\n",
       "        }    #T_d5741188_d2ca_11e9_92ea_309c23131503row3_col8 {\n",
       "            background-color:  #e7e3f0;\n",
       "            color:  #000000;\n",
       "        }    #T_d5741188_d2ca_11e9_92ea_309c23131503row4_col0 {\n",
       "            background-color:  #d2d2e7;\n",
       "            color:  #000000;\n",
       "        }    #T_d5741188_d2ca_11e9_92ea_309c23131503row4_col1 {\n",
       "            background-color:  #e2dfee;\n",
       "            color:  #000000;\n",
       "        }    #T_d5741188_d2ca_11e9_92ea_309c23131503row4_col2 {\n",
       "            background-color:  #f5eff6;\n",
       "            color:  #000000;\n",
       "        }    #T_d5741188_d2ca_11e9_92ea_309c23131503row4_col3 {\n",
       "            background-color:  #cccfe5;\n",
       "            color:  #000000;\n",
       "        }    #T_d5741188_d2ca_11e9_92ea_309c23131503row4_col4 {\n",
       "            background-color:  #023858;\n",
       "            color:  #f1f1f1;\n",
       "        }    #T_d5741188_d2ca_11e9_92ea_309c23131503row4_col5 {\n",
       "            background-color:  #f7f0f7;\n",
       "            color:  #000000;\n",
       "        }    #T_d5741188_d2ca_11e9_92ea_309c23131503row4_col6 {\n",
       "            background-color:  #f5eff6;\n",
       "            color:  #000000;\n",
       "        }    #T_d5741188_d2ca_11e9_92ea_309c23131503row4_col7 {\n",
       "            background-color:  #f0eaf4;\n",
       "            color:  #000000;\n",
       "        }    #T_d5741188_d2ca_11e9_92ea_309c23131503row4_col8 {\n",
       "            background-color:  #eee9f3;\n",
       "            color:  #000000;\n",
       "        }    #T_d5741188_d2ca_11e9_92ea_309c23131503row5_col0 {\n",
       "            background-color:  #d9d8ea;\n",
       "            color:  #000000;\n",
       "        }    #T_d5741188_d2ca_11e9_92ea_309c23131503row5_col1 {\n",
       "            background-color:  #e2dfee;\n",
       "            color:  #000000;\n",
       "        }    #T_d5741188_d2ca_11e9_92ea_309c23131503row5_col2 {\n",
       "            background-color:  #f7f0f7;\n",
       "            color:  #000000;\n",
       "        }    #T_d5741188_d2ca_11e9_92ea_309c23131503row5_col3 {\n",
       "            background-color:  #d9d8ea;\n",
       "            color:  #000000;\n",
       "        }    #T_d5741188_d2ca_11e9_92ea_309c23131503row5_col4 {\n",
       "            background-color:  #f2ecf5;\n",
       "            color:  #000000;\n",
       "        }    #T_d5741188_d2ca_11e9_92ea_309c23131503row5_col5 {\n",
       "            background-color:  #023858;\n",
       "            color:  #f1f1f1;\n",
       "        }    #T_d5741188_d2ca_11e9_92ea_309c23131503row5_col6 {\n",
       "            background-color:  #e9e5f1;\n",
       "            color:  #000000;\n",
       "        }    #T_d5741188_d2ca_11e9_92ea_309c23131503row5_col7 {\n",
       "            background-color:  #e9e5f1;\n",
       "            color:  #000000;\n",
       "        }    #T_d5741188_d2ca_11e9_92ea_309c23131503row5_col8 {\n",
       "            background-color:  #e7e3f0;\n",
       "            color:  #000000;\n",
       "        }    #T_d5741188_d2ca_11e9_92ea_309c23131503row6_col0 {\n",
       "            background-color:  #ced0e6;\n",
       "            color:  #000000;\n",
       "        }    #T_d5741188_d2ca_11e9_92ea_309c23131503row6_col1 {\n",
       "            background-color:  #ced0e6;\n",
       "            color:  #000000;\n",
       "        }    #T_d5741188_d2ca_11e9_92ea_309c23131503row6_col2 {\n",
       "            background-color:  #adc1dd;\n",
       "            color:  #000000;\n",
       "        }    #T_d5741188_d2ca_11e9_92ea_309c23131503row6_col3 {\n",
       "            background-color:  #ece7f2;\n",
       "            color:  #000000;\n",
       "        }    #T_d5741188_d2ca_11e9_92ea_309c23131503row6_col4 {\n",
       "            background-color:  #fff7fb;\n",
       "            color:  #000000;\n",
       "        }    #T_d5741188_d2ca_11e9_92ea_309c23131503row6_col5 {\n",
       "            background-color:  #f8f1f8;\n",
       "            color:  #000000;\n",
       "        }    #T_d5741188_d2ca_11e9_92ea_309c23131503row6_col6 {\n",
       "            background-color:  #023858;\n",
       "            color:  #f1f1f1;\n",
       "        }    #T_d5741188_d2ca_11e9_92ea_309c23131503row6_col7 {\n",
       "            background-color:  #2182b9;\n",
       "            color:  #000000;\n",
       "        }    #T_d5741188_d2ca_11e9_92ea_309c23131503row6_col8 {\n",
       "            background-color:  #fff7fb;\n",
       "            color:  #000000;\n",
       "        }    #T_d5741188_d2ca_11e9_92ea_309c23131503row7_col0 {\n",
       "            background-color:  #dad9ea;\n",
       "            color:  #000000;\n",
       "        }    #T_d5741188_d2ca_11e9_92ea_309c23131503row7_col1 {\n",
       "            background-color:  #d1d2e6;\n",
       "            color:  #000000;\n",
       "        }    #T_d5741188_d2ca_11e9_92ea_309c23131503row7_col2 {\n",
       "            background-color:  #c4cbe3;\n",
       "            color:  #000000;\n",
       "        }    #T_d5741188_d2ca_11e9_92ea_309c23131503row7_col3 {\n",
       "            background-color:  #eee9f3;\n",
       "            color:  #000000;\n",
       "        }    #T_d5741188_d2ca_11e9_92ea_309c23131503row7_col4 {\n",
       "            background-color:  #faf3f9;\n",
       "            color:  #000000;\n",
       "        }    #T_d5741188_d2ca_11e9_92ea_309c23131503row7_col5 {\n",
       "            background-color:  #f8f1f8;\n",
       "            color:  #000000;\n",
       "        }    #T_d5741188_d2ca_11e9_92ea_309c23131503row7_col6 {\n",
       "            background-color:  #2383ba;\n",
       "            color:  #000000;\n",
       "        }    #T_d5741188_d2ca_11e9_92ea_309c23131503row7_col7 {\n",
       "            background-color:  #023858;\n",
       "            color:  #f1f1f1;\n",
       "        }    #T_d5741188_d2ca_11e9_92ea_309c23131503row7_col8 {\n",
       "            background-color:  #f6eff7;\n",
       "            color:  #000000;\n",
       "        }    #T_d5741188_d2ca_11e9_92ea_309c23131503row8_col0 {\n",
       "            background-color:  #e1dfed;\n",
       "            color:  #000000;\n",
       "        }    #T_d5741188_d2ca_11e9_92ea_309c23131503row8_col1 {\n",
       "            background-color:  #ece7f2;\n",
       "            color:  #000000;\n",
       "        }    #T_d5741188_d2ca_11e9_92ea_309c23131503row8_col2 {\n",
       "            background-color:  #f4eef6;\n",
       "            color:  #000000;\n",
       "        }    #T_d5741188_d2ca_11e9_92ea_309c23131503row8_col3 {\n",
       "            background-color:  #d1d2e6;\n",
       "            color:  #000000;\n",
       "        }    #T_d5741188_d2ca_11e9_92ea_309c23131503row8_col4 {\n",
       "            background-color:  #f8f1f8;\n",
       "            color:  #000000;\n",
       "        }    #T_d5741188_d2ca_11e9_92ea_309c23131503row8_col5 {\n",
       "            background-color:  #f6eff7;\n",
       "            color:  #000000;\n",
       "        }    #T_d5741188_d2ca_11e9_92ea_309c23131503row8_col6 {\n",
       "            background-color:  #fff7fb;\n",
       "            color:  #000000;\n",
       "        }    #T_d5741188_d2ca_11e9_92ea_309c23131503row8_col7 {\n",
       "            background-color:  #f5eff6;\n",
       "            color:  #000000;\n",
       "        }    #T_d5741188_d2ca_11e9_92ea_309c23131503row8_col8 {\n",
       "            background-color:  #023858;\n",
       "            color:  #f1f1f1;\n",
       "        }</style><table id=\"T_d5741188_d2ca_11e9_92ea_309c23131503\" ><thead>    <tr>        <th class=\"blank level0\" ></th>        <th class=\"col_heading level0 col0\" >Age</th>        <th class=\"col_heading level0 col1\" >Sex</th>        <th class=\"col_heading level0 col2\" >Job</th>        <th class=\"col_heading level0 col3\" >Housing</th>        <th class=\"col_heading level0 col4\" >Saving accounts</th>        <th class=\"col_heading level0 col5\" >Checking account</th>        <th class=\"col_heading level0 col6\" >Credit amount</th>        <th class=\"col_heading level0 col7\" >Duration</th>        <th class=\"col_heading level0 col8\" >Purpose</th>    </tr></thead><tbody>\n",
       "                <tr>\n",
       "                        <th id=\"T_d5741188_d2ca_11e9_92ea_309c23131503level0_row0\" class=\"row_heading level0 row0\" >Age</th>\n",
       "                        <td id=\"T_d5741188_d2ca_11e9_92ea_309c23131503row0_col0\" class=\"data row0 col0\" >1</td>\n",
       "                        <td id=\"T_d5741188_d2ca_11e9_92ea_309c23131503row0_col1\" class=\"data row0 col1\" >0.16</td>\n",
       "                        <td id=\"T_d5741188_d2ca_11e9_92ea_309c23131503row0_col2\" class=\"data row0 col2\" >0.016</td>\n",
       "                        <td id=\"T_d5741188_d2ca_11e9_92ea_309c23131503row0_col3\" class=\"data row0 col3\" >-0.3</td>\n",
       "                        <td id=\"T_d5741188_d2ca_11e9_92ea_309c23131503row0_col4\" class=\"data row0 col4\" >0.016</td>\n",
       "                        <td id=\"T_d5741188_d2ca_11e9_92ea_309c23131503row0_col5\" class=\"data row0 col5\" >-0.027</td>\n",
       "                        <td id=\"T_d5741188_d2ca_11e9_92ea_309c23131503row0_col6\" class=\"data row0 col6\" >0.033</td>\n",
       "                        <td id=\"T_d5741188_d2ca_11e9_92ea_309c23131503row0_col7\" class=\"data row0 col7\" >-0.036</td>\n",
       "                        <td id=\"T_d5741188_d2ca_11e9_92ea_309c23131503row0_col8\" class=\"data row0 col8\" >-0.074</td>\n",
       "            </tr>\n",
       "            <tr>\n",
       "                        <th id=\"T_d5741188_d2ca_11e9_92ea_309c23131503level0_row1\" class=\"row_heading level0 row1\" >Sex</th>\n",
       "                        <td id=\"T_d5741188_d2ca_11e9_92ea_309c23131503row1_col0\" class=\"data row1 col0\" >0.16</td>\n",
       "                        <td id=\"T_d5741188_d2ca_11e9_92ea_309c23131503row1_col1\" class=\"data row1 col1\" >1</td>\n",
       "                        <td id=\"T_d5741188_d2ca_11e9_92ea_309c23131503row1_col2\" class=\"data row1 col2\" >0.07</td>\n",
       "                        <td id=\"T_d5741188_d2ca_11e9_92ea_309c23131503row1_col3\" class=\"data row1 col3\" >-0.22</td>\n",
       "                        <td id=\"T_d5741188_d2ca_11e9_92ea_309c23131503row1_col4\" class=\"data row1 col4\" >-0.014</td>\n",
       "                        <td id=\"T_d5741188_d2ca_11e9_92ea_309c23131503row1_col5\" class=\"data row1 col5\" >-0.013</td>\n",
       "                        <td id=\"T_d5741188_d2ca_11e9_92ea_309c23131503row1_col6\" class=\"data row1 col6\" >0.093</td>\n",
       "                        <td id=\"T_d5741188_d2ca_11e9_92ea_309c23131503row1_col7\" class=\"data row1 col7\" >0.081</td>\n",
       "                        <td id=\"T_d5741188_d2ca_11e9_92ea_309c23131503row1_col8\" class=\"data row1 col8\" >-0.063</td>\n",
       "            </tr>\n",
       "            <tr>\n",
       "                        <th id=\"T_d5741188_d2ca_11e9_92ea_309c23131503level0_row2\" class=\"row_heading level0 row2\" >Job</th>\n",
       "                        <td id=\"T_d5741188_d2ca_11e9_92ea_309c23131503row2_col0\" class=\"data row2 col0\" >0.016</td>\n",
       "                        <td id=\"T_d5741188_d2ca_11e9_92ea_309c23131503row2_col1\" class=\"data row2 col1\" >0.07</td>\n",
       "                        <td id=\"T_d5741188_d2ca_11e9_92ea_309c23131503row2_col2\" class=\"data row2 col2\" >1</td>\n",
       "                        <td id=\"T_d5741188_d2ca_11e9_92ea_309c23131503row2_col3\" class=\"data row2 col3\" >-0.11</td>\n",
       "                        <td id=\"T_d5741188_d2ca_11e9_92ea_309c23131503row2_col4\" class=\"data row2 col4\" >-0.035</td>\n",
       "                        <td id=\"T_d5741188_d2ca_11e9_92ea_309c23131503row2_col5\" class=\"data row2 col5\" >-0.043</td>\n",
       "                        <td id=\"T_d5741188_d2ca_11e9_92ea_309c23131503row2_col6\" class=\"data row2 col6\" >0.29</td>\n",
       "                        <td id=\"T_d5741188_d2ca_11e9_92ea_309c23131503row2_col7\" class=\"data row2 col7\" >0.21</td>\n",
       "                        <td id=\"T_d5741188_d2ca_11e9_92ea_309c23131503row2_col8\" class=\"data row2 col8\" >-0.025</td>\n",
       "            </tr>\n",
       "            <tr>\n",
       "                        <th id=\"T_d5741188_d2ca_11e9_92ea_309c23131503level0_row3\" class=\"row_heading level0 row3\" >Housing</th>\n",
       "                        <td id=\"T_d5741188_d2ca_11e9_92ea_309c23131503row3_col0\" class=\"data row3 col0\" >-0.3</td>\n",
       "                        <td id=\"T_d5741188_d2ca_11e9_92ea_309c23131503row3_col1\" class=\"data row3 col1\" >-0.22</td>\n",
       "                        <td id=\"T_d5741188_d2ca_11e9_92ea_309c23131503row3_col2\" class=\"data row3 col2\" >-0.11</td>\n",
       "                        <td id=\"T_d5741188_d2ca_11e9_92ea_309c23131503row3_col3\" class=\"data row3 col3\" >1</td>\n",
       "                        <td id=\"T_d5741188_d2ca_11e9_92ea_309c23131503row3_col4\" class=\"data row3 col4\" >0.043</td>\n",
       "                        <td id=\"T_d5741188_d2ca_11e9_92ea_309c23131503row3_col5\" class=\"data row3 col5\" >-0.028</td>\n",
       "                        <td id=\"T_d5741188_d2ca_11e9_92ea_309c23131503row3_col6\" class=\"data row3 col6\" >-0.14</td>\n",
       "                        <td id=\"T_d5741188_d2ca_11e9_92ea_309c23131503row3_col7\" class=\"data row3 col7\" >-0.16</td>\n",
       "                        <td id=\"T_d5741188_d2ca_11e9_92ea_309c23131503row3_col8\" class=\"data row3 col8\" >0.021</td>\n",
       "            </tr>\n",
       "            <tr>\n",
       "                        <th id=\"T_d5741188_d2ca_11e9_92ea_309c23131503level0_row4\" class=\"row_heading level0 row4\" >Saving accounts</th>\n",
       "                        <td id=\"T_d5741188_d2ca_11e9_92ea_309c23131503row4_col0\" class=\"data row4 col0\" >0.016</td>\n",
       "                        <td id=\"T_d5741188_d2ca_11e9_92ea_309c23131503row4_col1\" class=\"data row4 col1\" >-0.014</td>\n",
       "                        <td id=\"T_d5741188_d2ca_11e9_92ea_309c23131503row4_col2\" class=\"data row4 col2\" >-0.035</td>\n",
       "                        <td id=\"T_d5741188_d2ca_11e9_92ea_309c23131503row4_col3\" class=\"data row4 col3\" >0.043</td>\n",
       "                        <td id=\"T_d5741188_d2ca_11e9_92ea_309c23131503row4_col4\" class=\"data row4 col4\" >1</td>\n",
       "                        <td id=\"T_d5741188_d2ca_11e9_92ea_309c23131503row4_col5\" class=\"data row4 col5\" >0.016</td>\n",
       "                        <td id=\"T_d5741188_d2ca_11e9_92ea_309c23131503row4_col6\" class=\"data row4 col6\" >-0.078</td>\n",
       "                        <td id=\"T_d5741188_d2ca_11e9_92ea_309c23131503row4_col7\" class=\"data row4 col7\" >-0.043</td>\n",
       "                        <td id=\"T_d5741188_d2ca_11e9_92ea_309c23131503row4_col8\" class=\"data row4 col8\" >-0.025</td>\n",
       "            </tr>\n",
       "            <tr>\n",
       "                        <th id=\"T_d5741188_d2ca_11e9_92ea_309c23131503level0_row5\" class=\"row_heading level0 row5\" >Checking account</th>\n",
       "                        <td id=\"T_d5741188_d2ca_11e9_92ea_309c23131503row5_col0\" class=\"data row5 col0\" >-0.027</td>\n",
       "                        <td id=\"T_d5741188_d2ca_11e9_92ea_309c23131503row5_col1\" class=\"data row5 col1\" >-0.013</td>\n",
       "                        <td id=\"T_d5741188_d2ca_11e9_92ea_309c23131503row5_col2\" class=\"data row5 col2\" >-0.043</td>\n",
       "                        <td id=\"T_d5741188_d2ca_11e9_92ea_309c23131503row5_col3\" class=\"data row5 col3\" >-0.028</td>\n",
       "                        <td id=\"T_d5741188_d2ca_11e9_92ea_309c23131503row5_col4\" class=\"data row5 col4\" >0.016</td>\n",
       "                        <td id=\"T_d5741188_d2ca_11e9_92ea_309c23131503row5_col5\" class=\"data row5 col5\" >1</td>\n",
       "                        <td id=\"T_d5741188_d2ca_11e9_92ea_309c23131503row5_col6\" class=\"data row5 col6\" >0.007</td>\n",
       "                        <td id=\"T_d5741188_d2ca_11e9_92ea_309c23131503row5_col7\" class=\"data row5 col7\" >0.0042</td>\n",
       "                        <td id=\"T_d5741188_d2ca_11e9_92ea_309c23131503row5_col8\" class=\"data row5 col8\" >0.019</td>\n",
       "            </tr>\n",
       "            <tr>\n",
       "                        <th id=\"T_d5741188_d2ca_11e9_92ea_309c23131503level0_row6\" class=\"row_heading level0 row6\" >Credit amount</th>\n",
       "                        <td id=\"T_d5741188_d2ca_11e9_92ea_309c23131503row6_col0\" class=\"data row6 col0\" >0.033</td>\n",
       "                        <td id=\"T_d5741188_d2ca_11e9_92ea_309c23131503row6_col1\" class=\"data row6 col1\" >0.093</td>\n",
       "                        <td id=\"T_d5741188_d2ca_11e9_92ea_309c23131503row6_col2\" class=\"data row6 col2\" >0.29</td>\n",
       "                        <td id=\"T_d5741188_d2ca_11e9_92ea_309c23131503row6_col3\" class=\"data row6 col3\" >-0.14</td>\n",
       "                        <td id=\"T_d5741188_d2ca_11e9_92ea_309c23131503row6_col4\" class=\"data row6 col4\" >-0.078</td>\n",
       "                        <td id=\"T_d5741188_d2ca_11e9_92ea_309c23131503row6_col5\" class=\"data row6 col5\" >0.007</td>\n",
       "                        <td id=\"T_d5741188_d2ca_11e9_92ea_309c23131503row6_col6\" class=\"data row6 col6\" >1</td>\n",
       "                        <td id=\"T_d5741188_d2ca_11e9_92ea_309c23131503row6_col7\" class=\"data row6 col7\" >0.62</td>\n",
       "                        <td id=\"T_d5741188_d2ca_11e9_92ea_309c23131503row6_col8\" class=\"data row6 col8\" >-0.15</td>\n",
       "            </tr>\n",
       "            <tr>\n",
       "                        <th id=\"T_d5741188_d2ca_11e9_92ea_309c23131503level0_row7\" class=\"row_heading level0 row7\" >Duration</th>\n",
       "                        <td id=\"T_d5741188_d2ca_11e9_92ea_309c23131503row7_col0\" class=\"data row7 col0\" >-0.036</td>\n",
       "                        <td id=\"T_d5741188_d2ca_11e9_92ea_309c23131503row7_col1\" class=\"data row7 col1\" >0.081</td>\n",
       "                        <td id=\"T_d5741188_d2ca_11e9_92ea_309c23131503row7_col2\" class=\"data row7 col2\" >0.21</td>\n",
       "                        <td id=\"T_d5741188_d2ca_11e9_92ea_309c23131503row7_col3\" class=\"data row7 col3\" >-0.16</td>\n",
       "                        <td id=\"T_d5741188_d2ca_11e9_92ea_309c23131503row7_col4\" class=\"data row7 col4\" >-0.043</td>\n",
       "                        <td id=\"T_d5741188_d2ca_11e9_92ea_309c23131503row7_col5\" class=\"data row7 col5\" >0.0042</td>\n",
       "                        <td id=\"T_d5741188_d2ca_11e9_92ea_309c23131503row7_col6\" class=\"data row7 col6\" >0.62</td>\n",
       "                        <td id=\"T_d5741188_d2ca_11e9_92ea_309c23131503row7_col7\" class=\"data row7 col7\" >1</td>\n",
       "                        <td id=\"T_d5741188_d2ca_11e9_92ea_309c23131503row7_col8\" class=\"data row7 col8\" >-0.083</td>\n",
       "            </tr>\n",
       "            <tr>\n",
       "                        <th id=\"T_d5741188_d2ca_11e9_92ea_309c23131503level0_row8\" class=\"row_heading level0 row8\" >Purpose</th>\n",
       "                        <td id=\"T_d5741188_d2ca_11e9_92ea_309c23131503row8_col0\" class=\"data row8 col0\" >-0.074</td>\n",
       "                        <td id=\"T_d5741188_d2ca_11e9_92ea_309c23131503row8_col1\" class=\"data row8 col1\" >-0.063</td>\n",
       "                        <td id=\"T_d5741188_d2ca_11e9_92ea_309c23131503row8_col2\" class=\"data row8 col2\" >-0.025</td>\n",
       "                        <td id=\"T_d5741188_d2ca_11e9_92ea_309c23131503row8_col3\" class=\"data row8 col3\" >0.021</td>\n",
       "                        <td id=\"T_d5741188_d2ca_11e9_92ea_309c23131503row8_col4\" class=\"data row8 col4\" >-0.025</td>\n",
       "                        <td id=\"T_d5741188_d2ca_11e9_92ea_309c23131503row8_col5\" class=\"data row8 col5\" >0.019</td>\n",
       "                        <td id=\"T_d5741188_d2ca_11e9_92ea_309c23131503row8_col6\" class=\"data row8 col6\" >-0.15</td>\n",
       "                        <td id=\"T_d5741188_d2ca_11e9_92ea_309c23131503row8_col7\" class=\"data row8 col7\" >-0.083</td>\n",
       "                        <td id=\"T_d5741188_d2ca_11e9_92ea_309c23131503row8_col8\" class=\"data row8 col8\" >1</td>\n",
       "            </tr>\n",
       "    </tbody></table>"
      ],
      "text/plain": [
       "<pandas.io.formats.style.Styler at 0x22d07512ba8>"
      ]
     },
     "execution_count": 473,
     "metadata": {},
     "output_type": "execute_result"
    }
   ],
   "source": [
    "data2.corr(method='pearson').style.background_gradient().set_precision(2) #untuk semua data"
   ]
  },
  {
   "cell_type": "markdown",
   "metadata": {},
   "source": [
    "### Feature Selection"
   ]
  },
  {
   "cell_type": "code",
   "execution_count": 474,
   "metadata": {},
   "outputs": [
    {
     "data": {
      "text/html": [
       "<div>\n",
       "<style scoped>\n",
       "    .dataframe tbody tr th:only-of-type {\n",
       "        vertical-align: middle;\n",
       "    }\n",
       "\n",
       "    .dataframe tbody tr th {\n",
       "        vertical-align: top;\n",
       "    }\n",
       "\n",
       "    .dataframe thead th {\n",
       "        text-align: right;\n",
       "    }\n",
       "</style>\n",
       "<table border=\"1\" class=\"dataframe\">\n",
       "  <thead>\n",
       "    <tr style=\"text-align: right;\">\n",
       "      <th></th>\n",
       "      <th>Age</th>\n",
       "      <th>Credit amount</th>\n",
       "      <th>Duration</th>\n",
       "    </tr>\n",
       "  </thead>\n",
       "  <tbody>\n",
       "    <tr>\n",
       "      <th>0</th>\n",
       "      <td>67</td>\n",
       "      <td>1169</td>\n",
       "      <td>6</td>\n",
       "    </tr>\n",
       "    <tr>\n",
       "      <th>1</th>\n",
       "      <td>22</td>\n",
       "      <td>5951</td>\n",
       "      <td>48</td>\n",
       "    </tr>\n",
       "    <tr>\n",
       "      <th>2</th>\n",
       "      <td>49</td>\n",
       "      <td>2096</td>\n",
       "      <td>12</td>\n",
       "    </tr>\n",
       "    <tr>\n",
       "      <th>3</th>\n",
       "      <td>45</td>\n",
       "      <td>7882</td>\n",
       "      <td>42</td>\n",
       "    </tr>\n",
       "    <tr>\n",
       "      <th>4</th>\n",
       "      <td>53</td>\n",
       "      <td>4870</td>\n",
       "      <td>24</td>\n",
       "    </tr>\n",
       "  </tbody>\n",
       "</table>\n",
       "</div>"
      ],
      "text/plain": [
       "   Age  Credit amount  Duration\n",
       "0   67           1169         6\n",
       "1   22           5951        48\n",
       "2   49           2096        12\n",
       "3   45           7882        42\n",
       "4   53           4870        24"
      ]
     },
     "execution_count": 474,
     "metadata": {},
     "output_type": "execute_result"
    }
   ],
   "source": [
    "#Clustering akan menggunakan 3 features yaitu age, credit amount dan duration peminjaman\n",
    "data3 = data[['Age', 'Credit amount', 'Duration']]\n",
    "data3.head()"
   ]
  },
  {
   "cell_type": "markdown",
   "metadata": {},
   "source": [
    "- Setelah mendapatkan 3 features tsb, saya akan membuat fitur baru yaitu pay off power yaitu kemampuan seseorang untuk melunasi credit setiap bulanya.\n",
    "- rumusnya adalah credit amount dibagi dengan duration\n",
    "- jadi semisal seorang customer memiliki pay off power sebesar 100, maka dia memiliki kemampuan untuk membayar credit sebesar 100$ setiap bulanya.\n",
    "- Analisis saya mengatakan bahwa semakin tinggi pay off power maka akan semakin bagus customer karena dia mampu membayar credit lebih tinggi per bulanya."
   ]
  },
  {
   "cell_type": "code",
   "execution_count": 475,
   "metadata": {},
   "outputs": [
    {
     "data": {
      "text/html": [
       "<div>\n",
       "<style scoped>\n",
       "    .dataframe tbody tr th:only-of-type {\n",
       "        vertical-align: middle;\n",
       "    }\n",
       "\n",
       "    .dataframe tbody tr th {\n",
       "        vertical-align: top;\n",
       "    }\n",
       "\n",
       "    .dataframe thead th {\n",
       "        text-align: right;\n",
       "    }\n",
       "</style>\n",
       "<table border=\"1\" class=\"dataframe\">\n",
       "  <thead>\n",
       "    <tr style=\"text-align: right;\">\n",
       "      <th></th>\n",
       "      <th>Age</th>\n",
       "      <th>Credit amount</th>\n",
       "      <th>Duration</th>\n",
       "      <th>Pay off power</th>\n",
       "    </tr>\n",
       "  </thead>\n",
       "  <tbody>\n",
       "    <tr>\n",
       "      <th>0</th>\n",
       "      <td>67</td>\n",
       "      <td>1169</td>\n",
       "      <td>6</td>\n",
       "      <td>194.833333</td>\n",
       "    </tr>\n",
       "    <tr>\n",
       "      <th>1</th>\n",
       "      <td>22</td>\n",
       "      <td>5951</td>\n",
       "      <td>48</td>\n",
       "      <td>123.979167</td>\n",
       "    </tr>\n",
       "    <tr>\n",
       "      <th>2</th>\n",
       "      <td>49</td>\n",
       "      <td>2096</td>\n",
       "      <td>12</td>\n",
       "      <td>174.666667</td>\n",
       "    </tr>\n",
       "    <tr>\n",
       "      <th>3</th>\n",
       "      <td>45</td>\n",
       "      <td>7882</td>\n",
       "      <td>42</td>\n",
       "      <td>187.666667</td>\n",
       "    </tr>\n",
       "    <tr>\n",
       "      <th>4</th>\n",
       "      <td>53</td>\n",
       "      <td>4870</td>\n",
       "      <td>24</td>\n",
       "      <td>202.916667</td>\n",
       "    </tr>\n",
       "  </tbody>\n",
       "</table>\n",
       "</div>"
      ],
      "text/plain": [
       "   Age  Credit amount  Duration  Pay off power\n",
       "0   67           1169         6     194.833333\n",
       "1   22           5951        48     123.979167\n",
       "2   49           2096        12     174.666667\n",
       "3   45           7882        42     187.666667\n",
       "4   53           4870        24     202.916667"
      ]
     },
     "execution_count": 475,
     "metadata": {},
     "output_type": "execute_result"
    }
   ],
   "source": [
    "#Buat fitur baru pay off power\n",
    "data3['Pay off power'] = (data3['Credit amount']/data3['Duration'])\n",
    "data3.head()"
   ]
  },
  {
   "cell_type": "code",
   "execution_count": 476,
   "metadata": {
    "scrolled": true
   },
   "outputs": [
    {
     "data": {
      "text/html": [
       "<div>\n",
       "<style scoped>\n",
       "    .dataframe tbody tr th:only-of-type {\n",
       "        vertical-align: middle;\n",
       "    }\n",
       "\n",
       "    .dataframe tbody tr th {\n",
       "        vertical-align: top;\n",
       "    }\n",
       "\n",
       "    .dataframe thead th {\n",
       "        text-align: right;\n",
       "    }\n",
       "</style>\n",
       "<table border=\"1\" class=\"dataframe\">\n",
       "  <thead>\n",
       "    <tr style=\"text-align: right;\">\n",
       "      <th></th>\n",
       "      <th>Age</th>\n",
       "      <th>Pay off power</th>\n",
       "    </tr>\n",
       "  </thead>\n",
       "  <tbody>\n",
       "    <tr>\n",
       "      <th>0</th>\n",
       "      <td>67</td>\n",
       "      <td>194.833333</td>\n",
       "    </tr>\n",
       "    <tr>\n",
       "      <th>1</th>\n",
       "      <td>22</td>\n",
       "      <td>123.979167</td>\n",
       "    </tr>\n",
       "    <tr>\n",
       "      <th>2</th>\n",
       "      <td>49</td>\n",
       "      <td>174.666667</td>\n",
       "    </tr>\n",
       "    <tr>\n",
       "      <th>3</th>\n",
       "      <td>45</td>\n",
       "      <td>187.666667</td>\n",
       "    </tr>\n",
       "    <tr>\n",
       "      <th>4</th>\n",
       "      <td>53</td>\n",
       "      <td>202.916667</td>\n",
       "    </tr>\n",
       "  </tbody>\n",
       "</table>\n",
       "</div>"
      ],
      "text/plain": [
       "   Age  Pay off power\n",
       "0   67     194.833333\n",
       "1   22     123.979167\n",
       "2   49     174.666667\n",
       "3   45     187.666667\n",
       "4   53     202.916667"
      ]
     },
     "execution_count": 476,
     "metadata": {},
     "output_type": "execute_result"
    }
   ],
   "source": [
    "#Feature final yang akan saya pakai adalah Age dan pay off power\n",
    "data4 = data3[['Age', 'Pay off power']]\n",
    "data4.head()"
   ]
  },
  {
   "cell_type": "code",
   "execution_count": 477,
   "metadata": {},
   "outputs": [
    {
     "data": {
      "image/png": "[encoded data removed]",
      "text/plain": [
       "<Figure size 720x360 with 2 Axes>"
      ]
     },
     "metadata": {
      "needs_background": "light"
     },
     "output_type": "display_data"
    }
   ],
   "source": [
    "#Coba kita lihat distribusi dari kedua features\n",
    "f = plt.figure(figsize=(10,5))\n",
    "\n",
    "f.add_subplot(2,1,1)\n",
    "sns.distplot(data4['Age'])\n",
    "\n",
    "f.add_subplot(2,1,2)\n",
    "sns.distplot(data4['Pay off power'])\n",
    "\n",
    "f.tight_layout()"
   ]
  },
  {
   "cell_type": "markdown",
   "metadata": {},
   "source": [
    "- Karena distribusi data termasuk ke dalam right skew, maka kita akan melakukan transformasi logaritmik agar persebaran data lebih baik"
   ]
  },
  {
   "cell_type": "code",
   "execution_count": 478,
   "metadata": {},
   "outputs": [],
   "source": [
    "data_log = np.log(data4)"
   ]
  },
  {
   "cell_type": "code",
   "execution_count": 479,
   "metadata": {},
   "outputs": [
    {
     "data": {
      "image/png": "[encoded data removed]",
      "text/plain": [
       "<Figure size 720x360 with 2 Axes>"
      ]
     },
     "metadata": {
      "needs_background": "light"
     },
     "output_type": "display_data"
    }
   ],
   "source": [
    "#Cek ulang distribusi dari kedua features\n",
    "f = plt.figure(figsize=(10,5))\n",
    "\n",
    "f.add_subplot(2,1,1)\n",
    "sns.distplot(data_log['Age'])\n",
    "\n",
    "f.add_subplot(2,1,2)\n",
    "sns.distplot(data_log['Pay off power'])\n",
    "\n",
    "f.tight_layout()"
   ]
  },
  {
   "cell_type": "markdown",
   "metadata": {},
   "source": [
    "- oke distribusi data sudah bagus, kita lanjutkan ke tahapan berikutnya yaitu standarisasi data\n",
    "- Karena age dan pay off power memiliki satuan yang berbeda, maka kita perlu menstandarisasi keduanya\n",
    "- metode yang saya gunakan adalah minmaxscalar"
   ]
  },
  {
   "cell_type": "code",
   "execution_count": 480,
   "metadata": {},
   "outputs": [],
   "source": [
    "minmax = MinMaxScaler()\n",
    "data_fix = minmax.fit_transform(data_log)"
   ]
  },
  {
   "cell_type": "markdown",
   "metadata": {},
   "source": [
    "## Clustering with KMeans"
   ]
  },
  {
   "cell_type": "code",
   "execution_count": 481,
   "metadata": {},
   "outputs": [],
   "source": [
    "#Mencari nilai K yang optimal\n",
    "inertia = []\n",
    "sil = []\n",
    "K = range(2,15)\n",
    "for k in K:\n",
    "    km = KMeans(n_clusters=k)\n",
    "    km = km.fit(data_fix)\n",
    "    km.labels_\n",
    "    \n",
    "    inertia.append(km.inertia_)\n",
    "    sil.append(silhouette_score(data_fix, km.labels_))"
   ]
  },
  {
   "cell_type": "code",
   "execution_count": 482,
   "metadata": {},
   "outputs": [
    {
     "data": {
      "text/plain": [
       "Text(0, 0.5, 'Silhoutte Score')"
      ]
     },
     "execution_count": 482,
     "metadata": {},
     "output_type": "execute_result"
    },
    {
     "data": {
      "image/png": "[encoded data removed]",
      "text/plain": [
       "<Figure size 720x360 with 2 Axes>"
      ]
     },
     "metadata": {
      "needs_background": "light"
     },
     "output_type": "display_data"
    }
   ],
   "source": [
    "#Plotting dengan menggunakan inertia dan silhoute score\n",
    "\n",
    "f = plt.figure(figsize=(10,5))\n",
    "\n",
    "f.add_subplot(1,2,1)\n",
    "plt.plot(K, inertia, marker='o')\n",
    "plt.xlabel('k')\n",
    "plt.ylabel('Inertia')\n",
    "\n",
    "f.add_subplot(1,2,2)           \n",
    "plt.plot(K, sil, marker='o')\n",
    "plt.xlabel('k')\n",
    "plt.ylabel('Silhoutte Score')"
   ]
  },
  {
   "cell_type": "markdown",
   "metadata": {},
   "source": [
    "- Sepertinya nilai K paling bagus adalah 2, namun karena instruksinya minimal menggunakan nilai K=3 maka saya set K=4\n",
    "- Silhoute score K=4 adalah sekitar 0.36"
   ]
  },
  {
   "cell_type": "code",
   "execution_count": 483,
   "metadata": {},
   "outputs": [
    {
     "data": {
      "text/plain": [
       "array([[0.19848745, 0.34896188],\n",
       "       [0.74864912, 0.3589879 ],\n",
       "       [0.45876282, 0.53814022],\n",
       "       [0.44649037, 0.29151529]])"
      ]
     },
     "execution_count": 483,
     "metadata": {},
     "output_type": "execute_result"
    }
   ],
   "source": [
    "km = KMeans(n_clusters=4)\n",
    "km = km.fit(data_fix)\n",
    "km.cluster_centers_"
   ]
  },
  {
   "cell_type": "code",
   "execution_count": 484,
   "metadata": {
    "scrolled": true
   },
   "outputs": [
    {
     "data": {
      "image/png": "[encoded data removed]",
      "text/plain": [
       "<Figure size 432x288 with 1 Axes>"
      ]
     },
     "metadata": {
      "needs_background": "light"
     },
     "output_type": "display_data"
    }
   ],
   "source": [
    "#Visualisasi hasil clustering dan centroidnya\n",
    "x = data_fix[:,0]\n",
    "y = data_fix[:,1]\n",
    "\n",
    "group = km.labels_\n",
    "\n",
    "colors = ['yellow', 'purple', 'cyan', 'pink']\n",
    "fig, ax = plt.subplots()\n",
    "\n",
    "for g in set(km.labels_):\n",
    "    xi = [x[j] for j in range(len(x)) if group[j]==g]\n",
    "    yi = [y[j] for j in range(len(y)) if group[j]==g]\n",
    "    ax.scatter(xi, yi, c=colors[g], label=g)\n",
    "    ax.scatter(0.44474072, 0.28210597, c='r')\n",
    "    ax.scatter(0.74786445, 0.3653887, c='y')\n",
    "    ax.scatter(0.45208791, 0.5235049, c='b')\n",
    "    ax.scatter(0.19786432, 0.34906128, c='g')\n",
    "    plt.xlabel('Age')\n",
    "    plt.ylabel('Pay off Power')\n",
    "    plt.title('Age vs Pay off power')\n",
    "\n",
    "ax.legend()\n",
    "plt.show()"
   ]
  },
  {
   "cell_type": "markdown",
   "metadata": {},
   "source": [
    "- Dengan menggunakan 4 cluster, didapatkan visualisasi seperti gambar diatas.\n",
    "- Cluster 0 dengan warna kuning yang berada di tengah bawah\n",
    "- Cluster 1 berwarna ungu yang berada di sisi kanan\n",
    "- Cluster 2 berwarna biru yang berada di sisi tengah atas\n",
    "- Cluster 3 Berwarna pink yang berwarna disisi kiri"
   ]
  },
  {
   "cell_type": "code",
   "execution_count": 485,
   "metadata": {
    "scrolled": true
   },
   "outputs": [
    {
     "data": {
      "text/html": [
       "<div>\n",
       "<style scoped>\n",
       "    .dataframe tbody tr th:only-of-type {\n",
       "        vertical-align: middle;\n",
       "    }\n",
       "\n",
       "    .dataframe tbody tr th {\n",
       "        vertical-align: top;\n",
       "    }\n",
       "\n",
       "    .dataframe thead th {\n",
       "        text-align: right;\n",
       "    }\n",
       "</style>\n",
       "<table border=\"1\" class=\"dataframe\">\n",
       "  <thead>\n",
       "    <tr style=\"text-align: right;\">\n",
       "      <th></th>\n",
       "      <th>Age</th>\n",
       "      <th>Pay off power</th>\n",
       "      <th>Cluster</th>\n",
       "    </tr>\n",
       "  </thead>\n",
       "  <tbody>\n",
       "    <tr>\n",
       "      <th>0</th>\n",
       "      <td>67</td>\n",
       "      <td>194.833333</td>\n",
       "      <td>1</td>\n",
       "    </tr>\n",
       "    <tr>\n",
       "      <th>1</th>\n",
       "      <td>22</td>\n",
       "      <td>123.979167</td>\n",
       "      <td>0</td>\n",
       "    </tr>\n",
       "    <tr>\n",
       "      <th>2</th>\n",
       "      <td>49</td>\n",
       "      <td>174.666667</td>\n",
       "      <td>1</td>\n",
       "    </tr>\n",
       "    <tr>\n",
       "      <th>3</th>\n",
       "      <td>45</td>\n",
       "      <td>187.666667</td>\n",
       "      <td>1</td>\n",
       "    </tr>\n",
       "    <tr>\n",
       "      <th>4</th>\n",
       "      <td>53</td>\n",
       "      <td>202.916667</td>\n",
       "      <td>1</td>\n",
       "    </tr>\n",
       "  </tbody>\n",
       "</table>\n",
       "</div>"
      ],
      "text/plain": [
       "   Age  Pay off power  Cluster\n",
       "0   67     194.833333        1\n",
       "1   22     123.979167        0\n",
       "2   49     174.666667        1\n",
       "3   45     187.666667        1\n",
       "4   53     202.916667        1"
      ]
     },
     "execution_count": 485,
     "metadata": {},
     "output_type": "execute_result"
    }
   ],
   "source": [
    "#Kita coba kembalikan data menjadi satuan awal\n",
    "labels = pd.DataFrame(km.labels_)\n",
    "cols = ['Age', 'Pay off power']\n",
    "cluster_data = data4.loc[:,cols]\n",
    "clustered_data = cluster_data.assign(Cluster=labels)\n",
    "clustered_data.head()"
   ]
  },
  {
   "cell_type": "code",
   "execution_count": 486,
   "metadata": {},
   "outputs": [
    {
     "data": {
      "text/plain": [
       "<matplotlib.axes._subplots.AxesSubplot at 0x22d787ecbe0>"
      ]
     },
     "execution_count": 486,
     "metadata": {},
     "output_type": "execute_result"
    },
    {
     "data": {
      "image/png": "[encoded data removed]",
      "text/plain": [
       "<Figure size 432x288 with 1 Axes>"
      ]
     },
     "metadata": {
      "needs_background": "light"
     },
     "output_type": "display_data"
    }
   ],
   "source": [
    "#Mengelompokan berdasarkan cluster\n",
    "clustered_data.groupby('Cluster').size().plot.bar()"
   ]
  },
  {
   "cell_type": "markdown",
   "metadata": {},
   "source": [
    "- Ternyata kluster 1 mendominasi disusul dengan kluster 3\n",
    "- Kluster 0 dan 2 hampir sama jumlahnya"
   ]
  },
  {
   "cell_type": "code",
   "execution_count": 487,
   "metadata": {},
   "outputs": [
    {
     "data": {
      "text/html": [
       "<div>\n",
       "<style scoped>\n",
       "    .dataframe tbody tr th:only-of-type {\n",
       "        vertical-align: middle;\n",
       "    }\n",
       "\n",
       "    .dataframe tbody tr th {\n",
       "        vertical-align: top;\n",
       "    }\n",
       "\n",
       "    .dataframe thead th {\n",
       "        text-align: right;\n",
       "    }\n",
       "</style>\n",
       "<table border=\"1\" class=\"dataframe\">\n",
       "  <thead>\n",
       "    <tr style=\"text-align: right;\">\n",
       "      <th></th>\n",
       "      <th>Age</th>\n",
       "      <th>Pay off power</th>\n",
       "    </tr>\n",
       "    <tr>\n",
       "      <th>Cluster</th>\n",
       "      <th></th>\n",
       "      <th></th>\n",
       "    </tr>\n",
       "  </thead>\n",
       "  <tbody>\n",
       "    <tr>\n",
       "      <th>0</th>\n",
       "      <td>25.0</td>\n",
       "      <td>137.0</td>\n",
       "    </tr>\n",
       "    <tr>\n",
       "      <th>1</th>\n",
       "      <td>54.0</td>\n",
       "      <td>150.0</td>\n",
       "    </tr>\n",
       "    <tr>\n",
       "      <th>2</th>\n",
       "      <td>36.0</td>\n",
       "      <td>330.0</td>\n",
       "    </tr>\n",
       "    <tr>\n",
       "      <th>3</th>\n",
       "      <td>35.0</td>\n",
       "      <td>99.0</td>\n",
       "    </tr>\n",
       "  </tbody>\n",
       "</table>\n",
       "</div>"
      ],
      "text/plain": [
       "          Age  Pay off power\n",
       "Cluster                     \n",
       "0        25.0          137.0\n",
       "1        54.0          150.0\n",
       "2        36.0          330.0\n",
       "3        35.0           99.0"
      ]
     },
     "execution_count": 487,
     "metadata": {},
     "output_type": "execute_result"
    }
   ],
   "source": [
    "#Mengelompokan berdasarkan cluster\n",
    "clustered_data.groupby('Cluster').mean().round(0)"
   ]
  },
  {
   "cell_type": "markdown",
   "metadata": {},
   "source": [
    "- Klasifikasi Age:\n",
    "    1. 15 <= Age < 30 = Umur Muda\n",
    "    2. 30 <= Age < 45 = Umur Sedang\n",
    "    3. Age >= 45 = Umur Tua\n",
    "- Klasifikasi Pay off power:\n",
    "    1. 0 <= Pay < 150 = Weak power\n",
    "    2. 150 <= Pay < 300 = Moderate Power\n",
    "    3. Pay >= 300 = Strong Power"
   ]
  },
  {
   "cell_type": "markdown",
   "metadata": {},
   "source": [
    "Dari KMeans dapat diambil insights:\n",
    "1. Terdapat 4 kluster yaitu kluster 0,1,2, dan 3.\n",
    "2. Kluster 2 atau merupakan segment 'SAFE' merupakan kluster dengan umur rata rata berada di sedang dan rata rata pay off powernya tinggi. Customer seperti ini biasanya para eksekutif muda yang karirnya baru naik daun. Kemungkinan besar cluster ini pasti bisa untuk membayar/melunasi credit.\n",
    "3. Kluster 1 atau merupakan segment 'GOOD' merupakan kluster dengan umur rata rata yang sudah tua dengan rata rata pay off power yang moderate. Biasanya customer seperti ini merupakan pekerja kantor yang hampir pensiun.\n",
    "4. Kluster 0 atau merupakan segment 'MODERATE' merupakan kluster yang masih bisa dihandalkan untuk membayar credit karena rata rata umur masih muda dan rata rata pay off power yang moderate.\n",
    "5. Kluster 3 atau merupakan segment 'RISK' merupakan kluster yang paling berbahaya karena rata rata umur mereka sedang namun memiliki rata rata pay off power yang weak"
   ]
  },
  {
   "cell_type": "markdown",
   "metadata": {},
   "source": [
    "## Clustering with Hierarchical Clustering"
   ]
  },
  {
   "cell_type": "code",
   "execution_count": 488,
   "metadata": {},
   "outputs": [
    {
     "data": {
      "image/png": "[encoded data removed]",
      "text/plain": [
       "<Figure size 720x360 with 3 Axes>"
      ]
     },
     "metadata": {
      "needs_background": "light"
     },
     "output_type": "display_data"
    }
   ],
   "source": [
    "f = plt.figure(figsize=(10,5))\n",
    "\n",
    "f.add_subplot(3,1,1)\n",
    "dendogram1 = sch.dendrogram(sch.linkage(data_fix, method='average'))\n",
    "plt.xlabel('average')\n",
    "\n",
    "f.add_subplot(3,1,2)\n",
    "dendogram2 = sch.dendrogram(sch.linkage(data_fix, method='ward'))\n",
    "plt.xlabel('ward')\n",
    "\n",
    "f.add_subplot(3,1,3)\n",
    "dendogram3 = sch.dendrogram(sch.linkage(data_fix, method='complete'))\n",
    "plt.xlabel('complete')\n",
    "\n",
    "f.tight_layout()"
   ]
  },
  {
   "cell_type": "markdown",
   "metadata": {},
   "source": [
    "- Dari dendogram diatas saya mengambil method yang complete dan dapat ditarik kesimpulan bahwa nilai Clusternya adalah 3 ditandai dengan warna cluster biru, merah, dan biru"
   ]
  },
  {
   "cell_type": "code",
   "execution_count": 489,
   "metadata": {},
   "outputs": [
    {
     "name": "stdout",
     "output_type": "stream",
     "text": [
      "Linkage complete mempunyai score 0.37218633902936854\n",
      "Linkage ward mempunyai score 0.30198211933674646\n",
      "Linkage average mempunyai score 0.3950909316089284\n"
     ]
    }
   ],
   "source": [
    "#Mencari metode Linkage yang paling Optimal\n",
    "features = ['complete', 'ward', 'average']\n",
    "for feature in features:\n",
    "    hc = AgglomerativeClustering(n_clusters=3, affinity='euclidean', linkage=feature)\n",
    "    hc.fit(data_fix)\n",
    "    labels = hc.labels_\n",
    "    print(f'Linkage {feature} mempunyai score {silhouette_score(data_fix, labels)}')"
   ]
  },
  {
   "cell_type": "markdown",
   "metadata": {},
   "source": [
    "- Linkage yang paling optimal dengan melihat silhoutte score adalah average dengan score 0.395, namun setelah saya coba semua linkage, saya mendapatkan segemntasi yang paling optimal menggunakan linkage Ward\n",
    "- Jadi saya memutuskan untuk menggunakan linkage Ward"
   ]
  },
  {
   "cell_type": "code",
   "execution_count": 490,
   "metadata": {},
   "outputs": [],
   "source": [
    "hc = AgglomerativeClustering(n_clusters=3, affinity='euclidean', linkage='ward')\n",
    "hc.fit(data_fix)\n",
    "labels = hc.labels_"
   ]
  },
  {
   "cell_type": "code",
   "execution_count": 491,
   "metadata": {},
   "outputs": [
    {
     "data": {
      "image/png": "[encoded data removed]",
      "text/plain": [
       "<Figure size 432x288 with 1 Axes>"
      ]
     },
     "metadata": {
      "needs_background": "light"
     },
     "output_type": "display_data"
    }
   ],
   "source": [
    "#Visualisasi untuk clustering\n",
    "x = data_fix[:,0]\n",
    "y = data_fix[:,1]\n",
    "\n",
    "group = hc.labels_\n",
    "\n",
    "colors = ['yellow', 'purple', 'pink', 'cyan']\n",
    "fig, ax = plt.subplots()\n",
    "\n",
    "for g in set(hc.labels_):\n",
    "    xi = [x[j] for j in range(len(x)) if group[j]==g]\n",
    "    yi = [y[j] for j in range(len(y)) if group[j]==g]\n",
    "    ax.scatter(xi, yi, c=colors[g], label=g)\n",
    "    plt.xlabel('Age')\n",
    "    plt.ylabel('Pay off Power')\n",
    "    plt.title('Age vs Pay off power')\n",
    "ax.legend()\n",
    "plt.show()"
   ]
  },
  {
   "cell_type": "markdown",
   "metadata": {},
   "source": [
    "- Dengan menggunakan 3 cluster, didapatkan visualisasi seperti gambar diatas.\n",
    "- Cluster 0 dengan warna kuning yang berada di tengah\n",
    "- Cluster 1 berwarna ungu yang berada di sisi kanan\n",
    "- Cluster 2 Berwarna pink yang berwarna di sisi kiri"
   ]
  },
  {
   "cell_type": "code",
   "execution_count": 492,
   "metadata": {},
   "outputs": [
    {
     "data": {
      "text/html": [
       "<div>\n",
       "<style scoped>\n",
       "    .dataframe tbody tr th:only-of-type {\n",
       "        vertical-align: middle;\n",
       "    }\n",
       "\n",
       "    .dataframe tbody tr th {\n",
       "        vertical-align: top;\n",
       "    }\n",
       "\n",
       "    .dataframe thead th {\n",
       "        text-align: right;\n",
       "    }\n",
       "</style>\n",
       "<table border=\"1\" class=\"dataframe\">\n",
       "  <thead>\n",
       "    <tr style=\"text-align: right;\">\n",
       "      <th></th>\n",
       "      <th>Age</th>\n",
       "      <th>Pay off power</th>\n",
       "      <th>Cluster</th>\n",
       "    </tr>\n",
       "  </thead>\n",
       "  <tbody>\n",
       "    <tr>\n",
       "      <th>0</th>\n",
       "      <td>67</td>\n",
       "      <td>194.833333</td>\n",
       "      <td>1</td>\n",
       "    </tr>\n",
       "    <tr>\n",
       "      <th>1</th>\n",
       "      <td>22</td>\n",
       "      <td>123.979167</td>\n",
       "      <td>2</td>\n",
       "    </tr>\n",
       "    <tr>\n",
       "      <th>2</th>\n",
       "      <td>49</td>\n",
       "      <td>174.666667</td>\n",
       "      <td>1</td>\n",
       "    </tr>\n",
       "    <tr>\n",
       "      <th>3</th>\n",
       "      <td>45</td>\n",
       "      <td>187.666667</td>\n",
       "      <td>0</td>\n",
       "    </tr>\n",
       "    <tr>\n",
       "      <th>4</th>\n",
       "      <td>53</td>\n",
       "      <td>202.916667</td>\n",
       "      <td>1</td>\n",
       "    </tr>\n",
       "  </tbody>\n",
       "</table>\n",
       "</div>"
      ],
      "text/plain": [
       "   Age  Pay off power  Cluster\n",
       "0   67     194.833333        1\n",
       "1   22     123.979167        2\n",
       "2   49     174.666667        1\n",
       "3   45     187.666667        0\n",
       "4   53     202.916667        1"
      ]
     },
     "execution_count": 492,
     "metadata": {},
     "output_type": "execute_result"
    }
   ],
   "source": [
    "#Kita coba kembalikan data menjadi satuan awal\n",
    "labels = pd.DataFrame(hc.labels_)\n",
    "cols = ['Age', 'Pay off power']\n",
    "cluster_data2 = data4.loc[:,cols]\n",
    "clustered_data2 = cluster_data2.assign(Cluster=labels)\n",
    "clustered_data2.head()"
   ]
  },
  {
   "cell_type": "code",
   "execution_count": 493,
   "metadata": {},
   "outputs": [
    {
     "data": {
      "text/plain": [
       "<matplotlib.axes._subplots.AxesSubplot at 0x22d0148f9b0>"
      ]
     },
     "execution_count": 493,
     "metadata": {},
     "output_type": "execute_result"
    },
    {
     "data": {
      "image/png": "[encoded data removed]",
      "text/plain": [
       "<Figure size 432x288 with 1 Axes>"
      ]
     },
     "metadata": {
      "needs_background": "light"
     },
     "output_type": "display_data"
    }
   ],
   "source": [
    "#Mengelompokan berdasarkan cluster\n",
    "clustered_data2.groupby('Cluster').size().plot.bar()"
   ]
  },
  {
   "cell_type": "markdown",
   "metadata": {},
   "source": [
    "- Cluster 0 dan 2 mendominasi"
   ]
  },
  {
   "cell_type": "code",
   "execution_count": 494,
   "metadata": {},
   "outputs": [
    {
     "data": {
      "text/html": [
       "<div>\n",
       "<style scoped>\n",
       "    .dataframe tbody tr th:only-of-type {\n",
       "        vertical-align: middle;\n",
       "    }\n",
       "\n",
       "    .dataframe tbody tr th {\n",
       "        vertical-align: top;\n",
       "    }\n",
       "\n",
       "    .dataframe thead th {\n",
       "        text-align: right;\n",
       "    }\n",
       "</style>\n",
       "<table border=\"1\" class=\"dataframe\">\n",
       "  <thead>\n",
       "    <tr style=\"text-align: right;\">\n",
       "      <th></th>\n",
       "      <th>Age</th>\n",
       "      <th>Pay off power</th>\n",
       "    </tr>\n",
       "    <tr>\n",
       "      <th>Cluster</th>\n",
       "      <th></th>\n",
       "      <th></th>\n",
       "    </tr>\n",
       "  </thead>\n",
       "  <tbody>\n",
       "    <tr>\n",
       "      <th>0</th>\n",
       "      <td>35.0</td>\n",
       "      <td>182.0</td>\n",
       "    </tr>\n",
       "    <tr>\n",
       "      <th>1</th>\n",
       "      <td>52.0</td>\n",
       "      <td>203.0</td>\n",
       "    </tr>\n",
       "    <tr>\n",
       "      <th>2</th>\n",
       "      <td>26.0</td>\n",
       "      <td>132.0</td>\n",
       "    </tr>\n",
       "  </tbody>\n",
       "</table>\n",
       "</div>"
      ],
      "text/plain": [
       "          Age  Pay off power\n",
       "Cluster                     \n",
       "0        35.0          182.0\n",
       "1        52.0          203.0\n",
       "2        26.0          132.0"
      ]
     },
     "execution_count": 494,
     "metadata": {},
     "output_type": "execute_result"
    }
   ],
   "source": [
    "#Mengelompokan berdasarkan cluster\n",
    "clustered_data2.groupby('Cluster').mean().round(0)"
   ]
  },
  {
   "cell_type": "markdown",
   "metadata": {},
   "source": [
    "- Klasifikasi Age:\n",
    "    1. 15 <= Age < 30 = Umur Muda\n",
    "    2. 30 <= Age < 45 = Umur Sedang\n",
    "    3. Age >= 45 = Umur Tua\n",
    "- Klasifikasi Pay off power:\n",
    "    1. 0 <= Pay < 150 = Weak power\n",
    "    2. 150 <= Pay < 300 = Moderate Power\n",
    "    3. Pay >= 300 = Strong Power"
   ]
  },
  {
   "cell_type": "markdown",
   "metadata": {},
   "source": [
    "Dari Hierarchical dapat diambil insights:\n",
    "1. Terdapat 3 kluster yaitu kluster 0,1, dan 2.\n",
    "2. Kluster 1 atau merupakan segment 'GOOD' merupakan kluster dengan rata rata umur tua dan rata rata pay off powernya moderate. Customer seperti ini biasanya para eksekutif tua yang akan pensiun. Kemungkinan besar cluster ini pasti bisa untuk membayar/melunasi credit.\n",
    "3. Kluster 0 atau merupakan segment 'MODERATE' merupakan kluster dengan umur yang sedang dengan pay off power yang moderate. Biasanya customer seperti ini merupakan pekerja kantor yang sedang meniti karir.\n",
    "3. Kluster 2 atau merupakan segment 'RISK' merupakan kluster yang paling berbahaya karena umur mereka masih mude dan memiliki pay off power yang weak."
   ]
  },
  {
   "cell_type": "markdown",
   "metadata": {},
   "source": [
    "## Clustering dengan DBSCAN"
   ]
  },
  {
   "cell_type": "code",
   "execution_count": 516,
   "metadata": {},
   "outputs": [
    {
     "name": "stdout",
     "output_type": "stream",
     "text": [
      "0.1 29 0.40864911743813737\n"
     ]
    }
   ],
   "source": [
    "#Mencari nilai eps dan min_samples yang mengoptimalkan nilai solhoute score DBSCAN\n",
    "sc = 9999999\n",
    "for i in np.arange(0.1, 0.5, 0.005):\n",
    "    for j in range(5,30):\n",
    "        dbscan = DBSCAN(eps=i, min_samples=j)\n",
    "        model = dbscan.fit(data_fix)\n",
    "        label = model.labels_\n",
    "        try:\n",
    "            err = silhouette_score(data_fix, label)\n",
    "        except:\n",
    "            continue\n",
    "        if sc > err:\n",
    "            sc = err\n",
    "            best_i = i\n",
    "            best_j = j\n",
    "print(best_i,best_j,sc)"
   ]
  },
  {
   "cell_type": "code",
   "execution_count": 518,
   "metadata": {},
   "outputs": [
    {
     "data": {
      "image/png": "[encoded data removed]",
      "text/plain": [
       "<Figure size 432x288 with 1 Axes>"
      ]
     },
     "metadata": {
      "needs_background": "light"
     },
     "output_type": "display_data"
    }
   ],
   "source": [
    "#Visualisasi untuk clustering\n",
    "dbscan = DBSCAN(eps=0.1, min_samples=29)\n",
    "model = dbscan.fit(data_fix)\n",
    "label = model.labels_\n",
    "\n",
    "x = data_fix[:,0]\n",
    "y = data_fix[:,1]\n",
    "\n",
    "group = label\n",
    "\n",
    "colors = ['yellow', 'purple', 'pink', 'cyan', 'red']\n",
    "fig, ax = plt.subplots()\n",
    "\n",
    "for g in set(label):\n",
    "    xi = [x[j] for j in range(len(x)) if group[j]==g]\n",
    "    yi = [y[j] for j in range(len(y)) if group[j]==g]\n",
    "    ax.scatter(xi, yi, c=colors[g], label=g)\n",
    "    plt.xlabel('Age')\n",
    "    plt.ylabel('Pay off Power')\n",
    "    plt.title('Age vs Pay off power')\n",
    "ax.legend()\n",
    "plt.show()"
   ]
  },
  {
   "cell_type": "markdown",
   "metadata": {},
   "source": [
    "- Dengan menggunakan eps 0.1 dan min_samples 29 , didapatkan visualisasi seperti gambar diatas.\n",
    "- Cluster 0 dengan warna kuning yang berada di tengah\n",
    "- Cluster -1 atau noise yang mengelilingi cluster lain"
   ]
  },
  {
   "cell_type": "markdown",
   "metadata": {},
   "source": [
    "Dengan melihat distrbusi clusternya, bisa dikatakan bahwa data ini kurang cocok dengan model DBSCAN karena:\n",
    "1. DBSCAN itu bekerja baik untuk memisahkan density yang padat dengan density yang kurang padat.\n",
    "2. Sedangkan data kita memiliki density yang sangat padat ditengah, sehingga DBSCAN tidak bisa berfungsi dengan baik di data ini.\n",
    "<br>\n",
    "\n",
    "[Source Link](https://medium.com/@elutins/dbscan-what-is-it-when-to-use-it-how-to-use-it-8bd506293818)"
   ]
  },
  {
   "cell_type": "code",
   "execution_count": 519,
   "metadata": {},
   "outputs": [
    {
     "data": {
      "text/html": [
       "<div>\n",
       "<style scoped>\n",
       "    .dataframe tbody tr th:only-of-type {\n",
       "        vertical-align: middle;\n",
       "    }\n",
       "\n",
       "    .dataframe tbody tr th {\n",
       "        vertical-align: top;\n",
       "    }\n",
       "\n",
       "    .dataframe thead th {\n",
       "        text-align: right;\n",
       "    }\n",
       "</style>\n",
       "<table border=\"1\" class=\"dataframe\">\n",
       "  <thead>\n",
       "    <tr style=\"text-align: right;\">\n",
       "      <th></th>\n",
       "      <th>Age</th>\n",
       "      <th>Pay off power</th>\n",
       "      <th>Cluster</th>\n",
       "    </tr>\n",
       "  </thead>\n",
       "  <tbody>\n",
       "    <tr>\n",
       "      <th>0</th>\n",
       "      <td>67</td>\n",
       "      <td>194.833333</td>\n",
       "      <td>0</td>\n",
       "    </tr>\n",
       "    <tr>\n",
       "      <th>1</th>\n",
       "      <td>22</td>\n",
       "      <td>123.979167</td>\n",
       "      <td>0</td>\n",
       "    </tr>\n",
       "    <tr>\n",
       "      <th>2</th>\n",
       "      <td>49</td>\n",
       "      <td>174.666667</td>\n",
       "      <td>0</td>\n",
       "    </tr>\n",
       "    <tr>\n",
       "      <th>3</th>\n",
       "      <td>45</td>\n",
       "      <td>187.666667</td>\n",
       "      <td>0</td>\n",
       "    </tr>\n",
       "    <tr>\n",
       "      <th>4</th>\n",
       "      <td>53</td>\n",
       "      <td>202.916667</td>\n",
       "      <td>0</td>\n",
       "    </tr>\n",
       "  </tbody>\n",
       "</table>\n",
       "</div>"
      ],
      "text/plain": [
       "   Age  Pay off power  Cluster\n",
       "0   67     194.833333        0\n",
       "1   22     123.979167        0\n",
       "2   49     174.666667        0\n",
       "3   45     187.666667        0\n",
       "4   53     202.916667        0"
      ]
     },
     "execution_count": 519,
     "metadata": {},
     "output_type": "execute_result"
    }
   ],
   "source": [
    "#Kita coba kembalikan data menjadi satuan awal\n",
    "labels = pd.DataFrame(label)\n",
    "cols = ['Age', 'Pay off power']\n",
    "cluster_data3 = data4.loc[:,cols]\n",
    "clustered_data3 = cluster_data3.assign(Cluster=labels)\n",
    "clustered_data3.head()"
   ]
  },
  {
   "cell_type": "code",
   "execution_count": 520,
   "metadata": {},
   "outputs": [
    {
     "data": {
      "text/plain": [
       "<matplotlib.axes._subplots.AxesSubplot at 0x22d78979198>"
      ]
     },
     "execution_count": 520,
     "metadata": {},
     "output_type": "execute_result"
    },
    {
     "data": {
      "image/png": "[encoded data removed]",
      "text/plain": [
       "<Figure size 432x288 with 1 Axes>"
      ]
     },
     "metadata": {
      "needs_background": "light"
     },
     "output_type": "display_data"
    }
   ],
   "source": [
    "#Mengelompokan berdasarkan cluster\n",
    "clustered_data3.groupby('Cluster').size().plot.bar()"
   ]
  },
  {
   "cell_type": "code",
   "execution_count": 521,
   "metadata": {},
   "outputs": [
    {
     "data": {
      "text/html": [
       "<div>\n",
       "<style scoped>\n",
       "    .dataframe tbody tr th:only-of-type {\n",
       "        vertical-align: middle;\n",
       "    }\n",
       "\n",
       "    .dataframe tbody tr th {\n",
       "        vertical-align: top;\n",
       "    }\n",
       "\n",
       "    .dataframe thead th {\n",
       "        text-align: right;\n",
       "    }\n",
       "</style>\n",
       "<table border=\"1\" class=\"dataframe\">\n",
       "  <thead>\n",
       "    <tr style=\"text-align: right;\">\n",
       "      <th></th>\n",
       "      <th>Age</th>\n",
       "      <th>Pay off power</th>\n",
       "    </tr>\n",
       "    <tr>\n",
       "      <th>Cluster</th>\n",
       "      <th></th>\n",
       "      <th></th>\n",
       "    </tr>\n",
       "  </thead>\n",
       "  <tbody>\n",
       "    <tr>\n",
       "      <th>-1</th>\n",
       "      <td>49.0</td>\n",
       "      <td>541.0</td>\n",
       "    </tr>\n",
       "    <tr>\n",
       "      <th>0</th>\n",
       "      <td>35.0</td>\n",
       "      <td>156.0</td>\n",
       "    </tr>\n",
       "  </tbody>\n",
       "</table>\n",
       "</div>"
      ],
      "text/plain": [
       "          Age  Pay off power\n",
       "Cluster                     \n",
       "-1       49.0          541.0\n",
       " 0       35.0          156.0"
      ]
     },
     "execution_count": 521,
     "metadata": {},
     "output_type": "execute_result"
    }
   ],
   "source": [
    "#Mengelompokan berdasarkan cluster\n",
    "clustered_data3.groupby('Cluster').mean().round(0)"
   ]
  },
  {
   "cell_type": "markdown",
   "metadata": {},
   "source": [
    "## Kesimpulan"
   ]
  },
  {
   "cell_type": "code",
   "execution_count": 522,
   "metadata": {
    "scrolled": true
   },
   "outputs": [
    {
     "data": {
      "text/plain": [
       "Text(0.5, 1.0, 'DBSCAN Cluster')"
      ]
     },
     "execution_count": 522,
     "metadata": {},
     "output_type": "execute_result"
    },
    {
     "data": {
      "image/png": "[encoded data removed]",
      "text/plain": [
       "<Figure size 1440x360 with 3 Axes>"
      ]
     },
     "metadata": {
      "needs_background": "light"
     },
     "output_type": "display_data"
    }
   ],
   "source": [
    "#Visualisasi 3 metode\n",
    "f = plt.figure(figsize=(20,5))\n",
    "\n",
    "f.add_subplot(1,3,1)\n",
    "x = data_fix[:,0]\n",
    "y = data_fix[:,1]\n",
    "plt.scatter(x, y, c=km.labels_)\n",
    "plt.xlabel('Price')\n",
    "plt.ylabel('Horsepower')\n",
    "plt.title('K-Means Cluster')\n",
    "\n",
    "f.add_subplot(1,3,2)\n",
    "x = data_fix[:,0]\n",
    "y = data_fix[:,1]\n",
    "plt.scatter(x, y, c=hc.labels_)\n",
    "plt.xlabel('Price')\n",
    "plt.ylabel('Horsepower')\n",
    "plt.title('Hierarchical Cluster')\n",
    "\n",
    "f.add_subplot(1,3,3)\n",
    "x = data_fix[:,0]\n",
    "y = data_fix[:,1]\n",
    "plt.scatter(x, y, c=label)\n",
    "plt.xlabel('Price')\n",
    "plt.ylabel('Horsepower')\n",
    "plt.title('DBSCAN Cluster')"
   ]
  },
  {
   "cell_type": "markdown",
   "metadata": {},
   "source": [
    "-------------------------------------------------------------------------------------------------------------------------------"
   ]
  },
  {
   "cell_type": "markdown",
   "metadata": {},
   "source": [
    "- Dari ketiga metode yang telah dilakukan untuk clustering dan customer segmentation German Credit Risk, saya memutuskan untuk memilih metode <b>K-Means</b>.\n",
    "<br>\n",
    "<br>\n",
    "- Saya memilih metode K-Means karena metode ini sangat baik untuk menclustering data yang densitynya itu sangat padat dan terpusat sedangkan data kita memiliki karakteristik seperti itu sehingga metode K-Means sangat cocok. [Source Link](https://developers.google.com/machine-learning/clustering/algorithm/advantages-disadvantages)\n",
    "- Dari 3 gambar diatas, dapat dilihat bahwa K-Means clustering memisahkan data dengan sangat baik dan jelas. setiap cluster seperti memiliki border dengan cluster lain. sehingga hal ini memudahkan dari segi readability jika dibandingkan dengan metode lain.\n",
    "- Lalu untuk hasil segmentasi, metode K-Means memberikan segmentasi yang lebih masuk akal jika dibandingkan yang lain, yaitu 4 kluster dengan memiliki perbedaan yang signifikan berdasarkan rata-rata dari featuresnya. sedangkan untuk yang Hierarchical mendapatkan 3 kluster namun untuk nilai rata-rata dari Pay Off Powernya perbedaan 1 kluster dengan kluster lainya tidak terlalu signifikan."
   ]
  },
  {
   "cell_type": "markdown",
   "metadata": {},
   "source": [
    "Dengan melihat distrbusi clusternya, bisa dikatakan bahwa data ini kurang cocok dengan model DBSCAN karena:\n",
    "1. DBSCAN itu bekerja baik untuk memisahkan density yang padat dengan density yang kurang padat.\n",
    "2. Sedangkan data kita memiliki density yang sangat padat ditengah, sehingga DBSCAN tidak bisa berfungsi dengan baik di data ini.\n",
    "<br>\n",
    "\n",
    "[Source Link](https://medium.com/@elutins/dbscan-what-is-it-when-to-use-it-how-to-use-it-8bd506293818)"
   ]
  },
  {
   "cell_type": "markdown",
   "metadata": {},
   "source": [
    "-------------------------------------------------------------------------------------------------------------------------------"
   ]
  },
  {
   "cell_type": "code",
   "execution_count": 523,
   "metadata": {},
   "outputs": [
    {
     "data": {
      "text/html": [
       "<div>\n",
       "<style scoped>\n",
       "    .dataframe tbody tr th:only-of-type {\n",
       "        vertical-align: middle;\n",
       "    }\n",
       "\n",
       "    .dataframe tbody tr th {\n",
       "        vertical-align: top;\n",
       "    }\n",
       "\n",
       "    .dataframe thead th {\n",
       "        text-align: right;\n",
       "    }\n",
       "</style>\n",
       "<table border=\"1\" class=\"dataframe\">\n",
       "  <thead>\n",
       "    <tr style=\"text-align: right;\">\n",
       "      <th></th>\n",
       "      <th>Age</th>\n",
       "      <th>Pay off power</th>\n",
       "    </tr>\n",
       "    <tr>\n",
       "      <th>Cluster</th>\n",
       "      <th></th>\n",
       "      <th></th>\n",
       "    </tr>\n",
       "  </thead>\n",
       "  <tbody>\n",
       "    <tr>\n",
       "      <th>0</th>\n",
       "      <td>25.0</td>\n",
       "      <td>137.0</td>\n",
       "    </tr>\n",
       "    <tr>\n",
       "      <th>1</th>\n",
       "      <td>54.0</td>\n",
       "      <td>150.0</td>\n",
       "    </tr>\n",
       "    <tr>\n",
       "      <th>2</th>\n",
       "      <td>36.0</td>\n",
       "      <td>330.0</td>\n",
       "    </tr>\n",
       "    <tr>\n",
       "      <th>3</th>\n",
       "      <td>35.0</td>\n",
       "      <td>99.0</td>\n",
       "    </tr>\n",
       "  </tbody>\n",
       "</table>\n",
       "</div>"
      ],
      "text/plain": [
       "          Age  Pay off power\n",
       "Cluster                     \n",
       "0        25.0          137.0\n",
       "1        54.0          150.0\n",
       "2        36.0          330.0\n",
       "3        35.0           99.0"
      ]
     },
     "execution_count": 523,
     "metadata": {},
     "output_type": "execute_result"
    }
   ],
   "source": [
    "#Recall Our Data\n",
    "clustered_data.groupby('Cluster').mean().round(0)"
   ]
  },
  {
   "cell_type": "markdown",
   "metadata": {},
   "source": [
    "- Klasifikasi Age:\n",
    "    1. 15 <= Age < 30 = Umur Muda\n",
    "    2. 30 <= Age < 45 = Umur Sedang\n",
    "    3. Age >= 45 = Umur Tua\n",
    "- Klasifikasi Pay off power:\n",
    "    1. 0 <= Pay < 150 = Weak power\n",
    "    2. 150 <= Pay < 300 = Moderate Power\n",
    "    3. Pay >= 300 = Strong Power"
   ]
  },
  {
   "cell_type": "markdown",
   "metadata": {},
   "source": [
    "Dari KMeans dapat diambil insights:\n",
    "1. Terdapat 4 kluster yaitu kluster 0,1,2, dan 3.\n",
    "2. Kluster 2 atau merupakan segment <b>'SAFE'</b> merupakan kluster dengan umur rata rata berada di sedang dan rata rata pay off powernya tinggi. Customer seperti ini biasanya para eksekutif muda yang karirnya baru naik daun. Kemungkinan besar cluster ini pasti bisa untuk membayar/melunasi credit.\n",
    "3. Kluster 1 atau merupakan segment <b>'GOOD'</b> merupakan kluster dengan umur rata rata yang sudah tua dengan rata rata pay off power yang moderate. Biasanya customer seperti ini merupakan pekerja kantor yang hampir pensiun.\n",
    "4. Kluster 0 atau merupakan segment <b>'MODERATE'</b> merupakan kluster yang masih bisa dihandalkan untuk membayar credit karena rata rata umur masih muda dan rata rata pay off power yang moderate.\n",
    "5. Kluster 3 atau merupakan segment <b>'RISK'</b> merupakan kluster yang paling berbahaya karena rata rata umur mereka sedang namun memiliki rata rata pay off power yang weak."
   ]
  },
  {
   "cell_type": "markdown",
   "metadata": {},
   "source": [
    "### Penjelasan Lebih Lanjut Terkait Setiap Kluster"
   ]
  },
  {
   "cell_type": "code",
   "execution_count": 547,
   "metadata": {},
   "outputs": [],
   "source": [
    "#Untuk yang termasuk kluster 0 atau 'Moderate'\n",
    "grup0 = data.loc[clustered_data['Cluster']==0,:]"
   ]
  },
  {
   "cell_type": "code",
   "execution_count": 535,
   "metadata": {
    "scrolled": true
   },
   "outputs": [
    {
     "data": {
      "text/html": [
       "<div>\n",
       "<style scoped>\n",
       "    .dataframe tbody tr th:only-of-type {\n",
       "        vertical-align: middle;\n",
       "    }\n",
       "\n",
       "    .dataframe tbody tr th {\n",
       "        vertical-align: top;\n",
       "    }\n",
       "\n",
       "    .dataframe thead th {\n",
       "        text-align: right;\n",
       "    }\n",
       "</style>\n",
       "<table border=\"1\" class=\"dataframe\">\n",
       "  <thead>\n",
       "    <tr style=\"text-align: right;\">\n",
       "      <th></th>\n",
       "      <th>Age</th>\n",
       "      <th>Job</th>\n",
       "      <th>Credit amount</th>\n",
       "      <th>Duration</th>\n",
       "    </tr>\n",
       "  </thead>\n",
       "  <tbody>\n",
       "    <tr>\n",
       "      <th>count</th>\n",
       "      <td>352.000000</td>\n",
       "      <td>352.000000</td>\n",
       "      <td>352.000000</td>\n",
       "      <td>352.000000</td>\n",
       "    </tr>\n",
       "    <tr>\n",
       "      <th>mean</th>\n",
       "      <td>25.082386</td>\n",
       "      <td>1.838068</td>\n",
       "      <td>2899.704545</td>\n",
       "      <td>20.968750</td>\n",
       "    </tr>\n",
       "    <tr>\n",
       "      <th>std</th>\n",
       "      <td>2.531067</td>\n",
       "      <td>0.564298</td>\n",
       "      <td>2491.481226</td>\n",
       "      <td>12.134415</td>\n",
       "    </tr>\n",
       "    <tr>\n",
       "      <th>min</th>\n",
       "      <td>19.000000</td>\n",
       "      <td>0.000000</td>\n",
       "      <td>276.000000</td>\n",
       "      <td>4.000000</td>\n",
       "    </tr>\n",
       "    <tr>\n",
       "      <th>25%</th>\n",
       "      <td>23.000000</td>\n",
       "      <td>2.000000</td>\n",
       "      <td>1280.250000</td>\n",
       "      <td>12.000000</td>\n",
       "    </tr>\n",
       "    <tr>\n",
       "      <th>50%</th>\n",
       "      <td>25.000000</td>\n",
       "      <td>2.000000</td>\n",
       "      <td>2143.500000</td>\n",
       "      <td>18.000000</td>\n",
       "    </tr>\n",
       "    <tr>\n",
       "      <th>75%</th>\n",
       "      <td>27.000000</td>\n",
       "      <td>2.000000</td>\n",
       "      <td>3620.750000</td>\n",
       "      <td>24.000000</td>\n",
       "    </tr>\n",
       "    <tr>\n",
       "      <th>max</th>\n",
       "      <td>30.000000</td>\n",
       "      <td>3.000000</td>\n",
       "      <td>15672.000000</td>\n",
       "      <td>72.000000</td>\n",
       "    </tr>\n",
       "  </tbody>\n",
       "</table>\n",
       "</div>"
      ],
      "text/plain": [
       "              Age         Job  Credit amount    Duration\n",
       "count  352.000000  352.000000     352.000000  352.000000\n",
       "mean    25.082386    1.838068    2899.704545   20.968750\n",
       "std      2.531067    0.564298    2491.481226   12.134415\n",
       "min     19.000000    0.000000     276.000000    4.000000\n",
       "25%     23.000000    2.000000    1280.250000   12.000000\n",
       "50%     25.000000    2.000000    2143.500000   18.000000\n",
       "75%     27.000000    2.000000    3620.750000   24.000000\n",
       "max     30.000000    3.000000   15672.000000   72.000000"
      ]
     },
     "execution_count": 535,
     "metadata": {},
     "output_type": "execute_result"
    }
   ],
   "source": [
    "grup0.describe(include='number')"
   ]
  },
  {
   "cell_type": "markdown",
   "metadata": {},
   "source": [
    "- Untuk numerical data, didapatkan bahwa rata-rata umurnya adalah umur muda, dengan credit amount rata rata 2800 US$ dengan durasi 20 bulan."
   ]
  },
  {
   "cell_type": "code",
   "execution_count": 537,
   "metadata": {},
   "outputs": [
    {
     "data": {
      "text/html": [
       "<div>\n",
       "<style scoped>\n",
       "    .dataframe tbody tr th:only-of-type {\n",
       "        vertical-align: middle;\n",
       "    }\n",
       "\n",
       "    .dataframe tbody tr th {\n",
       "        vertical-align: top;\n",
       "    }\n",
       "\n",
       "    .dataframe thead th {\n",
       "        text-align: right;\n",
       "    }\n",
       "</style>\n",
       "<table border=\"1\" class=\"dataframe\">\n",
       "  <thead>\n",
       "    <tr style=\"text-align: right;\">\n",
       "      <th></th>\n",
       "      <th>Sex</th>\n",
       "      <th>Housing</th>\n",
       "      <th>Saving accounts</th>\n",
       "      <th>Checking account</th>\n",
       "      <th>Purpose</th>\n",
       "    </tr>\n",
       "  </thead>\n",
       "  <tbody>\n",
       "    <tr>\n",
       "      <th>count</th>\n",
       "      <td>352</td>\n",
       "      <td>352</td>\n",
       "      <td>352</td>\n",
       "      <td>352</td>\n",
       "      <td>352</td>\n",
       "    </tr>\n",
       "    <tr>\n",
       "      <th>unique</th>\n",
       "      <td>2</td>\n",
       "      <td>3</td>\n",
       "      <td>4</td>\n",
       "      <td>3</td>\n",
       "      <td>8</td>\n",
       "    </tr>\n",
       "    <tr>\n",
       "      <th>top</th>\n",
       "      <td>male</td>\n",
       "      <td>own</td>\n",
       "      <td>little</td>\n",
       "      <td>little</td>\n",
       "      <td>radio/TV</td>\n",
       "    </tr>\n",
       "    <tr>\n",
       "      <th>freq</th>\n",
       "      <td>185</td>\n",
       "      <td>242</td>\n",
       "      <td>279</td>\n",
       "      <td>221</td>\n",
       "      <td>114</td>\n",
       "    </tr>\n",
       "  </tbody>\n",
       "</table>\n",
       "</div>"
      ],
      "text/plain": [
       "         Sex Housing Saving accounts Checking account   Purpose\n",
       "count    352     352             352              352       352\n",
       "unique     2       3               4                3         8\n",
       "top     male     own          little           little  radio/TV\n",
       "freq     185     242             279              221       114"
      ]
     },
     "execution_count": 537,
     "metadata": {},
     "output_type": "execute_result"
    }
   ],
   "source": [
    "grup0.describe(include='object')"
   ]
  },
  {
   "cell_type": "markdown",
   "metadata": {},
   "source": [
    "- Untuk kategorikal data, didapatkan bahwa rata-rata peminjam adalah laki-laki dan memiliki jumlah saving yang little.\n",
    "- Tujuan credit adalah untuk membeli radio/TV"
   ]
  },
  {
   "cell_type": "code",
   "execution_count": 548,
   "metadata": {},
   "outputs": [],
   "source": [
    "#Untuk grup yang teramasuk kedalam Cluster 1 atau 'Good'\n",
    "grup1 = data.loc[clustered_data['Cluster']==1,:]"
   ]
  },
  {
   "cell_type": "code",
   "execution_count": 539,
   "metadata": {},
   "outputs": [
    {
     "data": {
      "text/html": [
       "<div>\n",
       "<style scoped>\n",
       "    .dataframe tbody tr th:only-of-type {\n",
       "        vertical-align: middle;\n",
       "    }\n",
       "\n",
       "    .dataframe tbody tr th {\n",
       "        vertical-align: top;\n",
       "    }\n",
       "\n",
       "    .dataframe thead th {\n",
       "        text-align: right;\n",
       "    }\n",
       "</style>\n",
       "<table border=\"1\" class=\"dataframe\">\n",
       "  <thead>\n",
       "    <tr style=\"text-align: right;\">\n",
       "      <th></th>\n",
       "      <th>Age</th>\n",
       "      <th>Job</th>\n",
       "      <th>Credit amount</th>\n",
       "      <th>Duration</th>\n",
       "    </tr>\n",
       "  </thead>\n",
       "  <tbody>\n",
       "    <tr>\n",
       "      <th>count</th>\n",
       "      <td>201.000000</td>\n",
       "      <td>201.000000</td>\n",
       "      <td>201.000000</td>\n",
       "      <td>201.000000</td>\n",
       "    </tr>\n",
       "    <tr>\n",
       "      <th>mean</th>\n",
       "      <td>53.641791</td>\n",
       "      <td>1.835821</td>\n",
       "      <td>2940.562189</td>\n",
       "      <td>20.104478</td>\n",
       "    </tr>\n",
       "    <tr>\n",
       "      <th>std</th>\n",
       "      <td>7.776956</td>\n",
       "      <td>0.698506</td>\n",
       "      <td>2689.464989</td>\n",
       "      <td>12.243530</td>\n",
       "    </tr>\n",
       "    <tr>\n",
       "      <th>min</th>\n",
       "      <td>43.000000</td>\n",
       "      <td>0.000000</td>\n",
       "      <td>338.000000</td>\n",
       "      <td>5.000000</td>\n",
       "    </tr>\n",
       "    <tr>\n",
       "      <th>25%</th>\n",
       "      <td>47.000000</td>\n",
       "      <td>1.000000</td>\n",
       "      <td>1258.000000</td>\n",
       "      <td>12.000000</td>\n",
       "    </tr>\n",
       "    <tr>\n",
       "      <th>50%</th>\n",
       "      <td>52.000000</td>\n",
       "      <td>2.000000</td>\n",
       "      <td>2012.000000</td>\n",
       "      <td>18.000000</td>\n",
       "    </tr>\n",
       "    <tr>\n",
       "      <th>75%</th>\n",
       "      <td>59.000000</td>\n",
       "      <td>2.000000</td>\n",
       "      <td>3578.000000</td>\n",
       "      <td>24.000000</td>\n",
       "    </tr>\n",
       "    <tr>\n",
       "      <th>max</th>\n",
       "      <td>75.000000</td>\n",
       "      <td>3.000000</td>\n",
       "      <td>15945.000000</td>\n",
       "      <td>60.000000</td>\n",
       "    </tr>\n",
       "  </tbody>\n",
       "</table>\n",
       "</div>"
      ],
      "text/plain": [
       "              Age         Job  Credit amount    Duration\n",
       "count  201.000000  201.000000     201.000000  201.000000\n",
       "mean    53.641791    1.835821    2940.562189   20.104478\n",
       "std      7.776956    0.698506    2689.464989   12.243530\n",
       "min     43.000000    0.000000     338.000000    5.000000\n",
       "25%     47.000000    1.000000    1258.000000   12.000000\n",
       "50%     52.000000    2.000000    2012.000000   18.000000\n",
       "75%     59.000000    2.000000    3578.000000   24.000000\n",
       "max     75.000000    3.000000   15945.000000   60.000000"
      ]
     },
     "execution_count": 539,
     "metadata": {},
     "output_type": "execute_result"
    }
   ],
   "source": [
    "grup1.describe()"
   ]
  },
  {
   "cell_type": "markdown",
   "metadata": {},
   "source": [
    "- Untuk numerical data, didapatkan bahwa rata-rata umurnya adalah umur tua, dengan credit amount rata rata 2900 US$ dengan durasi 20 bulan."
   ]
  },
  {
   "cell_type": "code",
   "execution_count": 540,
   "metadata": {},
   "outputs": [
    {
     "data": {
      "text/html": [
       "<div>\n",
       "<style scoped>\n",
       "    .dataframe tbody tr th:only-of-type {\n",
       "        vertical-align: middle;\n",
       "    }\n",
       "\n",
       "    .dataframe tbody tr th {\n",
       "        vertical-align: top;\n",
       "    }\n",
       "\n",
       "    .dataframe thead th {\n",
       "        text-align: right;\n",
       "    }\n",
       "</style>\n",
       "<table border=\"1\" class=\"dataframe\">\n",
       "  <thead>\n",
       "    <tr style=\"text-align: right;\">\n",
       "      <th></th>\n",
       "      <th>Sex</th>\n",
       "      <th>Housing</th>\n",
       "      <th>Saving accounts</th>\n",
       "      <th>Checking account</th>\n",
       "      <th>Purpose</th>\n",
       "    </tr>\n",
       "  </thead>\n",
       "  <tbody>\n",
       "    <tr>\n",
       "      <th>count</th>\n",
       "      <td>201</td>\n",
       "      <td>201</td>\n",
       "      <td>201</td>\n",
       "      <td>201</td>\n",
       "      <td>201</td>\n",
       "    </tr>\n",
       "    <tr>\n",
       "      <th>unique</th>\n",
       "      <td>2</td>\n",
       "      <td>3</td>\n",
       "      <td>4</td>\n",
       "      <td>3</td>\n",
       "      <td>8</td>\n",
       "    </tr>\n",
       "    <tr>\n",
       "      <th>top</th>\n",
       "      <td>male</td>\n",
       "      <td>own</td>\n",
       "      <td>little</td>\n",
       "      <td>little</td>\n",
       "      <td>car</td>\n",
       "    </tr>\n",
       "    <tr>\n",
       "      <th>freq</th>\n",
       "      <td>151</td>\n",
       "      <td>138</td>\n",
       "      <td>160</td>\n",
       "      <td>142</td>\n",
       "      <td>76</td>\n",
       "    </tr>\n",
       "  </tbody>\n",
       "</table>\n",
       "</div>"
      ],
      "text/plain": [
       "         Sex Housing Saving accounts Checking account Purpose\n",
       "count    201     201             201              201     201\n",
       "unique     2       3               4                3       8\n",
       "top     male     own          little           little     car\n",
       "freq     151     138             160              142      76"
      ]
     },
     "execution_count": 540,
     "metadata": {},
     "output_type": "execute_result"
    }
   ],
   "source": [
    "grup1.describe(include='object')"
   ]
  },
  {
   "cell_type": "markdown",
   "metadata": {},
   "source": [
    "- Untuk kategorikal data, didapatkan bahwa rata-rata gendernya adalah laki laki, dengan jumlah savings yang sedikit dan tujuan credit adalah untuk membeli mobil."
   ]
  },
  {
   "cell_type": "code",
   "execution_count": 549,
   "metadata": {},
   "outputs": [],
   "source": [
    "#Untuk kluster yang termasuk kedalam cluster 2 atau 'SAFE'\n",
    "grup2 = data.loc[clustered_data['Cluster']==2,:]"
   ]
  },
  {
   "cell_type": "code",
   "execution_count": 542,
   "metadata": {},
   "outputs": [
    {
     "data": {
      "text/html": [
       "<div>\n",
       "<style scoped>\n",
       "    .dataframe tbody tr th:only-of-type {\n",
       "        vertical-align: middle;\n",
       "    }\n",
       "\n",
       "    .dataframe tbody tr th {\n",
       "        vertical-align: top;\n",
       "    }\n",
       "\n",
       "    .dataframe thead th {\n",
       "        text-align: right;\n",
       "    }\n",
       "</style>\n",
       "<table border=\"1\" class=\"dataframe\">\n",
       "  <thead>\n",
       "    <tr style=\"text-align: right;\">\n",
       "      <th></th>\n",
       "      <th>Age</th>\n",
       "      <th>Job</th>\n",
       "      <th>Credit amount</th>\n",
       "      <th>Duration</th>\n",
       "    </tr>\n",
       "  </thead>\n",
       "  <tbody>\n",
       "    <tr>\n",
       "      <th>count</th>\n",
       "      <td>195.000000</td>\n",
       "      <td>195.000000</td>\n",
       "      <td>195.000000</td>\n",
       "      <td>195.000000</td>\n",
       "    </tr>\n",
       "    <tr>\n",
       "      <th>mean</th>\n",
       "      <td>36.128205</td>\n",
       "      <td>2.087179</td>\n",
       "      <td>5580.917949</td>\n",
       "      <td>19.246154</td>\n",
       "    </tr>\n",
       "    <tr>\n",
       "      <th>std</th>\n",
       "      <td>5.932522</td>\n",
       "      <td>0.744457</td>\n",
       "      <td>3511.643181</td>\n",
       "      <td>12.310875</td>\n",
       "    </tr>\n",
       "    <tr>\n",
       "      <th>min</th>\n",
       "      <td>23.000000</td>\n",
       "      <td>0.000000</td>\n",
       "      <td>1050.000000</td>\n",
       "      <td>4.000000</td>\n",
       "    </tr>\n",
       "    <tr>\n",
       "      <th>25%</th>\n",
       "      <td>32.000000</td>\n",
       "      <td>2.000000</td>\n",
       "      <td>2853.500000</td>\n",
       "      <td>9.000000</td>\n",
       "    </tr>\n",
       "    <tr>\n",
       "      <th>50%</th>\n",
       "      <td>35.000000</td>\n",
       "      <td>2.000000</td>\n",
       "      <td>4611.000000</td>\n",
       "      <td>18.000000</td>\n",
       "    </tr>\n",
       "    <tr>\n",
       "      <th>75%</th>\n",
       "      <td>40.000000</td>\n",
       "      <td>3.000000</td>\n",
       "      <td>7699.500000</td>\n",
       "      <td>24.000000</td>\n",
       "    </tr>\n",
       "    <tr>\n",
       "      <th>max</th>\n",
       "      <td>68.000000</td>\n",
       "      <td>3.000000</td>\n",
       "      <td>18424.000000</td>\n",
       "      <td>60.000000</td>\n",
       "    </tr>\n",
       "  </tbody>\n",
       "</table>\n",
       "</div>"
      ],
      "text/plain": [
       "              Age         Job  Credit amount    Duration\n",
       "count  195.000000  195.000000     195.000000  195.000000\n",
       "mean    36.128205    2.087179    5580.917949   19.246154\n",
       "std      5.932522    0.744457    3511.643181   12.310875\n",
       "min     23.000000    0.000000    1050.000000    4.000000\n",
       "25%     32.000000    2.000000    2853.500000    9.000000\n",
       "50%     35.000000    2.000000    4611.000000   18.000000\n",
       "75%     40.000000    3.000000    7699.500000   24.000000\n",
       "max     68.000000    3.000000   18424.000000   60.000000"
      ]
     },
     "execution_count": 542,
     "metadata": {},
     "output_type": "execute_result"
    }
   ],
   "source": [
    "grup2.describe()"
   ]
  },
  {
   "cell_type": "markdown",
   "metadata": {},
   "source": [
    "- Untuk numerical data, didapatkan bahwa rata-rata umurnya adalah umur sedang, dengan credit amount rata rata 5580 US$ dengan durasi 19 bulan."
   ]
  },
  {
   "cell_type": "code",
   "execution_count": 543,
   "metadata": {},
   "outputs": [
    {
     "data": {
      "text/html": [
       "<div>\n",
       "<style scoped>\n",
       "    .dataframe tbody tr th:only-of-type {\n",
       "        vertical-align: middle;\n",
       "    }\n",
       "\n",
       "    .dataframe tbody tr th {\n",
       "        vertical-align: top;\n",
       "    }\n",
       "\n",
       "    .dataframe thead th {\n",
       "        text-align: right;\n",
       "    }\n",
       "</style>\n",
       "<table border=\"1\" class=\"dataframe\">\n",
       "  <thead>\n",
       "    <tr style=\"text-align: right;\">\n",
       "      <th></th>\n",
       "      <th>Sex</th>\n",
       "      <th>Housing</th>\n",
       "      <th>Saving accounts</th>\n",
       "      <th>Checking account</th>\n",
       "      <th>Purpose</th>\n",
       "    </tr>\n",
       "  </thead>\n",
       "  <tbody>\n",
       "    <tr>\n",
       "      <th>count</th>\n",
       "      <td>195</td>\n",
       "      <td>195</td>\n",
       "      <td>195</td>\n",
       "      <td>195</td>\n",
       "      <td>195</td>\n",
       "    </tr>\n",
       "    <tr>\n",
       "      <th>unique</th>\n",
       "      <td>2</td>\n",
       "      <td>3</td>\n",
       "      <td>4</td>\n",
       "      <td>3</td>\n",
       "      <td>7</td>\n",
       "    </tr>\n",
       "    <tr>\n",
       "      <th>top</th>\n",
       "      <td>male</td>\n",
       "      <td>own</td>\n",
       "      <td>little</td>\n",
       "      <td>little</td>\n",
       "      <td>car</td>\n",
       "    </tr>\n",
       "    <tr>\n",
       "      <th>freq</th>\n",
       "      <td>161</td>\n",
       "      <td>136</td>\n",
       "      <td>160</td>\n",
       "      <td>132</td>\n",
       "      <td>92</td>\n",
       "    </tr>\n",
       "  </tbody>\n",
       "</table>\n",
       "</div>"
      ],
      "text/plain": [
       "         Sex Housing Saving accounts Checking account Purpose\n",
       "count    195     195             195              195     195\n",
       "unique     2       3               4                3       7\n",
       "top     male     own          little           little     car\n",
       "freq     161     136             160              132      92"
      ]
     },
     "execution_count": 543,
     "metadata": {},
     "output_type": "execute_result"
    }
   ],
   "source": [
    "grup2.describe(include='object')"
   ]
  },
  {
   "cell_type": "markdown",
   "metadata": {},
   "source": [
    "- Untuk kategorikal data, didapatkan bahwa rata-rata gendernya adalah laki laki, dengan jumlah savings yang little.\n",
    "- tujuan dari credit adalah untuk membeli mobil"
   ]
  },
  {
   "cell_type": "code",
   "execution_count": 550,
   "metadata": {},
   "outputs": [],
   "source": [
    "#Untuk kluster 3 dan yang termasuk ke dalam 'RISK'\n",
    "grup3 = data.loc[clustered_data['Cluster']==3,:]"
   ]
  },
  {
   "cell_type": "code",
   "execution_count": 545,
   "metadata": {},
   "outputs": [
    {
     "data": {
      "text/html": [
       "<div>\n",
       "<style scoped>\n",
       "    .dataframe tbody tr th:only-of-type {\n",
       "        vertical-align: middle;\n",
       "    }\n",
       "\n",
       "    .dataframe tbody tr th {\n",
       "        vertical-align: top;\n",
       "    }\n",
       "\n",
       "    .dataframe thead th {\n",
       "        text-align: right;\n",
       "    }\n",
       "</style>\n",
       "<table border=\"1\" class=\"dataframe\">\n",
       "  <thead>\n",
       "    <tr style=\"text-align: right;\">\n",
       "      <th></th>\n",
       "      <th>Age</th>\n",
       "      <th>Job</th>\n",
       "      <th>Credit amount</th>\n",
       "      <th>Duration</th>\n",
       "    </tr>\n",
       "  </thead>\n",
       "  <tbody>\n",
       "    <tr>\n",
       "      <th>count</th>\n",
       "      <td>252.000000</td>\n",
       "      <td>252.000000</td>\n",
       "      <td>252.000000</td>\n",
       "      <td>252.000000</td>\n",
       "    </tr>\n",
       "    <tr>\n",
       "      <th>mean</th>\n",
       "      <td>35.277778</td>\n",
       "      <td>1.908730</td>\n",
       "      <td>2266.785714</td>\n",
       "      <td>22.730159</td>\n",
       "    </tr>\n",
       "    <tr>\n",
       "      <th>std</th>\n",
       "      <td>3.816798</td>\n",
       "      <td>0.634031</td>\n",
       "      <td>1516.181827</td>\n",
       "      <td>11.413568</td>\n",
       "    </tr>\n",
       "    <tr>\n",
       "      <th>min</th>\n",
       "      <td>29.000000</td>\n",
       "      <td>0.000000</td>\n",
       "      <td>250.000000</td>\n",
       "      <td>6.000000</td>\n",
       "    </tr>\n",
       "    <tr>\n",
       "      <th>25%</th>\n",
       "      <td>32.000000</td>\n",
       "      <td>2.000000</td>\n",
       "      <td>1281.000000</td>\n",
       "      <td>12.000000</td>\n",
       "    </tr>\n",
       "    <tr>\n",
       "      <th>50%</th>\n",
       "      <td>35.000000</td>\n",
       "      <td>2.000000</td>\n",
       "      <td>1862.000000</td>\n",
       "      <td>21.000000</td>\n",
       "    </tr>\n",
       "    <tr>\n",
       "      <th>75%</th>\n",
       "      <td>38.000000</td>\n",
       "      <td>2.000000</td>\n",
       "      <td>2776.750000</td>\n",
       "      <td>27.000000</td>\n",
       "    </tr>\n",
       "    <tr>\n",
       "      <th>max</th>\n",
       "      <td>45.000000</td>\n",
       "      <td>3.000000</td>\n",
       "      <td>7685.000000</td>\n",
       "      <td>60.000000</td>\n",
       "    </tr>\n",
       "  </tbody>\n",
       "</table>\n",
       "</div>"
      ],
      "text/plain": [
       "              Age         Job  Credit amount    Duration\n",
       "count  252.000000  252.000000     252.000000  252.000000\n",
       "mean    35.277778    1.908730    2266.785714   22.730159\n",
       "std      3.816798    0.634031    1516.181827   11.413568\n",
       "min     29.000000    0.000000     250.000000    6.000000\n",
       "25%     32.000000    2.000000    1281.000000   12.000000\n",
       "50%     35.000000    2.000000    1862.000000   21.000000\n",
       "75%     38.000000    2.000000    2776.750000   27.000000\n",
       "max     45.000000    3.000000    7685.000000   60.000000"
      ]
     },
     "execution_count": 545,
     "metadata": {},
     "output_type": "execute_result"
    }
   ],
   "source": [
    "grup3.describe()"
   ]
  },
  {
   "cell_type": "markdown",
   "metadata": {},
   "source": [
    "- Untuk numerical data, didapatkan bahwa rata-rata umurnya adalah umur sedang, dengan credit amount rata rata 2200 US$ dengan durasi 22 bulan."
   ]
  },
  {
   "cell_type": "code",
   "execution_count": 546,
   "metadata": {
    "scrolled": true
   },
   "outputs": [
    {
     "data": {
      "text/html": [
       "<div>\n",
       "<style scoped>\n",
       "    .dataframe tbody tr th:only-of-type {\n",
       "        vertical-align: middle;\n",
       "    }\n",
       "\n",
       "    .dataframe tbody tr th {\n",
       "        vertical-align: top;\n",
       "    }\n",
       "\n",
       "    .dataframe thead th {\n",
       "        text-align: right;\n",
       "    }\n",
       "</style>\n",
       "<table border=\"1\" class=\"dataframe\">\n",
       "  <thead>\n",
       "    <tr style=\"text-align: right;\">\n",
       "      <th></th>\n",
       "      <th>Sex</th>\n",
       "      <th>Housing</th>\n",
       "      <th>Saving accounts</th>\n",
       "      <th>Checking account</th>\n",
       "      <th>Purpose</th>\n",
       "    </tr>\n",
       "  </thead>\n",
       "  <tbody>\n",
       "    <tr>\n",
       "      <th>count</th>\n",
       "      <td>252</td>\n",
       "      <td>252</td>\n",
       "      <td>252</td>\n",
       "      <td>252</td>\n",
       "      <td>252</td>\n",
       "    </tr>\n",
       "    <tr>\n",
       "      <th>unique</th>\n",
       "      <td>2</td>\n",
       "      <td>3</td>\n",
       "      <td>4</td>\n",
       "      <td>3</td>\n",
       "      <td>8</td>\n",
       "    </tr>\n",
       "    <tr>\n",
       "      <th>top</th>\n",
       "      <td>male</td>\n",
       "      <td>own</td>\n",
       "      <td>little</td>\n",
       "      <td>little</td>\n",
       "      <td>car</td>\n",
       "    </tr>\n",
       "    <tr>\n",
       "      <th>freq</th>\n",
       "      <td>193</td>\n",
       "      <td>197</td>\n",
       "      <td>187</td>\n",
       "      <td>173</td>\n",
       "      <td>78</td>\n",
       "    </tr>\n",
       "  </tbody>\n",
       "</table>\n",
       "</div>"
      ],
      "text/plain": [
       "         Sex Housing Saving accounts Checking account Purpose\n",
       "count    252     252             252              252     252\n",
       "unique     2       3               4                3       8\n",
       "top     male     own          little           little     car\n",
       "freq     193     197             187              173      78"
      ]
     },
     "execution_count": 546,
     "metadata": {},
     "output_type": "execute_result"
    }
   ],
   "source": [
    "grup3.describe(include='object')"
   ]
  },
  {
   "cell_type": "markdown",
   "metadata": {},
   "source": [
    "- Untuk kategorikal data, didapatkan bahwa rata-rata gender adalah laki-laki, dengan jumlah savings sedikit dan tujuan dari credit adalah sebagian besar untuk membeli mobil."
   ]
  },
  {
   "cell_type": "markdown",
   "metadata": {},
   "source": [
    "- Dengan mendapatkan insight dari dataset seperti ini, maka insight satau kesimpulan dari analisa kita akan sangat membantu untuk Business Client yang bergerak di bidang jasa keuangan dan Perbankan. Hal ini karena ketika lembaga keuangan mengetahui tentang segmentasi dari customer mereka, maka lembaga keuangan tersebut bisa melakukan berbagai hal seperti berikut:\n",
    "    1. Melihat apakah customer yang mengajukan credit layak untuk mendapat pinjaman dari bank atau tidak.\n",
    "    2. Mengetahui beberapa informasi dari customer yang tidak bisa dilihat dengan kasat mata.\n",
    "    3. Jika customer layak, maka lembaga keuangan akan tau berapa jumlah pinjaman yang akan dipinjamkan dan lamanya masa pembayaran untuk meminimalisir resiko.\n",
    "    4. Lembaga keuangan juga akan bisa melakukan pengawasan yang lebih terhadap nasabah yang termasuk kluster 3 atau kluster 'RISK'.\n",
    "    5. Dengan mengetahui segmentasi dari customer, maka lembaga keuangan juga bisa melakukan promosi atau marketing yang tepat sesuai dengan kebutuhan customer."
   ]
  },
  {
   "cell_type": "code",
   "execution_count": null,
   "metadata": {},
   "outputs": [],
   "source": []
  }
 ],
 "metadata": {
  "kernelspec": {
   "display_name": "Python 3",
   "language": "python",
   "name": "python3"
  },
  "language_info": {
   "codemirror_mode": {
    "name": "ipython",
    "version": 3
   },
   "file_extension": ".py",
   "mimetype": "text/x-python",
   "name": "python",
   "nbconvert_exporter": "python",
   "pygments_lexer": "ipython3",
   "version": "3.7.3"
  }
 },
 "nbformat": 4,
 "nbformat_minor": 2
}
